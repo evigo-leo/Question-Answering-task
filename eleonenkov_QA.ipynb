{
  "nbformat": 4,
  "nbformat_minor": 0,
  "metadata": {
    "kernelspec": {
      "display_name": "Python 3",
      "language": "python",
      "name": "python3"
    },
    "language_info": {
      "codemirror_mode": {
        "name": "ipython",
        "version": 3
      },
      "file_extension": ".py",
      "mimetype": "text/x-python",
      "name": "python",
      "nbconvert_exporter": "python",
      "pygments_lexer": "ipython3",
      "version": "3.7.4"
    },
    "colab": {
      "name": "eleonenkov_QA.ipynb",
      "provenance": [],
      "collapsed_sections": []
    },
    "accelerator": "GPU",
    "widgets": {
      "application/vnd.jupyter.widget-state+json": {
        "ae6ee6a2cfd7496189a829186256a436": {
          "model_module": "@jupyter-widgets/controls",
          "model_name": "HBoxModel",
          "state": {
            "_view_name": "HBoxView",
            "_dom_classes": [],
            "_model_name": "HBoxModel",
            "_view_module": "@jupyter-widgets/controls",
            "_model_module_version": "1.5.0",
            "_view_count": null,
            "_view_module_version": "1.5.0",
            "box_style": "",
            "layout": "IPY_MODEL_1c02519bda3d494c8bbd64e1512aff15",
            "_model_module": "@jupyter-widgets/controls",
            "children": [
              "IPY_MODEL_94bbc2526e844de6a4dc02d4f6463c8f",
              "IPY_MODEL_56e79c5919bf40df8c28df66caae9dd5"
            ]
          }
        },
        "1c02519bda3d494c8bbd64e1512aff15": {
          "model_module": "@jupyter-widgets/base",
          "model_name": "LayoutModel",
          "state": {
            "_view_name": "LayoutView",
            "grid_template_rows": null,
            "right": null,
            "justify_content": null,
            "_view_module": "@jupyter-widgets/base",
            "overflow": null,
            "_model_module_version": "1.2.0",
            "_view_count": null,
            "flex_flow": null,
            "width": null,
            "min_width": null,
            "border": null,
            "align_items": null,
            "bottom": null,
            "_model_module": "@jupyter-widgets/base",
            "top": null,
            "grid_column": null,
            "overflow_y": null,
            "overflow_x": null,
            "grid_auto_flow": null,
            "grid_area": null,
            "grid_template_columns": null,
            "flex": null,
            "_model_name": "LayoutModel",
            "justify_items": null,
            "grid_row": null,
            "max_height": null,
            "align_content": null,
            "visibility": null,
            "align_self": null,
            "height": null,
            "min_height": null,
            "padding": null,
            "grid_auto_rows": null,
            "grid_gap": null,
            "max_width": null,
            "order": null,
            "_view_module_version": "1.2.0",
            "grid_template_areas": null,
            "object_position": null,
            "object_fit": null,
            "grid_auto_columns": null,
            "margin": null,
            "display": null,
            "left": null
          }
        },
        "94bbc2526e844de6a4dc02d4f6463c8f": {
          "model_module": "@jupyter-widgets/controls",
          "model_name": "FloatProgressModel",
          "state": {
            "_view_name": "ProgressView",
            "style": "IPY_MODEL_52a5a8d5b2ab48a49a7e85c7f727c920",
            "_dom_classes": [],
            "description": "Downloading: 100%",
            "_model_name": "FloatProgressModel",
            "bar_style": "success",
            "max": 391,
            "_view_module": "@jupyter-widgets/controls",
            "_model_module_version": "1.5.0",
            "value": 391,
            "_view_count": null,
            "_view_module_version": "1.5.0",
            "orientation": "horizontal",
            "min": 0,
            "description_tooltip": null,
            "_model_module": "@jupyter-widgets/controls",
            "layout": "IPY_MODEL_d7221b1937884db081918fa12139567e"
          }
        },
        "56e79c5919bf40df8c28df66caae9dd5": {
          "model_module": "@jupyter-widgets/controls",
          "model_name": "HTMLModel",
          "state": {
            "_view_name": "HTMLView",
            "style": "IPY_MODEL_f499a5349247449887957f40062181a1",
            "_dom_classes": [],
            "description": "",
            "_model_name": "HTMLModel",
            "placeholder": "​",
            "_view_module": "@jupyter-widgets/controls",
            "_model_module_version": "1.5.0",
            "value": " 391/391 [00:19&lt;00:00, 20.1B/s]",
            "_view_count": null,
            "_view_module_version": "1.5.0",
            "description_tooltip": null,
            "_model_module": "@jupyter-widgets/controls",
            "layout": "IPY_MODEL_c207f94d26cd4cf58b9d8ff4a613ec46"
          }
        },
        "52a5a8d5b2ab48a49a7e85c7f727c920": {
          "model_module": "@jupyter-widgets/controls",
          "model_name": "ProgressStyleModel",
          "state": {
            "_view_name": "StyleView",
            "_model_name": "ProgressStyleModel",
            "description_width": "initial",
            "_view_module": "@jupyter-widgets/base",
            "_model_module_version": "1.5.0",
            "_view_count": null,
            "_view_module_version": "1.2.0",
            "bar_color": null,
            "_model_module": "@jupyter-widgets/controls"
          }
        },
        "d7221b1937884db081918fa12139567e": {
          "model_module": "@jupyter-widgets/base",
          "model_name": "LayoutModel",
          "state": {
            "_view_name": "LayoutView",
            "grid_template_rows": null,
            "right": null,
            "justify_content": null,
            "_view_module": "@jupyter-widgets/base",
            "overflow": null,
            "_model_module_version": "1.2.0",
            "_view_count": null,
            "flex_flow": null,
            "width": null,
            "min_width": null,
            "border": null,
            "align_items": null,
            "bottom": null,
            "_model_module": "@jupyter-widgets/base",
            "top": null,
            "grid_column": null,
            "overflow_y": null,
            "overflow_x": null,
            "grid_auto_flow": null,
            "grid_area": null,
            "grid_template_columns": null,
            "flex": null,
            "_model_name": "LayoutModel",
            "justify_items": null,
            "grid_row": null,
            "max_height": null,
            "align_content": null,
            "visibility": null,
            "align_self": null,
            "height": null,
            "min_height": null,
            "padding": null,
            "grid_auto_rows": null,
            "grid_gap": null,
            "max_width": null,
            "order": null,
            "_view_module_version": "1.2.0",
            "grid_template_areas": null,
            "object_position": null,
            "object_fit": null,
            "grid_auto_columns": null,
            "margin": null,
            "display": null,
            "left": null
          }
        },
        "f499a5349247449887957f40062181a1": {
          "model_module": "@jupyter-widgets/controls",
          "model_name": "DescriptionStyleModel",
          "state": {
            "_view_name": "StyleView",
            "_model_name": "DescriptionStyleModel",
            "description_width": "",
            "_view_module": "@jupyter-widgets/base",
            "_model_module_version": "1.5.0",
            "_view_count": null,
            "_view_module_version": "1.2.0",
            "_model_module": "@jupyter-widgets/controls"
          }
        },
        "c207f94d26cd4cf58b9d8ff4a613ec46": {
          "model_module": "@jupyter-widgets/base",
          "model_name": "LayoutModel",
          "state": {
            "_view_name": "LayoutView",
            "grid_template_rows": null,
            "right": null,
            "justify_content": null,
            "_view_module": "@jupyter-widgets/base",
            "overflow": null,
            "_model_module_version": "1.2.0",
            "_view_count": null,
            "flex_flow": null,
            "width": null,
            "min_width": null,
            "border": null,
            "align_items": null,
            "bottom": null,
            "_model_module": "@jupyter-widgets/base",
            "top": null,
            "grid_column": null,
            "overflow_y": null,
            "overflow_x": null,
            "grid_auto_flow": null,
            "grid_area": null,
            "grid_template_columns": null,
            "flex": null,
            "_model_name": "LayoutModel",
            "justify_items": null,
            "grid_row": null,
            "max_height": null,
            "align_content": null,
            "visibility": null,
            "align_self": null,
            "height": null,
            "min_height": null,
            "padding": null,
            "grid_auto_rows": null,
            "grid_gap": null,
            "max_width": null,
            "order": null,
            "_view_module_version": "1.2.0",
            "grid_template_areas": null,
            "object_position": null,
            "object_fit": null,
            "grid_auto_columns": null,
            "margin": null,
            "display": null,
            "left": null
          }
        },
        "42105381de2143849f4ca0808f39368b": {
          "model_module": "@jupyter-widgets/controls",
          "model_name": "HBoxModel",
          "state": {
            "_view_name": "HBoxView",
            "_dom_classes": [],
            "_model_name": "HBoxModel",
            "_view_module": "@jupyter-widgets/controls",
            "_model_module_version": "1.5.0",
            "_view_count": null,
            "_view_module_version": "1.5.0",
            "box_style": "",
            "layout": "IPY_MODEL_4a2ea70f43ce4226bd957f822bb3666e",
            "_model_module": "@jupyter-widgets/controls",
            "children": [
              "IPY_MODEL_9a668a92302b4299ad5fbaf55977658e",
              "IPY_MODEL_a57fb25a4b2644edbcff5d5ec5097052"
            ]
          }
        },
        "4a2ea70f43ce4226bd957f822bb3666e": {
          "model_module": "@jupyter-widgets/base",
          "model_name": "LayoutModel",
          "state": {
            "_view_name": "LayoutView",
            "grid_template_rows": null,
            "right": null,
            "justify_content": null,
            "_view_module": "@jupyter-widgets/base",
            "overflow": null,
            "_model_module_version": "1.2.0",
            "_view_count": null,
            "flex_flow": null,
            "width": null,
            "min_width": null,
            "border": null,
            "align_items": null,
            "bottom": null,
            "_model_module": "@jupyter-widgets/base",
            "top": null,
            "grid_column": null,
            "overflow_y": null,
            "overflow_x": null,
            "grid_auto_flow": null,
            "grid_area": null,
            "grid_template_columns": null,
            "flex": null,
            "_model_name": "LayoutModel",
            "justify_items": null,
            "grid_row": null,
            "max_height": null,
            "align_content": null,
            "visibility": null,
            "align_self": null,
            "height": null,
            "min_height": null,
            "padding": null,
            "grid_auto_rows": null,
            "grid_gap": null,
            "max_width": null,
            "order": null,
            "_view_module_version": "1.2.0",
            "grid_template_areas": null,
            "object_position": null,
            "object_fit": null,
            "grid_auto_columns": null,
            "margin": null,
            "display": null,
            "left": null
          }
        },
        "9a668a92302b4299ad5fbaf55977658e": {
          "model_module": "@jupyter-widgets/controls",
          "model_name": "FloatProgressModel",
          "state": {
            "_view_name": "ProgressView",
            "style": "IPY_MODEL_53dd7d0c56274203a4f5543ed61aec02",
            "_dom_classes": [],
            "description": "Downloading: 100%",
            "_model_name": "FloatProgressModel",
            "bar_style": "success",
            "max": 3585,
            "_view_module": "@jupyter-widgets/controls",
            "_model_module_version": "1.5.0",
            "value": 3585,
            "_view_count": null,
            "_view_module_version": "1.5.0",
            "orientation": "horizontal",
            "min": 0,
            "description_tooltip": null,
            "_model_module": "@jupyter-widgets/controls",
            "layout": "IPY_MODEL_cfef7aed15374cdb984039fc2a082ef2"
          }
        },
        "a57fb25a4b2644edbcff5d5ec5097052": {
          "model_module": "@jupyter-widgets/controls",
          "model_name": "HTMLModel",
          "state": {
            "_view_name": "HTMLView",
            "style": "IPY_MODEL_63add71128ea4a129eee568cf4f504cc",
            "_dom_classes": [],
            "description": "",
            "_model_name": "HTMLModel",
            "placeholder": "​",
            "_view_module": "@jupyter-widgets/controls",
            "_model_module_version": "1.5.0",
            "value": " 3.58k/3.58k [00:00&lt;00:00, 4.73kB/s]",
            "_view_count": null,
            "_view_module_version": "1.5.0",
            "description_tooltip": null,
            "_model_module": "@jupyter-widgets/controls",
            "layout": "IPY_MODEL_e562b16aed0a44f5abb13e5af199245f"
          }
        },
        "53dd7d0c56274203a4f5543ed61aec02": {
          "model_module": "@jupyter-widgets/controls",
          "model_name": "ProgressStyleModel",
          "state": {
            "_view_name": "StyleView",
            "_model_name": "ProgressStyleModel",
            "description_width": "initial",
            "_view_module": "@jupyter-widgets/base",
            "_model_module_version": "1.5.0",
            "_view_count": null,
            "_view_module_version": "1.2.0",
            "bar_color": null,
            "_model_module": "@jupyter-widgets/controls"
          }
        },
        "cfef7aed15374cdb984039fc2a082ef2": {
          "model_module": "@jupyter-widgets/base",
          "model_name": "LayoutModel",
          "state": {
            "_view_name": "LayoutView",
            "grid_template_rows": null,
            "right": null,
            "justify_content": null,
            "_view_module": "@jupyter-widgets/base",
            "overflow": null,
            "_model_module_version": "1.2.0",
            "_view_count": null,
            "flex_flow": null,
            "width": null,
            "min_width": null,
            "border": null,
            "align_items": null,
            "bottom": null,
            "_model_module": "@jupyter-widgets/base",
            "top": null,
            "grid_column": null,
            "overflow_y": null,
            "overflow_x": null,
            "grid_auto_flow": null,
            "grid_area": null,
            "grid_template_columns": null,
            "flex": null,
            "_model_name": "LayoutModel",
            "justify_items": null,
            "grid_row": null,
            "max_height": null,
            "align_content": null,
            "visibility": null,
            "align_self": null,
            "height": null,
            "min_height": null,
            "padding": null,
            "grid_auto_rows": null,
            "grid_gap": null,
            "max_width": null,
            "order": null,
            "_view_module_version": "1.2.0",
            "grid_template_areas": null,
            "object_position": null,
            "object_fit": null,
            "grid_auto_columns": null,
            "margin": null,
            "display": null,
            "left": null
          }
        },
        "63add71128ea4a129eee568cf4f504cc": {
          "model_module": "@jupyter-widgets/controls",
          "model_name": "DescriptionStyleModel",
          "state": {
            "_view_name": "StyleView",
            "_model_name": "DescriptionStyleModel",
            "description_width": "",
            "_view_module": "@jupyter-widgets/base",
            "_model_module_version": "1.5.0",
            "_view_count": null,
            "_view_module_version": "1.2.0",
            "_model_module": "@jupyter-widgets/controls"
          }
        },
        "e562b16aed0a44f5abb13e5af199245f": {
          "model_module": "@jupyter-widgets/base",
          "model_name": "LayoutModel",
          "state": {
            "_view_name": "LayoutView",
            "grid_template_rows": null,
            "right": null,
            "justify_content": null,
            "_view_module": "@jupyter-widgets/base",
            "overflow": null,
            "_model_module_version": "1.2.0",
            "_view_count": null,
            "flex_flow": null,
            "width": null,
            "min_width": null,
            "border": null,
            "align_items": null,
            "bottom": null,
            "_model_module": "@jupyter-widgets/base",
            "top": null,
            "grid_column": null,
            "overflow_y": null,
            "overflow_x": null,
            "grid_auto_flow": null,
            "grid_area": null,
            "grid_template_columns": null,
            "flex": null,
            "_model_name": "LayoutModel",
            "justify_items": null,
            "grid_row": null,
            "max_height": null,
            "align_content": null,
            "visibility": null,
            "align_self": null,
            "height": null,
            "min_height": null,
            "padding": null,
            "grid_auto_rows": null,
            "grid_gap": null,
            "max_width": null,
            "order": null,
            "_view_module_version": "1.2.0",
            "grid_template_areas": null,
            "object_position": null,
            "object_fit": null,
            "grid_auto_columns": null,
            "margin": null,
            "display": null,
            "left": null
          }
        },
        "3873bc05861c466f896832a2c861f4fa": {
          "model_module": "@jupyter-widgets/controls",
          "model_name": "HBoxModel",
          "state": {
            "_view_name": "HBoxView",
            "_dom_classes": [],
            "_model_name": "HBoxModel",
            "_view_module": "@jupyter-widgets/controls",
            "_model_module_version": "1.5.0",
            "_view_count": null,
            "_view_module_version": "1.5.0",
            "box_style": "",
            "layout": "IPY_MODEL_db48f628c7fa4067b7614017344a1d7f",
            "_model_module": "@jupyter-widgets/controls",
            "children": [
              "IPY_MODEL_d9335d9f7dec4036a04f5f7d8b8c9750",
              "IPY_MODEL_6109c7e51c5141f5838659e39ab3a5fa"
            ]
          }
        },
        "db48f628c7fa4067b7614017344a1d7f": {
          "model_module": "@jupyter-widgets/base",
          "model_name": "LayoutModel",
          "state": {
            "_view_name": "LayoutView",
            "grid_template_rows": null,
            "right": null,
            "justify_content": null,
            "_view_module": "@jupyter-widgets/base",
            "overflow": null,
            "_model_module_version": "1.2.0",
            "_view_count": null,
            "flex_flow": null,
            "width": null,
            "min_width": null,
            "border": null,
            "align_items": null,
            "bottom": null,
            "_model_module": "@jupyter-widgets/base",
            "top": null,
            "grid_column": null,
            "overflow_y": null,
            "overflow_x": null,
            "grid_auto_flow": null,
            "grid_area": null,
            "grid_template_columns": null,
            "flex": null,
            "_model_name": "LayoutModel",
            "justify_items": null,
            "grid_row": null,
            "max_height": null,
            "align_content": null,
            "visibility": null,
            "align_self": null,
            "height": null,
            "min_height": null,
            "padding": null,
            "grid_auto_rows": null,
            "grid_gap": null,
            "max_width": null,
            "order": null,
            "_view_module_version": "1.2.0",
            "grid_template_areas": null,
            "object_position": null,
            "object_fit": null,
            "grid_auto_columns": null,
            "margin": null,
            "display": null,
            "left": null
          }
        },
        "d9335d9f7dec4036a04f5f7d8b8c9750": {
          "model_module": "@jupyter-widgets/controls",
          "model_name": "FloatProgressModel",
          "state": {
            "_view_name": "ProgressView",
            "style": "IPY_MODEL_e465270f8c524d43944c7a74191fd66f",
            "_dom_classes": [],
            "description": "Downloading: 100%",
            "_model_name": "FloatProgressModel",
            "bar_style": "success",
            "max": 2,
            "_view_module": "@jupyter-widgets/controls",
            "_model_module_version": "1.5.0",
            "value": 2,
            "_view_count": null,
            "_view_module_version": "1.5.0",
            "orientation": "horizontal",
            "min": 0,
            "description_tooltip": null,
            "_model_module": "@jupyter-widgets/controls",
            "layout": "IPY_MODEL_8871319462894904bbd447b852f4e708"
          }
        },
        "6109c7e51c5141f5838659e39ab3a5fa": {
          "model_module": "@jupyter-widgets/controls",
          "model_name": "HTMLModel",
          "state": {
            "_view_name": "HTMLView",
            "style": "IPY_MODEL_ce809e17ac7a4276b7ec3f0183683910",
            "_dom_classes": [],
            "description": "",
            "_model_name": "HTMLModel",
            "placeholder": "​",
            "_view_module": "@jupyter-widgets/controls",
            "_model_module_version": "1.5.0",
            "value": " 2.00/2.00 [00:00&lt;00:00, 3.92B/s]",
            "_view_count": null,
            "_view_module_version": "1.5.0",
            "description_tooltip": null,
            "_model_module": "@jupyter-widgets/controls",
            "layout": "IPY_MODEL_1bc5277e64934b0e80e2975662c2fd86"
          }
        },
        "e465270f8c524d43944c7a74191fd66f": {
          "model_module": "@jupyter-widgets/controls",
          "model_name": "ProgressStyleModel",
          "state": {
            "_view_name": "StyleView",
            "_model_name": "ProgressStyleModel",
            "description_width": "initial",
            "_view_module": "@jupyter-widgets/base",
            "_model_module_version": "1.5.0",
            "_view_count": null,
            "_view_module_version": "1.2.0",
            "bar_color": null,
            "_model_module": "@jupyter-widgets/controls"
          }
        },
        "8871319462894904bbd447b852f4e708": {
          "model_module": "@jupyter-widgets/base",
          "model_name": "LayoutModel",
          "state": {
            "_view_name": "LayoutView",
            "grid_template_rows": null,
            "right": null,
            "justify_content": null,
            "_view_module": "@jupyter-widgets/base",
            "overflow": null,
            "_model_module_version": "1.2.0",
            "_view_count": null,
            "flex_flow": null,
            "width": null,
            "min_width": null,
            "border": null,
            "align_items": null,
            "bottom": null,
            "_model_module": "@jupyter-widgets/base",
            "top": null,
            "grid_column": null,
            "overflow_y": null,
            "overflow_x": null,
            "grid_auto_flow": null,
            "grid_area": null,
            "grid_template_columns": null,
            "flex": null,
            "_model_name": "LayoutModel",
            "justify_items": null,
            "grid_row": null,
            "max_height": null,
            "align_content": null,
            "visibility": null,
            "align_self": null,
            "height": null,
            "min_height": null,
            "padding": null,
            "grid_auto_rows": null,
            "grid_gap": null,
            "max_width": null,
            "order": null,
            "_view_module_version": "1.2.0",
            "grid_template_areas": null,
            "object_position": null,
            "object_fit": null,
            "grid_auto_columns": null,
            "margin": null,
            "display": null,
            "left": null
          }
        },
        "ce809e17ac7a4276b7ec3f0183683910": {
          "model_module": "@jupyter-widgets/controls",
          "model_name": "DescriptionStyleModel",
          "state": {
            "_view_name": "StyleView",
            "_model_name": "DescriptionStyleModel",
            "description_width": "",
            "_view_module": "@jupyter-widgets/base",
            "_model_module_version": "1.5.0",
            "_view_count": null,
            "_view_module_version": "1.2.0",
            "_model_module": "@jupyter-widgets/controls"
          }
        },
        "1bc5277e64934b0e80e2975662c2fd86": {
          "model_module": "@jupyter-widgets/base",
          "model_name": "LayoutModel",
          "state": {
            "_view_name": "LayoutView",
            "grid_template_rows": null,
            "right": null,
            "justify_content": null,
            "_view_module": "@jupyter-widgets/base",
            "overflow": null,
            "_model_module_version": "1.2.0",
            "_view_count": null,
            "flex_flow": null,
            "width": null,
            "min_width": null,
            "border": null,
            "align_items": null,
            "bottom": null,
            "_model_module": "@jupyter-widgets/base",
            "top": null,
            "grid_column": null,
            "overflow_y": null,
            "overflow_x": null,
            "grid_auto_flow": null,
            "grid_area": null,
            "grid_template_columns": null,
            "flex": null,
            "_model_name": "LayoutModel",
            "justify_items": null,
            "grid_row": null,
            "max_height": null,
            "align_content": null,
            "visibility": null,
            "align_self": null,
            "height": null,
            "min_height": null,
            "padding": null,
            "grid_auto_rows": null,
            "grid_gap": null,
            "max_width": null,
            "order": null,
            "_view_module_version": "1.2.0",
            "grid_template_areas": null,
            "object_position": null,
            "object_fit": null,
            "grid_auto_columns": null,
            "margin": null,
            "display": null,
            "left": null
          }
        },
        "2b3ea0a97efe49b3beafdcbaa130fdb9": {
          "model_module": "@jupyter-widgets/controls",
          "model_name": "HBoxModel",
          "state": {
            "_view_name": "HBoxView",
            "_dom_classes": [],
            "_model_name": "HBoxModel",
            "_view_module": "@jupyter-widgets/controls",
            "_model_module_version": "1.5.0",
            "_view_count": null,
            "_view_module_version": "1.5.0",
            "box_style": "",
            "layout": "IPY_MODEL_c782240d97e648c9a258132b223c9528",
            "_model_module": "@jupyter-widgets/controls",
            "children": [
              "IPY_MODEL_46aac3f185fc431f86213223b66aecac",
              "IPY_MODEL_6361221415934013b3ca547c6ab76baa"
            ]
          }
        },
        "c782240d97e648c9a258132b223c9528": {
          "model_module": "@jupyter-widgets/base",
          "model_name": "LayoutModel",
          "state": {
            "_view_name": "LayoutView",
            "grid_template_rows": null,
            "right": null,
            "justify_content": null,
            "_view_module": "@jupyter-widgets/base",
            "overflow": null,
            "_model_module_version": "1.2.0",
            "_view_count": null,
            "flex_flow": null,
            "width": null,
            "min_width": null,
            "border": null,
            "align_items": null,
            "bottom": null,
            "_model_module": "@jupyter-widgets/base",
            "top": null,
            "grid_column": null,
            "overflow_y": null,
            "overflow_x": null,
            "grid_auto_flow": null,
            "grid_area": null,
            "grid_template_columns": null,
            "flex": null,
            "_model_name": "LayoutModel",
            "justify_items": null,
            "grid_row": null,
            "max_height": null,
            "align_content": null,
            "visibility": null,
            "align_self": null,
            "height": null,
            "min_height": null,
            "padding": null,
            "grid_auto_rows": null,
            "grid_gap": null,
            "max_width": null,
            "order": null,
            "_view_module_version": "1.2.0",
            "grid_template_areas": null,
            "object_position": null,
            "object_fit": null,
            "grid_auto_columns": null,
            "margin": null,
            "display": null,
            "left": null
          }
        },
        "46aac3f185fc431f86213223b66aecac": {
          "model_module": "@jupyter-widgets/controls",
          "model_name": "FloatProgressModel",
          "state": {
            "_view_name": "ProgressView",
            "style": "IPY_MODEL_ad5918042da245ada68b75ac02feede5",
            "_dom_classes": [],
            "description": "Downloading: 100%",
            "_model_name": "FloatProgressModel",
            "bar_style": "success",
            "max": 623,
            "_view_module": "@jupyter-widgets/controls",
            "_model_module_version": "1.5.0",
            "value": 623,
            "_view_count": null,
            "_view_module_version": "1.5.0",
            "orientation": "horizontal",
            "min": 0,
            "description_tooltip": null,
            "_model_module": "@jupyter-widgets/controls",
            "layout": "IPY_MODEL_f8fad55332784cdeb57c25642bf7519b"
          }
        },
        "6361221415934013b3ca547c6ab76baa": {
          "model_module": "@jupyter-widgets/controls",
          "model_name": "HTMLModel",
          "state": {
            "_view_name": "HTMLView",
            "style": "IPY_MODEL_c37794873cf44db3ba6f4a6eb50a0a1c",
            "_dom_classes": [],
            "description": "",
            "_model_name": "HTMLModel",
            "placeholder": "​",
            "_view_module": "@jupyter-widgets/controls",
            "_model_module_version": "1.5.0",
            "value": " 623/623 [00:00&lt;00:00, 2.43kB/s]",
            "_view_count": null,
            "_view_module_version": "1.5.0",
            "description_tooltip": null,
            "_model_module": "@jupyter-widgets/controls",
            "layout": "IPY_MODEL_ba4a3cb592ec4e3ba4dc34fbe0361996"
          }
        },
        "ad5918042da245ada68b75ac02feede5": {
          "model_module": "@jupyter-widgets/controls",
          "model_name": "ProgressStyleModel",
          "state": {
            "_view_name": "StyleView",
            "_model_name": "ProgressStyleModel",
            "description_width": "initial",
            "_view_module": "@jupyter-widgets/base",
            "_model_module_version": "1.5.0",
            "_view_count": null,
            "_view_module_version": "1.2.0",
            "bar_color": null,
            "_model_module": "@jupyter-widgets/controls"
          }
        },
        "f8fad55332784cdeb57c25642bf7519b": {
          "model_module": "@jupyter-widgets/base",
          "model_name": "LayoutModel",
          "state": {
            "_view_name": "LayoutView",
            "grid_template_rows": null,
            "right": null,
            "justify_content": null,
            "_view_module": "@jupyter-widgets/base",
            "overflow": null,
            "_model_module_version": "1.2.0",
            "_view_count": null,
            "flex_flow": null,
            "width": null,
            "min_width": null,
            "border": null,
            "align_items": null,
            "bottom": null,
            "_model_module": "@jupyter-widgets/base",
            "top": null,
            "grid_column": null,
            "overflow_y": null,
            "overflow_x": null,
            "grid_auto_flow": null,
            "grid_area": null,
            "grid_template_columns": null,
            "flex": null,
            "_model_name": "LayoutModel",
            "justify_items": null,
            "grid_row": null,
            "max_height": null,
            "align_content": null,
            "visibility": null,
            "align_self": null,
            "height": null,
            "min_height": null,
            "padding": null,
            "grid_auto_rows": null,
            "grid_gap": null,
            "max_width": null,
            "order": null,
            "_view_module_version": "1.2.0",
            "grid_template_areas": null,
            "object_position": null,
            "object_fit": null,
            "grid_auto_columns": null,
            "margin": null,
            "display": null,
            "left": null
          }
        },
        "c37794873cf44db3ba6f4a6eb50a0a1c": {
          "model_module": "@jupyter-widgets/controls",
          "model_name": "DescriptionStyleModel",
          "state": {
            "_view_name": "StyleView",
            "_model_name": "DescriptionStyleModel",
            "description_width": "",
            "_view_module": "@jupyter-widgets/base",
            "_model_module_version": "1.5.0",
            "_view_count": null,
            "_view_module_version": "1.2.0",
            "_model_module": "@jupyter-widgets/controls"
          }
        },
        "ba4a3cb592ec4e3ba4dc34fbe0361996": {
          "model_module": "@jupyter-widgets/base",
          "model_name": "LayoutModel",
          "state": {
            "_view_name": "LayoutView",
            "grid_template_rows": null,
            "right": null,
            "justify_content": null,
            "_view_module": "@jupyter-widgets/base",
            "overflow": null,
            "_model_module_version": "1.2.0",
            "_view_count": null,
            "flex_flow": null,
            "width": null,
            "min_width": null,
            "border": null,
            "align_items": null,
            "bottom": null,
            "_model_module": "@jupyter-widgets/base",
            "top": null,
            "grid_column": null,
            "overflow_y": null,
            "overflow_x": null,
            "grid_auto_flow": null,
            "grid_area": null,
            "grid_template_columns": null,
            "flex": null,
            "_model_name": "LayoutModel",
            "justify_items": null,
            "grid_row": null,
            "max_height": null,
            "align_content": null,
            "visibility": null,
            "align_self": null,
            "height": null,
            "min_height": null,
            "padding": null,
            "grid_auto_rows": null,
            "grid_gap": null,
            "max_width": null,
            "order": null,
            "_view_module_version": "1.2.0",
            "grid_template_areas": null,
            "object_position": null,
            "object_fit": null,
            "grid_auto_columns": null,
            "margin": null,
            "display": null,
            "left": null
          }
        },
        "338534cbe02442d997abb7e67c2b4b8b": {
          "model_module": "@jupyter-widgets/controls",
          "model_name": "HBoxModel",
          "state": {
            "_view_name": "HBoxView",
            "_dom_classes": [],
            "_model_name": "HBoxModel",
            "_view_module": "@jupyter-widgets/controls",
            "_model_module_version": "1.5.0",
            "_view_count": null,
            "_view_module_version": "1.5.0",
            "box_style": "",
            "layout": "IPY_MODEL_dcb26c9ff5224c6bb0eb469e31a30416",
            "_model_module": "@jupyter-widgets/controls",
            "children": [
              "IPY_MODEL_a612639c56694d859ce7ba42c817bcf0",
              "IPY_MODEL_b5a81d89c76741158adee5b2cbf2bbbd"
            ]
          }
        },
        "dcb26c9ff5224c6bb0eb469e31a30416": {
          "model_module": "@jupyter-widgets/base",
          "model_name": "LayoutModel",
          "state": {
            "_view_name": "LayoutView",
            "grid_template_rows": null,
            "right": null,
            "justify_content": null,
            "_view_module": "@jupyter-widgets/base",
            "overflow": null,
            "_model_module_version": "1.2.0",
            "_view_count": null,
            "flex_flow": null,
            "width": null,
            "min_width": null,
            "border": null,
            "align_items": null,
            "bottom": null,
            "_model_module": "@jupyter-widgets/base",
            "top": null,
            "grid_column": null,
            "overflow_y": null,
            "overflow_x": null,
            "grid_auto_flow": null,
            "grid_area": null,
            "grid_template_columns": null,
            "flex": null,
            "_model_name": "LayoutModel",
            "justify_items": null,
            "grid_row": null,
            "max_height": null,
            "align_content": null,
            "visibility": null,
            "align_self": null,
            "height": null,
            "min_height": null,
            "padding": null,
            "grid_auto_rows": null,
            "grid_gap": null,
            "max_width": null,
            "order": null,
            "_view_module_version": "1.2.0",
            "grid_template_areas": null,
            "object_position": null,
            "object_fit": null,
            "grid_auto_columns": null,
            "margin": null,
            "display": null,
            "left": null
          }
        },
        "a612639c56694d859ce7ba42c817bcf0": {
          "model_module": "@jupyter-widgets/controls",
          "model_name": "FloatProgressModel",
          "state": {
            "_view_name": "ProgressView",
            "style": "IPY_MODEL_08d065897aa946a99dd9fc5e3dadc756",
            "_dom_classes": [],
            "description": "Downloading: 100%",
            "_model_name": "FloatProgressModel",
            "bar_style": "success",
            "max": 122,
            "_view_module": "@jupyter-widgets/controls",
            "_model_module_version": "1.5.0",
            "value": 122,
            "_view_count": null,
            "_view_module_version": "1.5.0",
            "orientation": "horizontal",
            "min": 0,
            "description_tooltip": null,
            "_model_module": "@jupyter-widgets/controls",
            "layout": "IPY_MODEL_51b0b758c01c42d183214d615f43520a"
          }
        },
        "b5a81d89c76741158adee5b2cbf2bbbd": {
          "model_module": "@jupyter-widgets/controls",
          "model_name": "HTMLModel",
          "state": {
            "_view_name": "HTMLView",
            "style": "IPY_MODEL_6975ac00bfbc48df81efe6010dbe6ddc",
            "_dom_classes": [],
            "description": "",
            "_model_name": "HTMLModel",
            "placeholder": "​",
            "_view_module": "@jupyter-widgets/controls",
            "_model_module_version": "1.5.0",
            "value": " 122/122 [00:18&lt;00:00, 6.61B/s]",
            "_view_count": null,
            "_view_module_version": "1.5.0",
            "description_tooltip": null,
            "_model_module": "@jupyter-widgets/controls",
            "layout": "IPY_MODEL_85b34162a07044fbb688bad56fe7ed98"
          }
        },
        "08d065897aa946a99dd9fc5e3dadc756": {
          "model_module": "@jupyter-widgets/controls",
          "model_name": "ProgressStyleModel",
          "state": {
            "_view_name": "StyleView",
            "_model_name": "ProgressStyleModel",
            "description_width": "initial",
            "_view_module": "@jupyter-widgets/base",
            "_model_module_version": "1.5.0",
            "_view_count": null,
            "_view_module_version": "1.2.0",
            "bar_color": null,
            "_model_module": "@jupyter-widgets/controls"
          }
        },
        "51b0b758c01c42d183214d615f43520a": {
          "model_module": "@jupyter-widgets/base",
          "model_name": "LayoutModel",
          "state": {
            "_view_name": "LayoutView",
            "grid_template_rows": null,
            "right": null,
            "justify_content": null,
            "_view_module": "@jupyter-widgets/base",
            "overflow": null,
            "_model_module_version": "1.2.0",
            "_view_count": null,
            "flex_flow": null,
            "width": null,
            "min_width": null,
            "border": null,
            "align_items": null,
            "bottom": null,
            "_model_module": "@jupyter-widgets/base",
            "top": null,
            "grid_column": null,
            "overflow_y": null,
            "overflow_x": null,
            "grid_auto_flow": null,
            "grid_area": null,
            "grid_template_columns": null,
            "flex": null,
            "_model_name": "LayoutModel",
            "justify_items": null,
            "grid_row": null,
            "max_height": null,
            "align_content": null,
            "visibility": null,
            "align_self": null,
            "height": null,
            "min_height": null,
            "padding": null,
            "grid_auto_rows": null,
            "grid_gap": null,
            "max_width": null,
            "order": null,
            "_view_module_version": "1.2.0",
            "grid_template_areas": null,
            "object_position": null,
            "object_fit": null,
            "grid_auto_columns": null,
            "margin": null,
            "display": null,
            "left": null
          }
        },
        "6975ac00bfbc48df81efe6010dbe6ddc": {
          "model_module": "@jupyter-widgets/controls",
          "model_name": "DescriptionStyleModel",
          "state": {
            "_view_name": "StyleView",
            "_model_name": "DescriptionStyleModel",
            "description_width": "",
            "_view_module": "@jupyter-widgets/base",
            "_model_module_version": "1.5.0",
            "_view_count": null,
            "_view_module_version": "1.2.0",
            "_model_module": "@jupyter-widgets/controls"
          }
        },
        "85b34162a07044fbb688bad56fe7ed98": {
          "model_module": "@jupyter-widgets/base",
          "model_name": "LayoutModel",
          "state": {
            "_view_name": "LayoutView",
            "grid_template_rows": null,
            "right": null,
            "justify_content": null,
            "_view_module": "@jupyter-widgets/base",
            "overflow": null,
            "_model_module_version": "1.2.0",
            "_view_count": null,
            "flex_flow": null,
            "width": null,
            "min_width": null,
            "border": null,
            "align_items": null,
            "bottom": null,
            "_model_module": "@jupyter-widgets/base",
            "top": null,
            "grid_column": null,
            "overflow_y": null,
            "overflow_x": null,
            "grid_auto_flow": null,
            "grid_area": null,
            "grid_template_columns": null,
            "flex": null,
            "_model_name": "LayoutModel",
            "justify_items": null,
            "grid_row": null,
            "max_height": null,
            "align_content": null,
            "visibility": null,
            "align_self": null,
            "height": null,
            "min_height": null,
            "padding": null,
            "grid_auto_rows": null,
            "grid_gap": null,
            "max_width": null,
            "order": null,
            "_view_module_version": "1.2.0",
            "grid_template_areas": null,
            "object_position": null,
            "object_fit": null,
            "grid_auto_columns": null,
            "margin": null,
            "display": null,
            "left": null
          }
        },
        "1d03094ea61a48fe8e9f5d0e89a997cc": {
          "model_module": "@jupyter-widgets/controls",
          "model_name": "HBoxModel",
          "state": {
            "_view_name": "HBoxView",
            "_dom_classes": [],
            "_model_name": "HBoxModel",
            "_view_module": "@jupyter-widgets/controls",
            "_model_module_version": "1.5.0",
            "_view_count": null,
            "_view_module_version": "1.5.0",
            "box_style": "",
            "layout": "IPY_MODEL_7e6b40edaf8b4b45bc67d969856f5a26",
            "_model_module": "@jupyter-widgets/controls",
            "children": [
              "IPY_MODEL_f7fd781d17ce4880904b184ea474acd6",
              "IPY_MODEL_37d60c4f22574626a74de84630e76353"
            ]
          }
        },
        "7e6b40edaf8b4b45bc67d969856f5a26": {
          "model_module": "@jupyter-widgets/base",
          "model_name": "LayoutModel",
          "state": {
            "_view_name": "LayoutView",
            "grid_template_rows": null,
            "right": null,
            "justify_content": null,
            "_view_module": "@jupyter-widgets/base",
            "overflow": null,
            "_model_module_version": "1.2.0",
            "_view_count": null,
            "flex_flow": null,
            "width": null,
            "min_width": null,
            "border": null,
            "align_items": null,
            "bottom": null,
            "_model_module": "@jupyter-widgets/base",
            "top": null,
            "grid_column": null,
            "overflow_y": null,
            "overflow_x": null,
            "grid_auto_flow": null,
            "grid_area": null,
            "grid_template_columns": null,
            "flex": null,
            "_model_name": "LayoutModel",
            "justify_items": null,
            "grid_row": null,
            "max_height": null,
            "align_content": null,
            "visibility": null,
            "align_self": null,
            "height": null,
            "min_height": null,
            "padding": null,
            "grid_auto_rows": null,
            "grid_gap": null,
            "max_width": null,
            "order": null,
            "_view_module_version": "1.2.0",
            "grid_template_areas": null,
            "object_position": null,
            "object_fit": null,
            "grid_auto_columns": null,
            "margin": null,
            "display": null,
            "left": null
          }
        },
        "f7fd781d17ce4880904b184ea474acd6": {
          "model_module": "@jupyter-widgets/controls",
          "model_name": "FloatProgressModel",
          "state": {
            "_view_name": "ProgressView",
            "style": "IPY_MODEL_35fd0ebc9d774807b33c63d7ae699840",
            "_dom_classes": [],
            "description": "Downloading: 100%",
            "_model_name": "FloatProgressModel",
            "bar_style": "success",
            "max": 229,
            "_view_module": "@jupyter-widgets/controls",
            "_model_module_version": "1.5.0",
            "value": 229,
            "_view_count": null,
            "_view_module_version": "1.5.0",
            "orientation": "horizontal",
            "min": 0,
            "description_tooltip": null,
            "_model_module": "@jupyter-widgets/controls",
            "layout": "IPY_MODEL_fc9fdeddd0824b6885b7bbfebfc4bad2"
          }
        },
        "37d60c4f22574626a74de84630e76353": {
          "model_module": "@jupyter-widgets/controls",
          "model_name": "HTMLModel",
          "state": {
            "_view_name": "HTMLView",
            "style": "IPY_MODEL_12fbf9e36c5349299af28cac24c501b1",
            "_dom_classes": [],
            "description": "",
            "_model_name": "HTMLModel",
            "placeholder": "​",
            "_view_module": "@jupyter-widgets/controls",
            "_model_module_version": "1.5.0",
            "value": " 229/229 [00:15&lt;00:00, 14.4B/s]",
            "_view_count": null,
            "_view_module_version": "1.5.0",
            "description_tooltip": null,
            "_model_module": "@jupyter-widgets/controls",
            "layout": "IPY_MODEL_e3d03e14f471464ba81d1a503ea654ab"
          }
        },
        "35fd0ebc9d774807b33c63d7ae699840": {
          "model_module": "@jupyter-widgets/controls",
          "model_name": "ProgressStyleModel",
          "state": {
            "_view_name": "StyleView",
            "_model_name": "ProgressStyleModel",
            "description_width": "initial",
            "_view_module": "@jupyter-widgets/base",
            "_model_module_version": "1.5.0",
            "_view_count": null,
            "_view_module_version": "1.2.0",
            "bar_color": null,
            "_model_module": "@jupyter-widgets/controls"
          }
        },
        "fc9fdeddd0824b6885b7bbfebfc4bad2": {
          "model_module": "@jupyter-widgets/base",
          "model_name": "LayoutModel",
          "state": {
            "_view_name": "LayoutView",
            "grid_template_rows": null,
            "right": null,
            "justify_content": null,
            "_view_module": "@jupyter-widgets/base",
            "overflow": null,
            "_model_module_version": "1.2.0",
            "_view_count": null,
            "flex_flow": null,
            "width": null,
            "min_width": null,
            "border": null,
            "align_items": null,
            "bottom": null,
            "_model_module": "@jupyter-widgets/base",
            "top": null,
            "grid_column": null,
            "overflow_y": null,
            "overflow_x": null,
            "grid_auto_flow": null,
            "grid_area": null,
            "grid_template_columns": null,
            "flex": null,
            "_model_name": "LayoutModel",
            "justify_items": null,
            "grid_row": null,
            "max_height": null,
            "align_content": null,
            "visibility": null,
            "align_self": null,
            "height": null,
            "min_height": null,
            "padding": null,
            "grid_auto_rows": null,
            "grid_gap": null,
            "max_width": null,
            "order": null,
            "_view_module_version": "1.2.0",
            "grid_template_areas": null,
            "object_position": null,
            "object_fit": null,
            "grid_auto_columns": null,
            "margin": null,
            "display": null,
            "left": null
          }
        },
        "12fbf9e36c5349299af28cac24c501b1": {
          "model_module": "@jupyter-widgets/controls",
          "model_name": "DescriptionStyleModel",
          "state": {
            "_view_name": "StyleView",
            "_model_name": "DescriptionStyleModel",
            "description_width": "",
            "_view_module": "@jupyter-widgets/base",
            "_model_module_version": "1.5.0",
            "_view_count": null,
            "_view_module_version": "1.2.0",
            "_model_module": "@jupyter-widgets/controls"
          }
        },
        "e3d03e14f471464ba81d1a503ea654ab": {
          "model_module": "@jupyter-widgets/base",
          "model_name": "LayoutModel",
          "state": {
            "_view_name": "LayoutView",
            "grid_template_rows": null,
            "right": null,
            "justify_content": null,
            "_view_module": "@jupyter-widgets/base",
            "overflow": null,
            "_model_module_version": "1.2.0",
            "_view_count": null,
            "flex_flow": null,
            "width": null,
            "min_width": null,
            "border": null,
            "align_items": null,
            "bottom": null,
            "_model_module": "@jupyter-widgets/base",
            "top": null,
            "grid_column": null,
            "overflow_y": null,
            "overflow_x": null,
            "grid_auto_flow": null,
            "grid_area": null,
            "grid_template_columns": null,
            "flex": null,
            "_model_name": "LayoutModel",
            "justify_items": null,
            "grid_row": null,
            "max_height": null,
            "align_content": null,
            "visibility": null,
            "align_self": null,
            "height": null,
            "min_height": null,
            "padding": null,
            "grid_auto_rows": null,
            "grid_gap": null,
            "max_width": null,
            "order": null,
            "_view_module_version": "1.2.0",
            "grid_template_areas": null,
            "object_position": null,
            "object_fit": null,
            "grid_auto_columns": null,
            "margin": null,
            "display": null,
            "left": null
          }
        },
        "50be3189a0f241d58655589254be42e5": {
          "model_module": "@jupyter-widgets/controls",
          "model_name": "HBoxModel",
          "state": {
            "_view_name": "HBoxView",
            "_dom_classes": [],
            "_model_name": "HBoxModel",
            "_view_module": "@jupyter-widgets/controls",
            "_model_module_version": "1.5.0",
            "_view_count": null,
            "_view_module_version": "1.5.0",
            "box_style": "",
            "layout": "IPY_MODEL_58c5be64ce8046759b98f63d305a3607",
            "_model_module": "@jupyter-widgets/controls",
            "children": [
              "IPY_MODEL_3b813d4f1c0b46279afaa6a715861892",
              "IPY_MODEL_88ac828c4114430b9861fb011864fabf"
            ]
          }
        },
        "58c5be64ce8046759b98f63d305a3607": {
          "model_module": "@jupyter-widgets/base",
          "model_name": "LayoutModel",
          "state": {
            "_view_name": "LayoutView",
            "grid_template_rows": null,
            "right": null,
            "justify_content": null,
            "_view_module": "@jupyter-widgets/base",
            "overflow": null,
            "_model_module_version": "1.2.0",
            "_view_count": null,
            "flex_flow": null,
            "width": null,
            "min_width": null,
            "border": null,
            "align_items": null,
            "bottom": null,
            "_model_module": "@jupyter-widgets/base",
            "top": null,
            "grid_column": null,
            "overflow_y": null,
            "overflow_x": null,
            "grid_auto_flow": null,
            "grid_area": null,
            "grid_template_columns": null,
            "flex": null,
            "_model_name": "LayoutModel",
            "justify_items": null,
            "grid_row": null,
            "max_height": null,
            "align_content": null,
            "visibility": null,
            "align_self": null,
            "height": null,
            "min_height": null,
            "padding": null,
            "grid_auto_rows": null,
            "grid_gap": null,
            "max_width": null,
            "order": null,
            "_view_module_version": "1.2.0",
            "grid_template_areas": null,
            "object_position": null,
            "object_fit": null,
            "grid_auto_columns": null,
            "margin": null,
            "display": null,
            "left": null
          }
        },
        "3b813d4f1c0b46279afaa6a715861892": {
          "model_module": "@jupyter-widgets/controls",
          "model_name": "FloatProgressModel",
          "state": {
            "_view_name": "ProgressView",
            "style": "IPY_MODEL_264998302e284cd4b54f2ae90270dc51",
            "_dom_classes": [],
            "description": "Downloading: 100%",
            "_model_name": "FloatProgressModel",
            "bar_style": "success",
            "max": 438007537,
            "_view_module": "@jupyter-widgets/controls",
            "_model_module_version": "1.5.0",
            "value": 438007537,
            "_view_count": null,
            "_view_module_version": "1.5.0",
            "orientation": "horizontal",
            "min": 0,
            "description_tooltip": null,
            "_model_module": "@jupyter-widgets/controls",
            "layout": "IPY_MODEL_c42d85a7a6ea42f2bb5cfb824169493a"
          }
        },
        "88ac828c4114430b9861fb011864fabf": {
          "model_module": "@jupyter-widgets/controls",
          "model_name": "HTMLModel",
          "state": {
            "_view_name": "HTMLView",
            "style": "IPY_MODEL_7932a7330d2843608674bfe12c194b65",
            "_dom_classes": [],
            "description": "",
            "_model_name": "HTMLModel",
            "placeholder": "​",
            "_view_module": "@jupyter-widgets/controls",
            "_model_module_version": "1.5.0",
            "value": " 438M/438M [00:15&lt;00:00, 28.7MB/s]",
            "_view_count": null,
            "_view_module_version": "1.5.0",
            "description_tooltip": null,
            "_model_module": "@jupyter-widgets/controls",
            "layout": "IPY_MODEL_bca401a1356842f0ae8ad2f4d676c141"
          }
        },
        "264998302e284cd4b54f2ae90270dc51": {
          "model_module": "@jupyter-widgets/controls",
          "model_name": "ProgressStyleModel",
          "state": {
            "_view_name": "StyleView",
            "_model_name": "ProgressStyleModel",
            "description_width": "initial",
            "_view_module": "@jupyter-widgets/base",
            "_model_module_version": "1.5.0",
            "_view_count": null,
            "_view_module_version": "1.2.0",
            "bar_color": null,
            "_model_module": "@jupyter-widgets/controls"
          }
        },
        "c42d85a7a6ea42f2bb5cfb824169493a": {
          "model_module": "@jupyter-widgets/base",
          "model_name": "LayoutModel",
          "state": {
            "_view_name": "LayoutView",
            "grid_template_rows": null,
            "right": null,
            "justify_content": null,
            "_view_module": "@jupyter-widgets/base",
            "overflow": null,
            "_model_module_version": "1.2.0",
            "_view_count": null,
            "flex_flow": null,
            "width": null,
            "min_width": null,
            "border": null,
            "align_items": null,
            "bottom": null,
            "_model_module": "@jupyter-widgets/base",
            "top": null,
            "grid_column": null,
            "overflow_y": null,
            "overflow_x": null,
            "grid_auto_flow": null,
            "grid_area": null,
            "grid_template_columns": null,
            "flex": null,
            "_model_name": "LayoutModel",
            "justify_items": null,
            "grid_row": null,
            "max_height": null,
            "align_content": null,
            "visibility": null,
            "align_self": null,
            "height": null,
            "min_height": null,
            "padding": null,
            "grid_auto_rows": null,
            "grid_gap": null,
            "max_width": null,
            "order": null,
            "_view_module_version": "1.2.0",
            "grid_template_areas": null,
            "object_position": null,
            "object_fit": null,
            "grid_auto_columns": null,
            "margin": null,
            "display": null,
            "left": null
          }
        },
        "7932a7330d2843608674bfe12c194b65": {
          "model_module": "@jupyter-widgets/controls",
          "model_name": "DescriptionStyleModel",
          "state": {
            "_view_name": "StyleView",
            "_model_name": "DescriptionStyleModel",
            "description_width": "",
            "_view_module": "@jupyter-widgets/base",
            "_model_module_version": "1.5.0",
            "_view_count": null,
            "_view_module_version": "1.2.0",
            "_model_module": "@jupyter-widgets/controls"
          }
        },
        "bca401a1356842f0ae8ad2f4d676c141": {
          "model_module": "@jupyter-widgets/base",
          "model_name": "LayoutModel",
          "state": {
            "_view_name": "LayoutView",
            "grid_template_rows": null,
            "right": null,
            "justify_content": null,
            "_view_module": "@jupyter-widgets/base",
            "overflow": null,
            "_model_module_version": "1.2.0",
            "_view_count": null,
            "flex_flow": null,
            "width": null,
            "min_width": null,
            "border": null,
            "align_items": null,
            "bottom": null,
            "_model_module": "@jupyter-widgets/base",
            "top": null,
            "grid_column": null,
            "overflow_y": null,
            "overflow_x": null,
            "grid_auto_flow": null,
            "grid_area": null,
            "grid_template_columns": null,
            "flex": null,
            "_model_name": "LayoutModel",
            "justify_items": null,
            "grid_row": null,
            "max_height": null,
            "align_content": null,
            "visibility": null,
            "align_self": null,
            "height": null,
            "min_height": null,
            "padding": null,
            "grid_auto_rows": null,
            "grid_gap": null,
            "max_width": null,
            "order": null,
            "_view_module_version": "1.2.0",
            "grid_template_areas": null,
            "object_position": null,
            "object_fit": null,
            "grid_auto_columns": null,
            "margin": null,
            "display": null,
            "left": null
          }
        },
        "b5e88d7080054027a028fb02819168e0": {
          "model_module": "@jupyter-widgets/controls",
          "model_name": "HBoxModel",
          "state": {
            "_view_name": "HBoxView",
            "_dom_classes": [],
            "_model_name": "HBoxModel",
            "_view_module": "@jupyter-widgets/controls",
            "_model_module_version": "1.5.0",
            "_view_count": null,
            "_view_module_version": "1.5.0",
            "box_style": "",
            "layout": "IPY_MODEL_1ffdf23f50e947cea4fc5f8ed77e0355",
            "_model_module": "@jupyter-widgets/controls",
            "children": [
              "IPY_MODEL_669e32183ac54dd8a51d1e97f642b855",
              "IPY_MODEL_66608df3c7694888a9ec932e4040ef09"
            ]
          }
        },
        "1ffdf23f50e947cea4fc5f8ed77e0355": {
          "model_module": "@jupyter-widgets/base",
          "model_name": "LayoutModel",
          "state": {
            "_view_name": "LayoutView",
            "grid_template_rows": null,
            "right": null,
            "justify_content": null,
            "_view_module": "@jupyter-widgets/base",
            "overflow": null,
            "_model_module_version": "1.2.0",
            "_view_count": null,
            "flex_flow": null,
            "width": null,
            "min_width": null,
            "border": null,
            "align_items": null,
            "bottom": null,
            "_model_module": "@jupyter-widgets/base",
            "top": null,
            "grid_column": null,
            "overflow_y": null,
            "overflow_x": null,
            "grid_auto_flow": null,
            "grid_area": null,
            "grid_template_columns": null,
            "flex": null,
            "_model_name": "LayoutModel",
            "justify_items": null,
            "grid_row": null,
            "max_height": null,
            "align_content": null,
            "visibility": null,
            "align_self": null,
            "height": null,
            "min_height": null,
            "padding": null,
            "grid_auto_rows": null,
            "grid_gap": null,
            "max_width": null,
            "order": null,
            "_view_module_version": "1.2.0",
            "grid_template_areas": null,
            "object_position": null,
            "object_fit": null,
            "grid_auto_columns": null,
            "margin": null,
            "display": null,
            "left": null
          }
        },
        "669e32183ac54dd8a51d1e97f642b855": {
          "model_module": "@jupyter-widgets/controls",
          "model_name": "FloatProgressModel",
          "state": {
            "_view_name": "ProgressView",
            "style": "IPY_MODEL_50f2343f3b5e488f8b8bfe11a5971ec4",
            "_dom_classes": [],
            "description": "Downloading: 100%",
            "_model_name": "FloatProgressModel",
            "bar_style": "success",
            "max": 53,
            "_view_module": "@jupyter-widgets/controls",
            "_model_module_version": "1.5.0",
            "value": 53,
            "_view_count": null,
            "_view_module_version": "1.5.0",
            "orientation": "horizontal",
            "min": 0,
            "description_tooltip": null,
            "_model_module": "@jupyter-widgets/controls",
            "layout": "IPY_MODEL_1655649ce31542d1b07892e7e773a4c4"
          }
        },
        "66608df3c7694888a9ec932e4040ef09": {
          "model_module": "@jupyter-widgets/controls",
          "model_name": "HTMLModel",
          "state": {
            "_view_name": "HTMLView",
            "style": "IPY_MODEL_db94bf76a0224530b6a6a3966db1e9c5",
            "_dom_classes": [],
            "description": "",
            "_model_name": "HTMLModel",
            "placeholder": "​",
            "_view_module": "@jupyter-widgets/controls",
            "_model_module_version": "1.5.0",
            "value": " 53.0/53.0 [00:02&lt;00:00, 22.6B/s]",
            "_view_count": null,
            "_view_module_version": "1.5.0",
            "description_tooltip": null,
            "_model_module": "@jupyter-widgets/controls",
            "layout": "IPY_MODEL_477cdc7ff3af4ed88ac205fdcc9774aa"
          }
        },
        "50f2343f3b5e488f8b8bfe11a5971ec4": {
          "model_module": "@jupyter-widgets/controls",
          "model_name": "ProgressStyleModel",
          "state": {
            "_view_name": "StyleView",
            "_model_name": "ProgressStyleModel",
            "description_width": "initial",
            "_view_module": "@jupyter-widgets/base",
            "_model_module_version": "1.5.0",
            "_view_count": null,
            "_view_module_version": "1.2.0",
            "bar_color": null,
            "_model_module": "@jupyter-widgets/controls"
          }
        },
        "1655649ce31542d1b07892e7e773a4c4": {
          "model_module": "@jupyter-widgets/base",
          "model_name": "LayoutModel",
          "state": {
            "_view_name": "LayoutView",
            "grid_template_rows": null,
            "right": null,
            "justify_content": null,
            "_view_module": "@jupyter-widgets/base",
            "overflow": null,
            "_model_module_version": "1.2.0",
            "_view_count": null,
            "flex_flow": null,
            "width": null,
            "min_width": null,
            "border": null,
            "align_items": null,
            "bottom": null,
            "_model_module": "@jupyter-widgets/base",
            "top": null,
            "grid_column": null,
            "overflow_y": null,
            "overflow_x": null,
            "grid_auto_flow": null,
            "grid_area": null,
            "grid_template_columns": null,
            "flex": null,
            "_model_name": "LayoutModel",
            "justify_items": null,
            "grid_row": null,
            "max_height": null,
            "align_content": null,
            "visibility": null,
            "align_self": null,
            "height": null,
            "min_height": null,
            "padding": null,
            "grid_auto_rows": null,
            "grid_gap": null,
            "max_width": null,
            "order": null,
            "_view_module_version": "1.2.0",
            "grid_template_areas": null,
            "object_position": null,
            "object_fit": null,
            "grid_auto_columns": null,
            "margin": null,
            "display": null,
            "left": null
          }
        },
        "db94bf76a0224530b6a6a3966db1e9c5": {
          "model_module": "@jupyter-widgets/controls",
          "model_name": "DescriptionStyleModel",
          "state": {
            "_view_name": "StyleView",
            "_model_name": "DescriptionStyleModel",
            "description_width": "",
            "_view_module": "@jupyter-widgets/base",
            "_model_module_version": "1.5.0",
            "_view_count": null,
            "_view_module_version": "1.2.0",
            "_model_module": "@jupyter-widgets/controls"
          }
        },
        "477cdc7ff3af4ed88ac205fdcc9774aa": {
          "model_module": "@jupyter-widgets/base",
          "model_name": "LayoutModel",
          "state": {
            "_view_name": "LayoutView",
            "grid_template_rows": null,
            "right": null,
            "justify_content": null,
            "_view_module": "@jupyter-widgets/base",
            "overflow": null,
            "_model_module_version": "1.2.0",
            "_view_count": null,
            "flex_flow": null,
            "width": null,
            "min_width": null,
            "border": null,
            "align_items": null,
            "bottom": null,
            "_model_module": "@jupyter-widgets/base",
            "top": null,
            "grid_column": null,
            "overflow_y": null,
            "overflow_x": null,
            "grid_auto_flow": null,
            "grid_area": null,
            "grid_template_columns": null,
            "flex": null,
            "_model_name": "LayoutModel",
            "justify_items": null,
            "grid_row": null,
            "max_height": null,
            "align_content": null,
            "visibility": null,
            "align_self": null,
            "height": null,
            "min_height": null,
            "padding": null,
            "grid_auto_rows": null,
            "grid_gap": null,
            "max_width": null,
            "order": null,
            "_view_module_version": "1.2.0",
            "grid_template_areas": null,
            "object_position": null,
            "object_fit": null,
            "grid_auto_columns": null,
            "margin": null,
            "display": null,
            "left": null
          }
        },
        "cbbbf62403334e328f310cf6c003068f": {
          "model_module": "@jupyter-widgets/controls",
          "model_name": "HBoxModel",
          "state": {
            "_view_name": "HBoxView",
            "_dom_classes": [],
            "_model_name": "HBoxModel",
            "_view_module": "@jupyter-widgets/controls",
            "_model_module_version": "1.5.0",
            "_view_count": null,
            "_view_module_version": "1.5.0",
            "box_style": "",
            "layout": "IPY_MODEL_51408c0b1f274bf1a8020805a52166e7",
            "_model_module": "@jupyter-widgets/controls",
            "children": [
              "IPY_MODEL_af38c19caab84c9097d02f20f26d251d",
              "IPY_MODEL_788df72141f84765b032a6c069c51dac"
            ]
          }
        },
        "51408c0b1f274bf1a8020805a52166e7": {
          "model_module": "@jupyter-widgets/base",
          "model_name": "LayoutModel",
          "state": {
            "_view_name": "LayoutView",
            "grid_template_rows": null,
            "right": null,
            "justify_content": null,
            "_view_module": "@jupyter-widgets/base",
            "overflow": null,
            "_model_module_version": "1.2.0",
            "_view_count": null,
            "flex_flow": null,
            "width": null,
            "min_width": null,
            "border": null,
            "align_items": null,
            "bottom": null,
            "_model_module": "@jupyter-widgets/base",
            "top": null,
            "grid_column": null,
            "overflow_y": null,
            "overflow_x": null,
            "grid_auto_flow": null,
            "grid_area": null,
            "grid_template_columns": null,
            "flex": null,
            "_model_name": "LayoutModel",
            "justify_items": null,
            "grid_row": null,
            "max_height": null,
            "align_content": null,
            "visibility": null,
            "align_self": null,
            "height": null,
            "min_height": null,
            "padding": null,
            "grid_auto_rows": null,
            "grid_gap": null,
            "max_width": null,
            "order": null,
            "_view_module_version": "1.2.0",
            "grid_template_areas": null,
            "object_position": null,
            "object_fit": null,
            "grid_auto_columns": null,
            "margin": null,
            "display": null,
            "left": null
          }
        },
        "af38c19caab84c9097d02f20f26d251d": {
          "model_module": "@jupyter-widgets/controls",
          "model_name": "FloatProgressModel",
          "state": {
            "_view_name": "ProgressView",
            "style": "IPY_MODEL_6842ab479ef64d6f925e4528e6cd3ac0",
            "_dom_classes": [],
            "description": "Downloading: 100%",
            "_model_name": "FloatProgressModel",
            "bar_style": "success",
            "max": 112,
            "_view_module": "@jupyter-widgets/controls",
            "_model_module_version": "1.5.0",
            "value": 112,
            "_view_count": null,
            "_view_module_version": "1.5.0",
            "orientation": "horizontal",
            "min": 0,
            "description_tooltip": null,
            "_model_module": "@jupyter-widgets/controls",
            "layout": "IPY_MODEL_d469801be2cc46af951ab3992d707dce"
          }
        },
        "788df72141f84765b032a6c069c51dac": {
          "model_module": "@jupyter-widgets/controls",
          "model_name": "HTMLModel",
          "state": {
            "_view_name": "HTMLView",
            "style": "IPY_MODEL_21fee229abdd44ed85200cebffc4786b",
            "_dom_classes": [],
            "description": "",
            "_model_name": "HTMLModel",
            "placeholder": "​",
            "_view_module": "@jupyter-widgets/controls",
            "_model_module_version": "1.5.0",
            "value": " 112/112 [00:00&lt;00:00, 199B/s]",
            "_view_count": null,
            "_view_module_version": "1.5.0",
            "description_tooltip": null,
            "_model_module": "@jupyter-widgets/controls",
            "layout": "IPY_MODEL_9afcb153e2654c33a7fc9c336a117ab6"
          }
        },
        "6842ab479ef64d6f925e4528e6cd3ac0": {
          "model_module": "@jupyter-widgets/controls",
          "model_name": "ProgressStyleModel",
          "state": {
            "_view_name": "StyleView",
            "_model_name": "ProgressStyleModel",
            "description_width": "initial",
            "_view_module": "@jupyter-widgets/base",
            "_model_module_version": "1.5.0",
            "_view_count": null,
            "_view_module_version": "1.2.0",
            "bar_color": null,
            "_model_module": "@jupyter-widgets/controls"
          }
        },
        "d469801be2cc46af951ab3992d707dce": {
          "model_module": "@jupyter-widgets/base",
          "model_name": "LayoutModel",
          "state": {
            "_view_name": "LayoutView",
            "grid_template_rows": null,
            "right": null,
            "justify_content": null,
            "_view_module": "@jupyter-widgets/base",
            "overflow": null,
            "_model_module_version": "1.2.0",
            "_view_count": null,
            "flex_flow": null,
            "width": null,
            "min_width": null,
            "border": null,
            "align_items": null,
            "bottom": null,
            "_model_module": "@jupyter-widgets/base",
            "top": null,
            "grid_column": null,
            "overflow_y": null,
            "overflow_x": null,
            "grid_auto_flow": null,
            "grid_area": null,
            "grid_template_columns": null,
            "flex": null,
            "_model_name": "LayoutModel",
            "justify_items": null,
            "grid_row": null,
            "max_height": null,
            "align_content": null,
            "visibility": null,
            "align_self": null,
            "height": null,
            "min_height": null,
            "padding": null,
            "grid_auto_rows": null,
            "grid_gap": null,
            "max_width": null,
            "order": null,
            "_view_module_version": "1.2.0",
            "grid_template_areas": null,
            "object_position": null,
            "object_fit": null,
            "grid_auto_columns": null,
            "margin": null,
            "display": null,
            "left": null
          }
        },
        "21fee229abdd44ed85200cebffc4786b": {
          "model_module": "@jupyter-widgets/controls",
          "model_name": "DescriptionStyleModel",
          "state": {
            "_view_name": "StyleView",
            "_model_name": "DescriptionStyleModel",
            "description_width": "",
            "_view_module": "@jupyter-widgets/base",
            "_model_module_version": "1.5.0",
            "_view_count": null,
            "_view_module_version": "1.2.0",
            "_model_module": "@jupyter-widgets/controls"
          }
        },
        "9afcb153e2654c33a7fc9c336a117ab6": {
          "model_module": "@jupyter-widgets/base",
          "model_name": "LayoutModel",
          "state": {
            "_view_name": "LayoutView",
            "grid_template_rows": null,
            "right": null,
            "justify_content": null,
            "_view_module": "@jupyter-widgets/base",
            "overflow": null,
            "_model_module_version": "1.2.0",
            "_view_count": null,
            "flex_flow": null,
            "width": null,
            "min_width": null,
            "border": null,
            "align_items": null,
            "bottom": null,
            "_model_module": "@jupyter-widgets/base",
            "top": null,
            "grid_column": null,
            "overflow_y": null,
            "overflow_x": null,
            "grid_auto_flow": null,
            "grid_area": null,
            "grid_template_columns": null,
            "flex": null,
            "_model_name": "LayoutModel",
            "justify_items": null,
            "grid_row": null,
            "max_height": null,
            "align_content": null,
            "visibility": null,
            "align_self": null,
            "height": null,
            "min_height": null,
            "padding": null,
            "grid_auto_rows": null,
            "grid_gap": null,
            "max_width": null,
            "order": null,
            "_view_module_version": "1.2.0",
            "grid_template_areas": null,
            "object_position": null,
            "object_fit": null,
            "grid_auto_columns": null,
            "margin": null,
            "display": null,
            "left": null
          }
        },
        "6dd21ca24ba44f42838c22a603cbe238": {
          "model_module": "@jupyter-widgets/controls",
          "model_name": "HBoxModel",
          "state": {
            "_view_name": "HBoxView",
            "_dom_classes": [],
            "_model_name": "HBoxModel",
            "_view_module": "@jupyter-widgets/controls",
            "_model_module_version": "1.5.0",
            "_view_count": null,
            "_view_module_version": "1.5.0",
            "box_style": "",
            "layout": "IPY_MODEL_aa3dbca319f2470f831d20942d9a439d",
            "_model_module": "@jupyter-widgets/controls",
            "children": [
              "IPY_MODEL_fc8aca960a7048319da0ab887f445acb",
              "IPY_MODEL_acb7091a39d24539828dacc29146e4cf"
            ]
          }
        },
        "aa3dbca319f2470f831d20942d9a439d": {
          "model_module": "@jupyter-widgets/base",
          "model_name": "LayoutModel",
          "state": {
            "_view_name": "LayoutView",
            "grid_template_rows": null,
            "right": null,
            "justify_content": null,
            "_view_module": "@jupyter-widgets/base",
            "overflow": null,
            "_model_module_version": "1.2.0",
            "_view_count": null,
            "flex_flow": null,
            "width": null,
            "min_width": null,
            "border": null,
            "align_items": null,
            "bottom": null,
            "_model_module": "@jupyter-widgets/base",
            "top": null,
            "grid_column": null,
            "overflow_y": null,
            "overflow_x": null,
            "grid_auto_flow": null,
            "grid_area": null,
            "grid_template_columns": null,
            "flex": null,
            "_model_name": "LayoutModel",
            "justify_items": null,
            "grid_row": null,
            "max_height": null,
            "align_content": null,
            "visibility": null,
            "align_self": null,
            "height": null,
            "min_height": null,
            "padding": null,
            "grid_auto_rows": null,
            "grid_gap": null,
            "max_width": null,
            "order": null,
            "_view_module_version": "1.2.0",
            "grid_template_areas": null,
            "object_position": null,
            "object_fit": null,
            "grid_auto_columns": null,
            "margin": null,
            "display": null,
            "left": null
          }
        },
        "fc8aca960a7048319da0ab887f445acb": {
          "model_module": "@jupyter-widgets/controls",
          "model_name": "FloatProgressModel",
          "state": {
            "_view_name": "ProgressView",
            "style": "IPY_MODEL_a904939527ca47848d1d73eca210dc15",
            "_dom_classes": [],
            "description": "Downloading: 100%",
            "_model_name": "FloatProgressModel",
            "bar_style": "success",
            "max": 466081,
            "_view_module": "@jupyter-widgets/controls",
            "_model_module_version": "1.5.0",
            "value": 466081,
            "_view_count": null,
            "_view_module_version": "1.5.0",
            "orientation": "horizontal",
            "min": 0,
            "description_tooltip": null,
            "_model_module": "@jupyter-widgets/controls",
            "layout": "IPY_MODEL_f6d8c03b036d48c1ad90bde29149872c"
          }
        },
        "acb7091a39d24539828dacc29146e4cf": {
          "model_module": "@jupyter-widgets/controls",
          "model_name": "HTMLModel",
          "state": {
            "_view_name": "HTMLView",
            "style": "IPY_MODEL_59d4b5b561204becafd7c502ab44862c",
            "_dom_classes": [],
            "description": "",
            "_model_name": "HTMLModel",
            "placeholder": "​",
            "_view_module": "@jupyter-widgets/controls",
            "_model_module_version": "1.5.0",
            "value": " 466k/466k [00:00&lt;00:00, 1.55MB/s]",
            "_view_count": null,
            "_view_module_version": "1.5.0",
            "description_tooltip": null,
            "_model_module": "@jupyter-widgets/controls",
            "layout": "IPY_MODEL_0055dc8d21ae41be857faaebe09a996f"
          }
        },
        "a904939527ca47848d1d73eca210dc15": {
          "model_module": "@jupyter-widgets/controls",
          "model_name": "ProgressStyleModel",
          "state": {
            "_view_name": "StyleView",
            "_model_name": "ProgressStyleModel",
            "description_width": "initial",
            "_view_module": "@jupyter-widgets/base",
            "_model_module_version": "1.5.0",
            "_view_count": null,
            "_view_module_version": "1.2.0",
            "bar_color": null,
            "_model_module": "@jupyter-widgets/controls"
          }
        },
        "f6d8c03b036d48c1ad90bde29149872c": {
          "model_module": "@jupyter-widgets/base",
          "model_name": "LayoutModel",
          "state": {
            "_view_name": "LayoutView",
            "grid_template_rows": null,
            "right": null,
            "justify_content": null,
            "_view_module": "@jupyter-widgets/base",
            "overflow": null,
            "_model_module_version": "1.2.0",
            "_view_count": null,
            "flex_flow": null,
            "width": null,
            "min_width": null,
            "border": null,
            "align_items": null,
            "bottom": null,
            "_model_module": "@jupyter-widgets/base",
            "top": null,
            "grid_column": null,
            "overflow_y": null,
            "overflow_x": null,
            "grid_auto_flow": null,
            "grid_area": null,
            "grid_template_columns": null,
            "flex": null,
            "_model_name": "LayoutModel",
            "justify_items": null,
            "grid_row": null,
            "max_height": null,
            "align_content": null,
            "visibility": null,
            "align_self": null,
            "height": null,
            "min_height": null,
            "padding": null,
            "grid_auto_rows": null,
            "grid_gap": null,
            "max_width": null,
            "order": null,
            "_view_module_version": "1.2.0",
            "grid_template_areas": null,
            "object_position": null,
            "object_fit": null,
            "grid_auto_columns": null,
            "margin": null,
            "display": null,
            "left": null
          }
        },
        "59d4b5b561204becafd7c502ab44862c": {
          "model_module": "@jupyter-widgets/controls",
          "model_name": "DescriptionStyleModel",
          "state": {
            "_view_name": "StyleView",
            "_model_name": "DescriptionStyleModel",
            "description_width": "",
            "_view_module": "@jupyter-widgets/base",
            "_model_module_version": "1.5.0",
            "_view_count": null,
            "_view_module_version": "1.2.0",
            "_model_module": "@jupyter-widgets/controls"
          }
        },
        "0055dc8d21ae41be857faaebe09a996f": {
          "model_module": "@jupyter-widgets/base",
          "model_name": "LayoutModel",
          "state": {
            "_view_name": "LayoutView",
            "grid_template_rows": null,
            "right": null,
            "justify_content": null,
            "_view_module": "@jupyter-widgets/base",
            "overflow": null,
            "_model_module_version": "1.2.0",
            "_view_count": null,
            "flex_flow": null,
            "width": null,
            "min_width": null,
            "border": null,
            "align_items": null,
            "bottom": null,
            "_model_module": "@jupyter-widgets/base",
            "top": null,
            "grid_column": null,
            "overflow_y": null,
            "overflow_x": null,
            "grid_auto_flow": null,
            "grid_area": null,
            "grid_template_columns": null,
            "flex": null,
            "_model_name": "LayoutModel",
            "justify_items": null,
            "grid_row": null,
            "max_height": null,
            "align_content": null,
            "visibility": null,
            "align_self": null,
            "height": null,
            "min_height": null,
            "padding": null,
            "grid_auto_rows": null,
            "grid_gap": null,
            "max_width": null,
            "order": null,
            "_view_module_version": "1.2.0",
            "grid_template_areas": null,
            "object_position": null,
            "object_fit": null,
            "grid_auto_columns": null,
            "margin": null,
            "display": null,
            "left": null
          }
        },
        "99a408ea8dee4ed88b0d4f71bef40b7e": {
          "model_module": "@jupyter-widgets/controls",
          "model_name": "HBoxModel",
          "state": {
            "_view_name": "HBoxView",
            "_dom_classes": [],
            "_model_name": "HBoxModel",
            "_view_module": "@jupyter-widgets/controls",
            "_model_module_version": "1.5.0",
            "_view_count": null,
            "_view_module_version": "1.5.0",
            "box_style": "",
            "layout": "IPY_MODEL_6cd0b23aaca643da9d5ca28751074964",
            "_model_module": "@jupyter-widgets/controls",
            "children": [
              "IPY_MODEL_3c02adbb85a449ca922fabc1dd81bda1",
              "IPY_MODEL_642f0d664d7a408da780a73ba526bb7b"
            ]
          }
        },
        "6cd0b23aaca643da9d5ca28751074964": {
          "model_module": "@jupyter-widgets/base",
          "model_name": "LayoutModel",
          "state": {
            "_view_name": "LayoutView",
            "grid_template_rows": null,
            "right": null,
            "justify_content": null,
            "_view_module": "@jupyter-widgets/base",
            "overflow": null,
            "_model_module_version": "1.2.0",
            "_view_count": null,
            "flex_flow": null,
            "width": null,
            "min_width": null,
            "border": null,
            "align_items": null,
            "bottom": null,
            "_model_module": "@jupyter-widgets/base",
            "top": null,
            "grid_column": null,
            "overflow_y": null,
            "overflow_x": null,
            "grid_auto_flow": null,
            "grid_area": null,
            "grid_template_columns": null,
            "flex": null,
            "_model_name": "LayoutModel",
            "justify_items": null,
            "grid_row": null,
            "max_height": null,
            "align_content": null,
            "visibility": null,
            "align_self": null,
            "height": null,
            "min_height": null,
            "padding": null,
            "grid_auto_rows": null,
            "grid_gap": null,
            "max_width": null,
            "order": null,
            "_view_module_version": "1.2.0",
            "grid_template_areas": null,
            "object_position": null,
            "object_fit": null,
            "grid_auto_columns": null,
            "margin": null,
            "display": null,
            "left": null
          }
        },
        "3c02adbb85a449ca922fabc1dd81bda1": {
          "model_module": "@jupyter-widgets/controls",
          "model_name": "FloatProgressModel",
          "state": {
            "_view_name": "ProgressView",
            "style": "IPY_MODEL_bff5de1823744bad9923e4e65ae7256b",
            "_dom_classes": [],
            "description": "Downloading: 100%",
            "_model_name": "FloatProgressModel",
            "bar_style": "success",
            "max": 395,
            "_view_module": "@jupyter-widgets/controls",
            "_model_module_version": "1.5.0",
            "value": 395,
            "_view_count": null,
            "_view_module_version": "1.5.0",
            "orientation": "horizontal",
            "min": 0,
            "description_tooltip": null,
            "_model_module": "@jupyter-widgets/controls",
            "layout": "IPY_MODEL_a9487a7bc5b5477b8fb4ba45d6e47c85"
          }
        },
        "642f0d664d7a408da780a73ba526bb7b": {
          "model_module": "@jupyter-widgets/controls",
          "model_name": "HTMLModel",
          "state": {
            "_view_name": "HTMLView",
            "style": "IPY_MODEL_95a8b94bce4c455083a1bae0db7ff2c8",
            "_dom_classes": [],
            "description": "",
            "_model_name": "HTMLModel",
            "placeholder": "​",
            "_view_module": "@jupyter-widgets/controls",
            "_model_module_version": "1.5.0",
            "value": " 395/395 [00:01&lt;00:00, 257B/s]",
            "_view_count": null,
            "_view_module_version": "1.5.0",
            "description_tooltip": null,
            "_model_module": "@jupyter-widgets/controls",
            "layout": "IPY_MODEL_4fa16b698e3940f681880f2492bb74fe"
          }
        },
        "bff5de1823744bad9923e4e65ae7256b": {
          "model_module": "@jupyter-widgets/controls",
          "model_name": "ProgressStyleModel",
          "state": {
            "_view_name": "StyleView",
            "_model_name": "ProgressStyleModel",
            "description_width": "initial",
            "_view_module": "@jupyter-widgets/base",
            "_model_module_version": "1.5.0",
            "_view_count": null,
            "_view_module_version": "1.2.0",
            "bar_color": null,
            "_model_module": "@jupyter-widgets/controls"
          }
        },
        "a9487a7bc5b5477b8fb4ba45d6e47c85": {
          "model_module": "@jupyter-widgets/base",
          "model_name": "LayoutModel",
          "state": {
            "_view_name": "LayoutView",
            "grid_template_rows": null,
            "right": null,
            "justify_content": null,
            "_view_module": "@jupyter-widgets/base",
            "overflow": null,
            "_model_module_version": "1.2.0",
            "_view_count": null,
            "flex_flow": null,
            "width": null,
            "min_width": null,
            "border": null,
            "align_items": null,
            "bottom": null,
            "_model_module": "@jupyter-widgets/base",
            "top": null,
            "grid_column": null,
            "overflow_y": null,
            "overflow_x": null,
            "grid_auto_flow": null,
            "grid_area": null,
            "grid_template_columns": null,
            "flex": null,
            "_model_name": "LayoutModel",
            "justify_items": null,
            "grid_row": null,
            "max_height": null,
            "align_content": null,
            "visibility": null,
            "align_self": null,
            "height": null,
            "min_height": null,
            "padding": null,
            "grid_auto_rows": null,
            "grid_gap": null,
            "max_width": null,
            "order": null,
            "_view_module_version": "1.2.0",
            "grid_template_areas": null,
            "object_position": null,
            "object_fit": null,
            "grid_auto_columns": null,
            "margin": null,
            "display": null,
            "left": null
          }
        },
        "95a8b94bce4c455083a1bae0db7ff2c8": {
          "model_module": "@jupyter-widgets/controls",
          "model_name": "DescriptionStyleModel",
          "state": {
            "_view_name": "StyleView",
            "_model_name": "DescriptionStyleModel",
            "description_width": "",
            "_view_module": "@jupyter-widgets/base",
            "_model_module_version": "1.5.0",
            "_view_count": null,
            "_view_module_version": "1.2.0",
            "_model_module": "@jupyter-widgets/controls"
          }
        },
        "4fa16b698e3940f681880f2492bb74fe": {
          "model_module": "@jupyter-widgets/base",
          "model_name": "LayoutModel",
          "state": {
            "_view_name": "LayoutView",
            "grid_template_rows": null,
            "right": null,
            "justify_content": null,
            "_view_module": "@jupyter-widgets/base",
            "overflow": null,
            "_model_module_version": "1.2.0",
            "_view_count": null,
            "flex_flow": null,
            "width": null,
            "min_width": null,
            "border": null,
            "align_items": null,
            "bottom": null,
            "_model_module": "@jupyter-widgets/base",
            "top": null,
            "grid_column": null,
            "overflow_y": null,
            "overflow_x": null,
            "grid_auto_flow": null,
            "grid_area": null,
            "grid_template_columns": null,
            "flex": null,
            "_model_name": "LayoutModel",
            "justify_items": null,
            "grid_row": null,
            "max_height": null,
            "align_content": null,
            "visibility": null,
            "align_self": null,
            "height": null,
            "min_height": null,
            "padding": null,
            "grid_auto_rows": null,
            "grid_gap": null,
            "max_width": null,
            "order": null,
            "_view_module_version": "1.2.0",
            "grid_template_areas": null,
            "object_position": null,
            "object_fit": null,
            "grid_auto_columns": null,
            "margin": null,
            "display": null,
            "left": null
          }
        },
        "094bdcebd0474801bca749a16c7f2798": {
          "model_module": "@jupyter-widgets/controls",
          "model_name": "HBoxModel",
          "state": {
            "_view_name": "HBoxView",
            "_dom_classes": [],
            "_model_name": "HBoxModel",
            "_view_module": "@jupyter-widgets/controls",
            "_model_module_version": "1.5.0",
            "_view_count": null,
            "_view_module_version": "1.5.0",
            "box_style": "",
            "layout": "IPY_MODEL_63c1c35bb71945aa88dfdaf70c65a3a1",
            "_model_module": "@jupyter-widgets/controls",
            "children": [
              "IPY_MODEL_ce74a692b7a64f0d88319441f5e041b1",
              "IPY_MODEL_8c303f31bb3d43298e476666cc7fd515"
            ]
          }
        },
        "63c1c35bb71945aa88dfdaf70c65a3a1": {
          "model_module": "@jupyter-widgets/base",
          "model_name": "LayoutModel",
          "state": {
            "_view_name": "LayoutView",
            "grid_template_rows": null,
            "right": null,
            "justify_content": null,
            "_view_module": "@jupyter-widgets/base",
            "overflow": null,
            "_model_module_version": "1.2.0",
            "_view_count": null,
            "flex_flow": null,
            "width": null,
            "min_width": null,
            "border": null,
            "align_items": null,
            "bottom": null,
            "_model_module": "@jupyter-widgets/base",
            "top": null,
            "grid_column": null,
            "overflow_y": null,
            "overflow_x": null,
            "grid_auto_flow": null,
            "grid_area": null,
            "grid_template_columns": null,
            "flex": null,
            "_model_name": "LayoutModel",
            "justify_items": null,
            "grid_row": null,
            "max_height": null,
            "align_content": null,
            "visibility": null,
            "align_self": null,
            "height": null,
            "min_height": null,
            "padding": null,
            "grid_auto_rows": null,
            "grid_gap": null,
            "max_width": null,
            "order": null,
            "_view_module_version": "1.2.0",
            "grid_template_areas": null,
            "object_position": null,
            "object_fit": null,
            "grid_auto_columns": null,
            "margin": null,
            "display": null,
            "left": null
          }
        },
        "ce74a692b7a64f0d88319441f5e041b1": {
          "model_module": "@jupyter-widgets/controls",
          "model_name": "FloatProgressModel",
          "state": {
            "_view_name": "ProgressView",
            "style": "IPY_MODEL_28022b9fdde54b229993ead772db7b82",
            "_dom_classes": [],
            "description": "Downloading: 100%",
            "_model_name": "FloatProgressModel",
            "bar_style": "success",
            "max": 231508,
            "_view_module": "@jupyter-widgets/controls",
            "_model_module_version": "1.5.0",
            "value": 231508,
            "_view_count": null,
            "_view_module_version": "1.5.0",
            "orientation": "horizontal",
            "min": 0,
            "description_tooltip": null,
            "_model_module": "@jupyter-widgets/controls",
            "layout": "IPY_MODEL_ff6ed13a1f144be2a4edf1af7be22098"
          }
        },
        "8c303f31bb3d43298e476666cc7fd515": {
          "model_module": "@jupyter-widgets/controls",
          "model_name": "HTMLModel",
          "state": {
            "_view_name": "HTMLView",
            "style": "IPY_MODEL_5d54d0ae5dec4d978c1978a1e839055c",
            "_dom_classes": [],
            "description": "",
            "_model_name": "HTMLModel",
            "placeholder": "​",
            "_view_module": "@jupyter-widgets/controls",
            "_model_module_version": "1.5.0",
            "value": " 232k/232k [00:00&lt;00:00, 681kB/s]",
            "_view_count": null,
            "_view_module_version": "1.5.0",
            "description_tooltip": null,
            "_model_module": "@jupyter-widgets/controls",
            "layout": "IPY_MODEL_a1f9e00b901d489e9d1506c74381b95f"
          }
        },
        "28022b9fdde54b229993ead772db7b82": {
          "model_module": "@jupyter-widgets/controls",
          "model_name": "ProgressStyleModel",
          "state": {
            "_view_name": "StyleView",
            "_model_name": "ProgressStyleModel",
            "description_width": "initial",
            "_view_module": "@jupyter-widgets/base",
            "_model_module_version": "1.5.0",
            "_view_count": null,
            "_view_module_version": "1.2.0",
            "bar_color": null,
            "_model_module": "@jupyter-widgets/controls"
          }
        },
        "ff6ed13a1f144be2a4edf1af7be22098": {
          "model_module": "@jupyter-widgets/base",
          "model_name": "LayoutModel",
          "state": {
            "_view_name": "LayoutView",
            "grid_template_rows": null,
            "right": null,
            "justify_content": null,
            "_view_module": "@jupyter-widgets/base",
            "overflow": null,
            "_model_module_version": "1.2.0",
            "_view_count": null,
            "flex_flow": null,
            "width": null,
            "min_width": null,
            "border": null,
            "align_items": null,
            "bottom": null,
            "_model_module": "@jupyter-widgets/base",
            "top": null,
            "grid_column": null,
            "overflow_y": null,
            "overflow_x": null,
            "grid_auto_flow": null,
            "grid_area": null,
            "grid_template_columns": null,
            "flex": null,
            "_model_name": "LayoutModel",
            "justify_items": null,
            "grid_row": null,
            "max_height": null,
            "align_content": null,
            "visibility": null,
            "align_self": null,
            "height": null,
            "min_height": null,
            "padding": null,
            "grid_auto_rows": null,
            "grid_gap": null,
            "max_width": null,
            "order": null,
            "_view_module_version": "1.2.0",
            "grid_template_areas": null,
            "object_position": null,
            "object_fit": null,
            "grid_auto_columns": null,
            "margin": null,
            "display": null,
            "left": null
          }
        },
        "5d54d0ae5dec4d978c1978a1e839055c": {
          "model_module": "@jupyter-widgets/controls",
          "model_name": "DescriptionStyleModel",
          "state": {
            "_view_name": "StyleView",
            "_model_name": "DescriptionStyleModel",
            "description_width": "",
            "_view_module": "@jupyter-widgets/base",
            "_model_module_version": "1.5.0",
            "_view_count": null,
            "_view_module_version": "1.2.0",
            "_model_module": "@jupyter-widgets/controls"
          }
        },
        "a1f9e00b901d489e9d1506c74381b95f": {
          "model_module": "@jupyter-widgets/base",
          "model_name": "LayoutModel",
          "state": {
            "_view_name": "LayoutView",
            "grid_template_rows": null,
            "right": null,
            "justify_content": null,
            "_view_module": "@jupyter-widgets/base",
            "overflow": null,
            "_model_module_version": "1.2.0",
            "_view_count": null,
            "flex_flow": null,
            "width": null,
            "min_width": null,
            "border": null,
            "align_items": null,
            "bottom": null,
            "_model_module": "@jupyter-widgets/base",
            "top": null,
            "grid_column": null,
            "overflow_y": null,
            "overflow_x": null,
            "grid_auto_flow": null,
            "grid_area": null,
            "grid_template_columns": null,
            "flex": null,
            "_model_name": "LayoutModel",
            "justify_items": null,
            "grid_row": null,
            "max_height": null,
            "align_content": null,
            "visibility": null,
            "align_self": null,
            "height": null,
            "min_height": null,
            "padding": null,
            "grid_auto_rows": null,
            "grid_gap": null,
            "max_width": null,
            "order": null,
            "_view_module_version": "1.2.0",
            "grid_template_areas": null,
            "object_position": null,
            "object_fit": null,
            "grid_auto_columns": null,
            "margin": null,
            "display": null,
            "left": null
          }
        },
        "c50ccd6b5ae74e1f8ac9edbd0114cc6b": {
          "model_module": "@jupyter-widgets/controls",
          "model_name": "HBoxModel",
          "state": {
            "_view_name": "HBoxView",
            "_dom_classes": [],
            "_model_name": "HBoxModel",
            "_view_module": "@jupyter-widgets/controls",
            "_model_module_version": "1.5.0",
            "_view_count": null,
            "_view_module_version": "1.5.0",
            "box_style": "",
            "layout": "IPY_MODEL_22248c86dcca4116bc7c0b31f5f9ed97",
            "_model_module": "@jupyter-widgets/controls",
            "children": [
              "IPY_MODEL_93131338fc4e46a98a1a8ead6d743e09",
              "IPY_MODEL_e0fea3f7c6fc4bc586370971286b2776"
            ]
          }
        },
        "22248c86dcca4116bc7c0b31f5f9ed97": {
          "model_module": "@jupyter-widgets/base",
          "model_name": "LayoutModel",
          "state": {
            "_view_name": "LayoutView",
            "grid_template_rows": null,
            "right": null,
            "justify_content": null,
            "_view_module": "@jupyter-widgets/base",
            "overflow": null,
            "_model_module_version": "1.2.0",
            "_view_count": null,
            "flex_flow": null,
            "width": null,
            "min_width": null,
            "border": null,
            "align_items": null,
            "bottom": null,
            "_model_module": "@jupyter-widgets/base",
            "top": null,
            "grid_column": null,
            "overflow_y": null,
            "overflow_x": null,
            "grid_auto_flow": null,
            "grid_area": null,
            "grid_template_columns": null,
            "flex": null,
            "_model_name": "LayoutModel",
            "justify_items": null,
            "grid_row": null,
            "max_height": null,
            "align_content": null,
            "visibility": null,
            "align_self": null,
            "height": null,
            "min_height": null,
            "padding": null,
            "grid_auto_rows": null,
            "grid_gap": null,
            "max_width": null,
            "order": null,
            "_view_module_version": "1.2.0",
            "grid_template_areas": null,
            "object_position": null,
            "object_fit": null,
            "grid_auto_columns": null,
            "margin": null,
            "display": null,
            "left": null
          }
        },
        "93131338fc4e46a98a1a8ead6d743e09": {
          "model_module": "@jupyter-widgets/controls",
          "model_name": "FloatProgressModel",
          "state": {
            "_view_name": "ProgressView",
            "style": "IPY_MODEL_d0227350857646c59a59d50e15969549",
            "_dom_classes": [],
            "description": "Downloading: 100%",
            "_model_name": "FloatProgressModel",
            "bar_style": "success",
            "max": 190,
            "_view_module": "@jupyter-widgets/controls",
            "_model_module_version": "1.5.0",
            "value": 190,
            "_view_count": null,
            "_view_module_version": "1.5.0",
            "orientation": "horizontal",
            "min": 0,
            "description_tooltip": null,
            "_model_module": "@jupyter-widgets/controls",
            "layout": "IPY_MODEL_77db613a0c074d32bdf2316df14b42eb"
          }
        },
        "e0fea3f7c6fc4bc586370971286b2776": {
          "model_module": "@jupyter-widgets/controls",
          "model_name": "HTMLModel",
          "state": {
            "_view_name": "HTMLView",
            "style": "IPY_MODEL_7c1f165190b148759572bd4553237e08",
            "_dom_classes": [],
            "description": "",
            "_model_name": "HTMLModel",
            "placeholder": "​",
            "_view_module": "@jupyter-widgets/controls",
            "_model_module_version": "1.5.0",
            "value": " 190/190 [00:00&lt;00:00, 191B/s]",
            "_view_count": null,
            "_view_module_version": "1.5.0",
            "description_tooltip": null,
            "_model_module": "@jupyter-widgets/controls",
            "layout": "IPY_MODEL_0809555dd6244a5e9eab59cf32339bd5"
          }
        },
        "d0227350857646c59a59d50e15969549": {
          "model_module": "@jupyter-widgets/controls",
          "model_name": "ProgressStyleModel",
          "state": {
            "_view_name": "StyleView",
            "_model_name": "ProgressStyleModel",
            "description_width": "initial",
            "_view_module": "@jupyter-widgets/base",
            "_model_module_version": "1.5.0",
            "_view_count": null,
            "_view_module_version": "1.2.0",
            "bar_color": null,
            "_model_module": "@jupyter-widgets/controls"
          }
        },
        "77db613a0c074d32bdf2316df14b42eb": {
          "model_module": "@jupyter-widgets/base",
          "model_name": "LayoutModel",
          "state": {
            "_view_name": "LayoutView",
            "grid_template_rows": null,
            "right": null,
            "justify_content": null,
            "_view_module": "@jupyter-widgets/base",
            "overflow": null,
            "_model_module_version": "1.2.0",
            "_view_count": null,
            "flex_flow": null,
            "width": null,
            "min_width": null,
            "border": null,
            "align_items": null,
            "bottom": null,
            "_model_module": "@jupyter-widgets/base",
            "top": null,
            "grid_column": null,
            "overflow_y": null,
            "overflow_x": null,
            "grid_auto_flow": null,
            "grid_area": null,
            "grid_template_columns": null,
            "flex": null,
            "_model_name": "LayoutModel",
            "justify_items": null,
            "grid_row": null,
            "max_height": null,
            "align_content": null,
            "visibility": null,
            "align_self": null,
            "height": null,
            "min_height": null,
            "padding": null,
            "grid_auto_rows": null,
            "grid_gap": null,
            "max_width": null,
            "order": null,
            "_view_module_version": "1.2.0",
            "grid_template_areas": null,
            "object_position": null,
            "object_fit": null,
            "grid_auto_columns": null,
            "margin": null,
            "display": null,
            "left": null
          }
        },
        "7c1f165190b148759572bd4553237e08": {
          "model_module": "@jupyter-widgets/controls",
          "model_name": "DescriptionStyleModel",
          "state": {
            "_view_name": "StyleView",
            "_model_name": "DescriptionStyleModel",
            "description_width": "",
            "_view_module": "@jupyter-widgets/base",
            "_model_module_version": "1.5.0",
            "_view_count": null,
            "_view_module_version": "1.2.0",
            "_model_module": "@jupyter-widgets/controls"
          }
        },
        "0809555dd6244a5e9eab59cf32339bd5": {
          "model_module": "@jupyter-widgets/base",
          "model_name": "LayoutModel",
          "state": {
            "_view_name": "LayoutView",
            "grid_template_rows": null,
            "right": null,
            "justify_content": null,
            "_view_module": "@jupyter-widgets/base",
            "overflow": null,
            "_model_module_version": "1.2.0",
            "_view_count": null,
            "flex_flow": null,
            "width": null,
            "min_width": null,
            "border": null,
            "align_items": null,
            "bottom": null,
            "_model_module": "@jupyter-widgets/base",
            "top": null,
            "grid_column": null,
            "overflow_y": null,
            "overflow_x": null,
            "grid_auto_flow": null,
            "grid_area": null,
            "grid_template_columns": null,
            "flex": null,
            "_model_name": "LayoutModel",
            "justify_items": null,
            "grid_row": null,
            "max_height": null,
            "align_content": null,
            "visibility": null,
            "align_self": null,
            "height": null,
            "min_height": null,
            "padding": null,
            "grid_auto_rows": null,
            "grid_gap": null,
            "max_width": null,
            "order": null,
            "_view_module_version": "1.2.0",
            "grid_template_areas": null,
            "object_position": null,
            "object_fit": null,
            "grid_auto_columns": null,
            "margin": null,
            "display": null,
            "left": null
          }
        },
        "79e0d541cb2f48fa86ad0af821fdc994": {
          "model_module": "@jupyter-widgets/controls",
          "model_name": "HBoxModel",
          "state": {
            "_view_name": "HBoxView",
            "_dom_classes": [],
            "_model_name": "HBoxModel",
            "_view_module": "@jupyter-widgets/controls",
            "_model_module_version": "1.5.0",
            "_view_count": null,
            "_view_module_version": "1.5.0",
            "box_style": "",
            "layout": "IPY_MODEL_07ee2fb70f774181912efd707544685b",
            "_model_module": "@jupyter-widgets/controls",
            "children": [
              "IPY_MODEL_24647904288644d39f50b00383be32a6",
              "IPY_MODEL_8975bc58e0634ce2ba5a4715bb024bdf"
            ]
          }
        },
        "07ee2fb70f774181912efd707544685b": {
          "model_module": "@jupyter-widgets/base",
          "model_name": "LayoutModel",
          "state": {
            "_view_name": "LayoutView",
            "grid_template_rows": null,
            "right": null,
            "justify_content": null,
            "_view_module": "@jupyter-widgets/base",
            "overflow": null,
            "_model_module_version": "1.2.0",
            "_view_count": null,
            "flex_flow": null,
            "width": null,
            "min_width": null,
            "border": null,
            "align_items": null,
            "bottom": null,
            "_model_module": "@jupyter-widgets/base",
            "top": null,
            "grid_column": null,
            "overflow_y": null,
            "overflow_x": null,
            "grid_auto_flow": null,
            "grid_area": null,
            "grid_template_columns": null,
            "flex": null,
            "_model_name": "LayoutModel",
            "justify_items": null,
            "grid_row": null,
            "max_height": null,
            "align_content": null,
            "visibility": null,
            "align_self": null,
            "height": null,
            "min_height": null,
            "padding": null,
            "grid_auto_rows": null,
            "grid_gap": null,
            "max_width": null,
            "order": null,
            "_view_module_version": "1.2.0",
            "grid_template_areas": null,
            "object_position": null,
            "object_fit": null,
            "grid_auto_columns": null,
            "margin": null,
            "display": null,
            "left": null
          }
        },
        "24647904288644d39f50b00383be32a6": {
          "model_module": "@jupyter-widgets/controls",
          "model_name": "FloatProgressModel",
          "state": {
            "_view_name": "ProgressView",
            "style": "IPY_MODEL_48f8ccd48d4f44fba27fcaf1f9d97e55",
            "_dom_classes": [],
            "description": "Downloading: 100%",
            "_model_name": "FloatProgressModel",
            "bar_style": "success",
            "max": 570,
            "_view_module": "@jupyter-widgets/controls",
            "_model_module_version": "1.5.0",
            "value": 570,
            "_view_count": null,
            "_view_module_version": "1.5.0",
            "orientation": "horizontal",
            "min": 0,
            "description_tooltip": null,
            "_model_module": "@jupyter-widgets/controls",
            "layout": "IPY_MODEL_9aaa6d38d08e4fa6a08bc06a104a7b28"
          }
        },
        "8975bc58e0634ce2ba5a4715bb024bdf": {
          "model_module": "@jupyter-widgets/controls",
          "model_name": "HTMLModel",
          "state": {
            "_view_name": "HTMLView",
            "style": "IPY_MODEL_0a091c4635ca4c70b97ff44f1fd003fc",
            "_dom_classes": [],
            "description": "",
            "_model_name": "HTMLModel",
            "placeholder": "​",
            "_view_module": "@jupyter-widgets/controls",
            "_model_module_version": "1.5.0",
            "value": " 570/570 [00:01&lt;00:00, 451B/s]",
            "_view_count": null,
            "_view_module_version": "1.5.0",
            "description_tooltip": null,
            "_model_module": "@jupyter-widgets/controls",
            "layout": "IPY_MODEL_2351cefb1b9745bb9b60d22c2a94318b"
          }
        },
        "48f8ccd48d4f44fba27fcaf1f9d97e55": {
          "model_module": "@jupyter-widgets/controls",
          "model_name": "ProgressStyleModel",
          "state": {
            "_view_name": "StyleView",
            "_model_name": "ProgressStyleModel",
            "description_width": "initial",
            "_view_module": "@jupyter-widgets/base",
            "_model_module_version": "1.5.0",
            "_view_count": null,
            "_view_module_version": "1.2.0",
            "bar_color": null,
            "_model_module": "@jupyter-widgets/controls"
          }
        },
        "9aaa6d38d08e4fa6a08bc06a104a7b28": {
          "model_module": "@jupyter-widgets/base",
          "model_name": "LayoutModel",
          "state": {
            "_view_name": "LayoutView",
            "grid_template_rows": null,
            "right": null,
            "justify_content": null,
            "_view_module": "@jupyter-widgets/base",
            "overflow": null,
            "_model_module_version": "1.2.0",
            "_view_count": null,
            "flex_flow": null,
            "width": null,
            "min_width": null,
            "border": null,
            "align_items": null,
            "bottom": null,
            "_model_module": "@jupyter-widgets/base",
            "top": null,
            "grid_column": null,
            "overflow_y": null,
            "overflow_x": null,
            "grid_auto_flow": null,
            "grid_area": null,
            "grid_template_columns": null,
            "flex": null,
            "_model_name": "LayoutModel",
            "justify_items": null,
            "grid_row": null,
            "max_height": null,
            "align_content": null,
            "visibility": null,
            "align_self": null,
            "height": null,
            "min_height": null,
            "padding": null,
            "grid_auto_rows": null,
            "grid_gap": null,
            "max_width": null,
            "order": null,
            "_view_module_version": "1.2.0",
            "grid_template_areas": null,
            "object_position": null,
            "object_fit": null,
            "grid_auto_columns": null,
            "margin": null,
            "display": null,
            "left": null
          }
        },
        "0a091c4635ca4c70b97ff44f1fd003fc": {
          "model_module": "@jupyter-widgets/controls",
          "model_name": "DescriptionStyleModel",
          "state": {
            "_view_name": "StyleView",
            "_model_name": "DescriptionStyleModel",
            "description_width": "",
            "_view_module": "@jupyter-widgets/base",
            "_model_module_version": "1.5.0",
            "_view_count": null,
            "_view_module_version": "1.2.0",
            "_model_module": "@jupyter-widgets/controls"
          }
        },
        "2351cefb1b9745bb9b60d22c2a94318b": {
          "model_module": "@jupyter-widgets/base",
          "model_name": "LayoutModel",
          "state": {
            "_view_name": "LayoutView",
            "grid_template_rows": null,
            "right": null,
            "justify_content": null,
            "_view_module": "@jupyter-widgets/base",
            "overflow": null,
            "_model_module_version": "1.2.0",
            "_view_count": null,
            "flex_flow": null,
            "width": null,
            "min_width": null,
            "border": null,
            "align_items": null,
            "bottom": null,
            "_model_module": "@jupyter-widgets/base",
            "top": null,
            "grid_column": null,
            "overflow_y": null,
            "overflow_x": null,
            "grid_auto_flow": null,
            "grid_area": null,
            "grid_template_columns": null,
            "flex": null,
            "_model_name": "LayoutModel",
            "justify_items": null,
            "grid_row": null,
            "max_height": null,
            "align_content": null,
            "visibility": null,
            "align_self": null,
            "height": null,
            "min_height": null,
            "padding": null,
            "grid_auto_rows": null,
            "grid_gap": null,
            "max_width": null,
            "order": null,
            "_view_module_version": "1.2.0",
            "grid_template_areas": null,
            "object_position": null,
            "object_fit": null,
            "grid_auto_columns": null,
            "margin": null,
            "display": null,
            "left": null
          }
        },
        "71d40e7d3ea24966af907e87d9a388bd": {
          "model_module": "@jupyter-widgets/controls",
          "model_name": "HBoxModel",
          "state": {
            "_view_name": "HBoxView",
            "_dom_classes": [],
            "_model_name": "HBoxModel",
            "_view_module": "@jupyter-widgets/controls",
            "_model_module_version": "1.5.0",
            "_view_count": null,
            "_view_module_version": "1.5.0",
            "box_style": "",
            "layout": "IPY_MODEL_0bdec07d2dda468a8cd8b22cc3fe6d8d",
            "_model_module": "@jupyter-widgets/controls",
            "children": [
              "IPY_MODEL_474035cc063b4aa5a7607fc1e4ce4805",
              "IPY_MODEL_4e6c0dc1eb5f4fe7b24ea86de775003a"
            ]
          }
        },
        "0bdec07d2dda468a8cd8b22cc3fe6d8d": {
          "model_module": "@jupyter-widgets/base",
          "model_name": "LayoutModel",
          "state": {
            "_view_name": "LayoutView",
            "grid_template_rows": null,
            "right": null,
            "justify_content": null,
            "_view_module": "@jupyter-widgets/base",
            "overflow": null,
            "_model_module_version": "1.2.0",
            "_view_count": null,
            "flex_flow": null,
            "width": null,
            "min_width": null,
            "border": null,
            "align_items": null,
            "bottom": null,
            "_model_module": "@jupyter-widgets/base",
            "top": null,
            "grid_column": null,
            "overflow_y": null,
            "overflow_x": null,
            "grid_auto_flow": null,
            "grid_area": null,
            "grid_template_columns": null,
            "flex": null,
            "_model_name": "LayoutModel",
            "justify_items": null,
            "grid_row": null,
            "max_height": null,
            "align_content": null,
            "visibility": null,
            "align_self": null,
            "height": null,
            "min_height": null,
            "padding": null,
            "grid_auto_rows": null,
            "grid_gap": null,
            "max_width": null,
            "order": null,
            "_view_module_version": "1.2.0",
            "grid_template_areas": null,
            "object_position": null,
            "object_fit": null,
            "grid_auto_columns": null,
            "margin": null,
            "display": null,
            "left": null
          }
        },
        "474035cc063b4aa5a7607fc1e4ce4805": {
          "model_module": "@jupyter-widgets/controls",
          "model_name": "FloatProgressModel",
          "state": {
            "_view_name": "ProgressView",
            "style": "IPY_MODEL_25b6866dae8c4a399b6bf10f29df34f6",
            "_dom_classes": [],
            "description": "Downloading: 100%",
            "_model_name": "FloatProgressModel",
            "bar_style": "success",
            "max": 440473133,
            "_view_module": "@jupyter-widgets/controls",
            "_model_module_version": "1.5.0",
            "value": 440473133,
            "_view_count": null,
            "_view_module_version": "1.5.0",
            "orientation": "horizontal",
            "min": 0,
            "description_tooltip": null,
            "_model_module": "@jupyter-widgets/controls",
            "layout": "IPY_MODEL_25c7e84d20f1407abba46b0e51437d9a"
          }
        },
        "4e6c0dc1eb5f4fe7b24ea86de775003a": {
          "model_module": "@jupyter-widgets/controls",
          "model_name": "HTMLModel",
          "state": {
            "_view_name": "HTMLView",
            "style": "IPY_MODEL_f69185d8993047f38dbe7a8aa61e3e33",
            "_dom_classes": [],
            "description": "",
            "_model_name": "HTMLModel",
            "placeholder": "​",
            "_view_module": "@jupyter-widgets/controls",
            "_model_module_version": "1.5.0",
            "value": " 440M/440M [00:17&lt;00:00, 25.5MB/s]",
            "_view_count": null,
            "_view_module_version": "1.5.0",
            "description_tooltip": null,
            "_model_module": "@jupyter-widgets/controls",
            "layout": "IPY_MODEL_fb25a8a1457d44fea08a1a5bdd400062"
          }
        },
        "25b6866dae8c4a399b6bf10f29df34f6": {
          "model_module": "@jupyter-widgets/controls",
          "model_name": "ProgressStyleModel",
          "state": {
            "_view_name": "StyleView",
            "_model_name": "ProgressStyleModel",
            "description_width": "initial",
            "_view_module": "@jupyter-widgets/base",
            "_model_module_version": "1.5.0",
            "_view_count": null,
            "_view_module_version": "1.2.0",
            "bar_color": null,
            "_model_module": "@jupyter-widgets/controls"
          }
        },
        "25c7e84d20f1407abba46b0e51437d9a": {
          "model_module": "@jupyter-widgets/base",
          "model_name": "LayoutModel",
          "state": {
            "_view_name": "LayoutView",
            "grid_template_rows": null,
            "right": null,
            "justify_content": null,
            "_view_module": "@jupyter-widgets/base",
            "overflow": null,
            "_model_module_version": "1.2.0",
            "_view_count": null,
            "flex_flow": null,
            "width": null,
            "min_width": null,
            "border": null,
            "align_items": null,
            "bottom": null,
            "_model_module": "@jupyter-widgets/base",
            "top": null,
            "grid_column": null,
            "overflow_y": null,
            "overflow_x": null,
            "grid_auto_flow": null,
            "grid_area": null,
            "grid_template_columns": null,
            "flex": null,
            "_model_name": "LayoutModel",
            "justify_items": null,
            "grid_row": null,
            "max_height": null,
            "align_content": null,
            "visibility": null,
            "align_self": null,
            "height": null,
            "min_height": null,
            "padding": null,
            "grid_auto_rows": null,
            "grid_gap": null,
            "max_width": null,
            "order": null,
            "_view_module_version": "1.2.0",
            "grid_template_areas": null,
            "object_position": null,
            "object_fit": null,
            "grid_auto_columns": null,
            "margin": null,
            "display": null,
            "left": null
          }
        },
        "f69185d8993047f38dbe7a8aa61e3e33": {
          "model_module": "@jupyter-widgets/controls",
          "model_name": "DescriptionStyleModel",
          "state": {
            "_view_name": "StyleView",
            "_model_name": "DescriptionStyleModel",
            "description_width": "",
            "_view_module": "@jupyter-widgets/base",
            "_model_module_version": "1.5.0",
            "_view_count": null,
            "_view_module_version": "1.2.0",
            "_model_module": "@jupyter-widgets/controls"
          }
        },
        "fb25a8a1457d44fea08a1a5bdd400062": {
          "model_module": "@jupyter-widgets/base",
          "model_name": "LayoutModel",
          "state": {
            "_view_name": "LayoutView",
            "grid_template_rows": null,
            "right": null,
            "justify_content": null,
            "_view_module": "@jupyter-widgets/base",
            "overflow": null,
            "_model_module_version": "1.2.0",
            "_view_count": null,
            "flex_flow": null,
            "width": null,
            "min_width": null,
            "border": null,
            "align_items": null,
            "bottom": null,
            "_model_module": "@jupyter-widgets/base",
            "top": null,
            "grid_column": null,
            "overflow_y": null,
            "overflow_x": null,
            "grid_auto_flow": null,
            "grid_area": null,
            "grid_template_columns": null,
            "flex": null,
            "_model_name": "LayoutModel",
            "justify_items": null,
            "grid_row": null,
            "max_height": null,
            "align_content": null,
            "visibility": null,
            "align_self": null,
            "height": null,
            "min_height": null,
            "padding": null,
            "grid_auto_rows": null,
            "grid_gap": null,
            "max_width": null,
            "order": null,
            "_view_module_version": "1.2.0",
            "grid_template_areas": null,
            "object_position": null,
            "object_fit": null,
            "grid_auto_columns": null,
            "margin": null,
            "display": null,
            "left": null
          }
        },
        "06d915b72b104b4f87350c533d5e2037": {
          "model_module": "@jupyter-widgets/controls",
          "model_name": "HBoxModel",
          "state": {
            "_view_name": "HBoxView",
            "_dom_classes": [],
            "_model_name": "HBoxModel",
            "_view_module": "@jupyter-widgets/controls",
            "_model_module_version": "1.5.0",
            "_view_count": null,
            "_view_module_version": "1.5.0",
            "box_style": "",
            "layout": "IPY_MODEL_26de3850157e4d7781d0f04bbbef3fb4",
            "_model_module": "@jupyter-widgets/controls",
            "children": [
              "IPY_MODEL_18398372e3724686b22d6a161406be2a",
              "IPY_MODEL_a4bbff5a6b59447690acee3dd5c456da"
            ]
          }
        },
        "26de3850157e4d7781d0f04bbbef3fb4": {
          "model_module": "@jupyter-widgets/base",
          "model_name": "LayoutModel",
          "state": {
            "_view_name": "LayoutView",
            "grid_template_rows": null,
            "right": null,
            "justify_content": null,
            "_view_module": "@jupyter-widgets/base",
            "overflow": null,
            "_model_module_version": "1.2.0",
            "_view_count": null,
            "flex_flow": null,
            "width": null,
            "min_width": null,
            "border": null,
            "align_items": null,
            "bottom": null,
            "_model_module": "@jupyter-widgets/base",
            "top": null,
            "grid_column": null,
            "overflow_y": null,
            "overflow_x": null,
            "grid_auto_flow": null,
            "grid_area": null,
            "grid_template_columns": null,
            "flex": null,
            "_model_name": "LayoutModel",
            "justify_items": null,
            "grid_row": null,
            "max_height": null,
            "align_content": null,
            "visibility": null,
            "align_self": null,
            "height": null,
            "min_height": null,
            "padding": null,
            "grid_auto_rows": null,
            "grid_gap": null,
            "max_width": null,
            "order": null,
            "_view_module_version": "1.2.0",
            "grid_template_areas": null,
            "object_position": null,
            "object_fit": null,
            "grid_auto_columns": null,
            "margin": null,
            "display": null,
            "left": null
          }
        },
        "18398372e3724686b22d6a161406be2a": {
          "model_module": "@jupyter-widgets/controls",
          "model_name": "FloatProgressModel",
          "state": {
            "_view_name": "ProgressView",
            "style": "IPY_MODEL_2875d3cecb634d4ba7e47ddb68cfc898",
            "_dom_classes": [],
            "description": "Downloading: 100%",
            "_model_name": "FloatProgressModel",
            "bar_style": "success",
            "max": 231508,
            "_view_module": "@jupyter-widgets/controls",
            "_model_module_version": "1.5.0",
            "value": 231508,
            "_view_count": null,
            "_view_module_version": "1.5.0",
            "orientation": "horizontal",
            "min": 0,
            "description_tooltip": null,
            "_model_module": "@jupyter-widgets/controls",
            "layout": "IPY_MODEL_23253c4c9c574285a65750c0688b4a55"
          }
        },
        "a4bbff5a6b59447690acee3dd5c456da": {
          "model_module": "@jupyter-widgets/controls",
          "model_name": "HTMLModel",
          "state": {
            "_view_name": "HTMLView",
            "style": "IPY_MODEL_a4ca787223b24e4c98f857e6d50eeaf6",
            "_dom_classes": [],
            "description": "",
            "_model_name": "HTMLModel",
            "placeholder": "​",
            "_view_module": "@jupyter-widgets/controls",
            "_model_module_version": "1.5.0",
            "value": " 232k/232k [00:05&lt;00:00, 44.5kB/s]",
            "_view_count": null,
            "_view_module_version": "1.5.0",
            "description_tooltip": null,
            "_model_module": "@jupyter-widgets/controls",
            "layout": "IPY_MODEL_46486172a782461d90fb91997f0510f9"
          }
        },
        "2875d3cecb634d4ba7e47ddb68cfc898": {
          "model_module": "@jupyter-widgets/controls",
          "model_name": "ProgressStyleModel",
          "state": {
            "_view_name": "StyleView",
            "_model_name": "ProgressStyleModel",
            "description_width": "initial",
            "_view_module": "@jupyter-widgets/base",
            "_model_module_version": "1.5.0",
            "_view_count": null,
            "_view_module_version": "1.2.0",
            "bar_color": null,
            "_model_module": "@jupyter-widgets/controls"
          }
        },
        "23253c4c9c574285a65750c0688b4a55": {
          "model_module": "@jupyter-widgets/base",
          "model_name": "LayoutModel",
          "state": {
            "_view_name": "LayoutView",
            "grid_template_rows": null,
            "right": null,
            "justify_content": null,
            "_view_module": "@jupyter-widgets/base",
            "overflow": null,
            "_model_module_version": "1.2.0",
            "_view_count": null,
            "flex_flow": null,
            "width": null,
            "min_width": null,
            "border": null,
            "align_items": null,
            "bottom": null,
            "_model_module": "@jupyter-widgets/base",
            "top": null,
            "grid_column": null,
            "overflow_y": null,
            "overflow_x": null,
            "grid_auto_flow": null,
            "grid_area": null,
            "grid_template_columns": null,
            "flex": null,
            "_model_name": "LayoutModel",
            "justify_items": null,
            "grid_row": null,
            "max_height": null,
            "align_content": null,
            "visibility": null,
            "align_self": null,
            "height": null,
            "min_height": null,
            "padding": null,
            "grid_auto_rows": null,
            "grid_gap": null,
            "max_width": null,
            "order": null,
            "_view_module_version": "1.2.0",
            "grid_template_areas": null,
            "object_position": null,
            "object_fit": null,
            "grid_auto_columns": null,
            "margin": null,
            "display": null,
            "left": null
          }
        },
        "a4ca787223b24e4c98f857e6d50eeaf6": {
          "model_module": "@jupyter-widgets/controls",
          "model_name": "DescriptionStyleModel",
          "state": {
            "_view_name": "StyleView",
            "_model_name": "DescriptionStyleModel",
            "description_width": "",
            "_view_module": "@jupyter-widgets/base",
            "_model_module_version": "1.5.0",
            "_view_count": null,
            "_view_module_version": "1.2.0",
            "_model_module": "@jupyter-widgets/controls"
          }
        },
        "46486172a782461d90fb91997f0510f9": {
          "model_module": "@jupyter-widgets/base",
          "model_name": "LayoutModel",
          "state": {
            "_view_name": "LayoutView",
            "grid_template_rows": null,
            "right": null,
            "justify_content": null,
            "_view_module": "@jupyter-widgets/base",
            "overflow": null,
            "_model_module_version": "1.2.0",
            "_view_count": null,
            "flex_flow": null,
            "width": null,
            "min_width": null,
            "border": null,
            "align_items": null,
            "bottom": null,
            "_model_module": "@jupyter-widgets/base",
            "top": null,
            "grid_column": null,
            "overflow_y": null,
            "overflow_x": null,
            "grid_auto_flow": null,
            "grid_area": null,
            "grid_template_columns": null,
            "flex": null,
            "_model_name": "LayoutModel",
            "justify_items": null,
            "grid_row": null,
            "max_height": null,
            "align_content": null,
            "visibility": null,
            "align_self": null,
            "height": null,
            "min_height": null,
            "padding": null,
            "grid_auto_rows": null,
            "grid_gap": null,
            "max_width": null,
            "order": null,
            "_view_module_version": "1.2.0",
            "grid_template_areas": null,
            "object_position": null,
            "object_fit": null,
            "grid_auto_columns": null,
            "margin": null,
            "display": null,
            "left": null
          }
        },
        "93400559d54048aea46a0048723d0356": {
          "model_module": "@jupyter-widgets/controls",
          "model_name": "HBoxModel",
          "state": {
            "_view_name": "HBoxView",
            "_dom_classes": [],
            "_model_name": "HBoxModel",
            "_view_module": "@jupyter-widgets/controls",
            "_model_module_version": "1.5.0",
            "_view_count": null,
            "_view_module_version": "1.5.0",
            "box_style": "",
            "layout": "IPY_MODEL_acd466c47f474a4dad20ac045aeafd9c",
            "_model_module": "@jupyter-widgets/controls",
            "children": [
              "IPY_MODEL_b880a1af974c42ccb1527ad3a24dc482",
              "IPY_MODEL_148444edc08b41fb863ff478c6fb3e5d"
            ]
          }
        },
        "acd466c47f474a4dad20ac045aeafd9c": {
          "model_module": "@jupyter-widgets/base",
          "model_name": "LayoutModel",
          "state": {
            "_view_name": "LayoutView",
            "grid_template_rows": null,
            "right": null,
            "justify_content": null,
            "_view_module": "@jupyter-widgets/base",
            "overflow": null,
            "_model_module_version": "1.2.0",
            "_view_count": null,
            "flex_flow": null,
            "width": null,
            "min_width": null,
            "border": null,
            "align_items": null,
            "bottom": null,
            "_model_module": "@jupyter-widgets/base",
            "top": null,
            "grid_column": null,
            "overflow_y": null,
            "overflow_x": null,
            "grid_auto_flow": null,
            "grid_area": null,
            "grid_template_columns": null,
            "flex": null,
            "_model_name": "LayoutModel",
            "justify_items": null,
            "grid_row": null,
            "max_height": null,
            "align_content": null,
            "visibility": null,
            "align_self": null,
            "height": null,
            "min_height": null,
            "padding": null,
            "grid_auto_rows": null,
            "grid_gap": null,
            "max_width": null,
            "order": null,
            "_view_module_version": "1.2.0",
            "grid_template_areas": null,
            "object_position": null,
            "object_fit": null,
            "grid_auto_columns": null,
            "margin": null,
            "display": null,
            "left": null
          }
        },
        "b880a1af974c42ccb1527ad3a24dc482": {
          "model_module": "@jupyter-widgets/controls",
          "model_name": "FloatProgressModel",
          "state": {
            "_view_name": "ProgressView",
            "style": "IPY_MODEL_5806ece2ea194a908327609a73172f88",
            "_dom_classes": [],
            "description": "Downloading: 100%",
            "_model_name": "FloatProgressModel",
            "bar_style": "success",
            "max": 28,
            "_view_module": "@jupyter-widgets/controls",
            "_model_module_version": "1.5.0",
            "value": 28,
            "_view_count": null,
            "_view_module_version": "1.5.0",
            "orientation": "horizontal",
            "min": 0,
            "description_tooltip": null,
            "_model_module": "@jupyter-widgets/controls",
            "layout": "IPY_MODEL_87c17aecaf73467a8b47c37f371aad08"
          }
        },
        "148444edc08b41fb863ff478c6fb3e5d": {
          "model_module": "@jupyter-widgets/controls",
          "model_name": "HTMLModel",
          "state": {
            "_view_name": "HTMLView",
            "style": "IPY_MODEL_2b2fbf30b95940e58debb0a05cf66451",
            "_dom_classes": [],
            "description": "",
            "_model_name": "HTMLModel",
            "placeholder": "​",
            "_view_module": "@jupyter-widgets/controls",
            "_model_module_version": "1.5.0",
            "value": " 28.0/28.0 [00:01&lt;00:00, 14.6B/s]",
            "_view_count": null,
            "_view_module_version": "1.5.0",
            "description_tooltip": null,
            "_model_module": "@jupyter-widgets/controls",
            "layout": "IPY_MODEL_dc8aab7611b54fc397cfe92459612138"
          }
        },
        "5806ece2ea194a908327609a73172f88": {
          "model_module": "@jupyter-widgets/controls",
          "model_name": "ProgressStyleModel",
          "state": {
            "_view_name": "StyleView",
            "_model_name": "ProgressStyleModel",
            "description_width": "initial",
            "_view_module": "@jupyter-widgets/base",
            "_model_module_version": "1.5.0",
            "_view_count": null,
            "_view_module_version": "1.2.0",
            "bar_color": null,
            "_model_module": "@jupyter-widgets/controls"
          }
        },
        "87c17aecaf73467a8b47c37f371aad08": {
          "model_module": "@jupyter-widgets/base",
          "model_name": "LayoutModel",
          "state": {
            "_view_name": "LayoutView",
            "grid_template_rows": null,
            "right": null,
            "justify_content": null,
            "_view_module": "@jupyter-widgets/base",
            "overflow": null,
            "_model_module_version": "1.2.0",
            "_view_count": null,
            "flex_flow": null,
            "width": null,
            "min_width": null,
            "border": null,
            "align_items": null,
            "bottom": null,
            "_model_module": "@jupyter-widgets/base",
            "top": null,
            "grid_column": null,
            "overflow_y": null,
            "overflow_x": null,
            "grid_auto_flow": null,
            "grid_area": null,
            "grid_template_columns": null,
            "flex": null,
            "_model_name": "LayoutModel",
            "justify_items": null,
            "grid_row": null,
            "max_height": null,
            "align_content": null,
            "visibility": null,
            "align_self": null,
            "height": null,
            "min_height": null,
            "padding": null,
            "grid_auto_rows": null,
            "grid_gap": null,
            "max_width": null,
            "order": null,
            "_view_module_version": "1.2.0",
            "grid_template_areas": null,
            "object_position": null,
            "object_fit": null,
            "grid_auto_columns": null,
            "margin": null,
            "display": null,
            "left": null
          }
        },
        "2b2fbf30b95940e58debb0a05cf66451": {
          "model_module": "@jupyter-widgets/controls",
          "model_name": "DescriptionStyleModel",
          "state": {
            "_view_name": "StyleView",
            "_model_name": "DescriptionStyleModel",
            "description_width": "",
            "_view_module": "@jupyter-widgets/base",
            "_model_module_version": "1.5.0",
            "_view_count": null,
            "_view_module_version": "1.2.0",
            "_model_module": "@jupyter-widgets/controls"
          }
        },
        "dc8aab7611b54fc397cfe92459612138": {
          "model_module": "@jupyter-widgets/base",
          "model_name": "LayoutModel",
          "state": {
            "_view_name": "LayoutView",
            "grid_template_rows": null,
            "right": null,
            "justify_content": null,
            "_view_module": "@jupyter-widgets/base",
            "overflow": null,
            "_model_module_version": "1.2.0",
            "_view_count": null,
            "flex_flow": null,
            "width": null,
            "min_width": null,
            "border": null,
            "align_items": null,
            "bottom": null,
            "_model_module": "@jupyter-widgets/base",
            "top": null,
            "grid_column": null,
            "overflow_y": null,
            "overflow_x": null,
            "grid_auto_flow": null,
            "grid_area": null,
            "grid_template_columns": null,
            "flex": null,
            "_model_name": "LayoutModel",
            "justify_items": null,
            "grid_row": null,
            "max_height": null,
            "align_content": null,
            "visibility": null,
            "align_self": null,
            "height": null,
            "min_height": null,
            "padding": null,
            "grid_auto_rows": null,
            "grid_gap": null,
            "max_width": null,
            "order": null,
            "_view_module_version": "1.2.0",
            "grid_template_areas": null,
            "object_position": null,
            "object_fit": null,
            "grid_auto_columns": null,
            "margin": null,
            "display": null,
            "left": null
          }
        },
        "aa8241f1824049aea663396e20e5a8b6": {
          "model_module": "@jupyter-widgets/controls",
          "model_name": "HBoxModel",
          "state": {
            "_view_name": "HBoxView",
            "_dom_classes": [],
            "_model_name": "HBoxModel",
            "_view_module": "@jupyter-widgets/controls",
            "_model_module_version": "1.5.0",
            "_view_count": null,
            "_view_module_version": "1.5.0",
            "box_style": "",
            "layout": "IPY_MODEL_8bcbcb5ef61b4df597f1fe1990751954",
            "_model_module": "@jupyter-widgets/controls",
            "children": [
              "IPY_MODEL_e26ce275b93d40068b18592aa3570947",
              "IPY_MODEL_08cd1959cdde4c1d854e11ffc8480dc7"
            ]
          }
        },
        "8bcbcb5ef61b4df597f1fe1990751954": {
          "model_module": "@jupyter-widgets/base",
          "model_name": "LayoutModel",
          "state": {
            "_view_name": "LayoutView",
            "grid_template_rows": null,
            "right": null,
            "justify_content": null,
            "_view_module": "@jupyter-widgets/base",
            "overflow": null,
            "_model_module_version": "1.2.0",
            "_view_count": null,
            "flex_flow": null,
            "width": null,
            "min_width": null,
            "border": null,
            "align_items": null,
            "bottom": null,
            "_model_module": "@jupyter-widgets/base",
            "top": null,
            "grid_column": null,
            "overflow_y": null,
            "overflow_x": null,
            "grid_auto_flow": null,
            "grid_area": null,
            "grid_template_columns": null,
            "flex": null,
            "_model_name": "LayoutModel",
            "justify_items": null,
            "grid_row": null,
            "max_height": null,
            "align_content": null,
            "visibility": null,
            "align_self": null,
            "height": null,
            "min_height": null,
            "padding": null,
            "grid_auto_rows": null,
            "grid_gap": null,
            "max_width": null,
            "order": null,
            "_view_module_version": "1.2.0",
            "grid_template_areas": null,
            "object_position": null,
            "object_fit": null,
            "grid_auto_columns": null,
            "margin": null,
            "display": null,
            "left": null
          }
        },
        "e26ce275b93d40068b18592aa3570947": {
          "model_module": "@jupyter-widgets/controls",
          "model_name": "FloatProgressModel",
          "state": {
            "_view_name": "ProgressView",
            "style": "IPY_MODEL_c18aa1ca850949c0b2d92ae99b38ba5a",
            "_dom_classes": [],
            "description": "Downloading: 100%",
            "_model_name": "FloatProgressModel",
            "bar_style": "success",
            "max": 466062,
            "_view_module": "@jupyter-widgets/controls",
            "_model_module_version": "1.5.0",
            "value": 466062,
            "_view_count": null,
            "_view_module_version": "1.5.0",
            "orientation": "horizontal",
            "min": 0,
            "description_tooltip": null,
            "_model_module": "@jupyter-widgets/controls",
            "layout": "IPY_MODEL_3c202c7ce4c449158741f61c24d3a706"
          }
        },
        "08cd1959cdde4c1d854e11ffc8480dc7": {
          "model_module": "@jupyter-widgets/controls",
          "model_name": "HTMLModel",
          "state": {
            "_view_name": "HTMLView",
            "style": "IPY_MODEL_635ce8356e554ff3bdbc21883b2f3c24",
            "_dom_classes": [],
            "description": "",
            "_model_name": "HTMLModel",
            "placeholder": "​",
            "_view_module": "@jupyter-widgets/controls",
            "_model_module_version": "1.5.0",
            "value": " 466k/466k [00:00&lt;00:00, 1.11MB/s]",
            "_view_count": null,
            "_view_module_version": "1.5.0",
            "description_tooltip": null,
            "_model_module": "@jupyter-widgets/controls",
            "layout": "IPY_MODEL_8105b98bdfdb4ba6a7b528eb0dbe8c90"
          }
        },
        "c18aa1ca850949c0b2d92ae99b38ba5a": {
          "model_module": "@jupyter-widgets/controls",
          "model_name": "ProgressStyleModel",
          "state": {
            "_view_name": "StyleView",
            "_model_name": "ProgressStyleModel",
            "description_width": "initial",
            "_view_module": "@jupyter-widgets/base",
            "_model_module_version": "1.5.0",
            "_view_count": null,
            "_view_module_version": "1.2.0",
            "bar_color": null,
            "_model_module": "@jupyter-widgets/controls"
          }
        },
        "3c202c7ce4c449158741f61c24d3a706": {
          "model_module": "@jupyter-widgets/base",
          "model_name": "LayoutModel",
          "state": {
            "_view_name": "LayoutView",
            "grid_template_rows": null,
            "right": null,
            "justify_content": null,
            "_view_module": "@jupyter-widgets/base",
            "overflow": null,
            "_model_module_version": "1.2.0",
            "_view_count": null,
            "flex_flow": null,
            "width": null,
            "min_width": null,
            "border": null,
            "align_items": null,
            "bottom": null,
            "_model_module": "@jupyter-widgets/base",
            "top": null,
            "grid_column": null,
            "overflow_y": null,
            "overflow_x": null,
            "grid_auto_flow": null,
            "grid_area": null,
            "grid_template_columns": null,
            "flex": null,
            "_model_name": "LayoutModel",
            "justify_items": null,
            "grid_row": null,
            "max_height": null,
            "align_content": null,
            "visibility": null,
            "align_self": null,
            "height": null,
            "min_height": null,
            "padding": null,
            "grid_auto_rows": null,
            "grid_gap": null,
            "max_width": null,
            "order": null,
            "_view_module_version": "1.2.0",
            "grid_template_areas": null,
            "object_position": null,
            "object_fit": null,
            "grid_auto_columns": null,
            "margin": null,
            "display": null,
            "left": null
          }
        },
        "635ce8356e554ff3bdbc21883b2f3c24": {
          "model_module": "@jupyter-widgets/controls",
          "model_name": "DescriptionStyleModel",
          "state": {
            "_view_name": "StyleView",
            "_model_name": "DescriptionStyleModel",
            "description_width": "",
            "_view_module": "@jupyter-widgets/base",
            "_model_module_version": "1.5.0",
            "_view_count": null,
            "_view_module_version": "1.2.0",
            "_model_module": "@jupyter-widgets/controls"
          }
        },
        "8105b98bdfdb4ba6a7b528eb0dbe8c90": {
          "model_module": "@jupyter-widgets/base",
          "model_name": "LayoutModel",
          "state": {
            "_view_name": "LayoutView",
            "grid_template_rows": null,
            "right": null,
            "justify_content": null,
            "_view_module": "@jupyter-widgets/base",
            "overflow": null,
            "_model_module_version": "1.2.0",
            "_view_count": null,
            "flex_flow": null,
            "width": null,
            "min_width": null,
            "border": null,
            "align_items": null,
            "bottom": null,
            "_model_module": "@jupyter-widgets/base",
            "top": null,
            "grid_column": null,
            "overflow_y": null,
            "overflow_x": null,
            "grid_auto_flow": null,
            "grid_area": null,
            "grid_template_columns": null,
            "flex": null,
            "_model_name": "LayoutModel",
            "justify_items": null,
            "grid_row": null,
            "max_height": null,
            "align_content": null,
            "visibility": null,
            "align_self": null,
            "height": null,
            "min_height": null,
            "padding": null,
            "grid_auto_rows": null,
            "grid_gap": null,
            "max_width": null,
            "order": null,
            "_view_module_version": "1.2.0",
            "grid_template_areas": null,
            "object_position": null,
            "object_fit": null,
            "grid_auto_columns": null,
            "margin": null,
            "display": null,
            "left": null
          }
        }
      }
    }
  },
  "cells": [
    {
      "cell_type": "markdown",
      "metadata": {
        "id": "Fd06vTCzqj3y"
      },
      "source": [
        "# Проект QA\n",
        "\n",
        "## Yes/No Questions\n",
        "\n",
        "Вы будете работать с корпусом BoolQ. Корпус состоит из вопросов, предполагающих бинарный ответ (да / нет), абзацев из Википедии,  содержащих ответ на вопрос, заголовка статьи, из которой извлечен абзац и непосредственно ответа (true / false).\n",
        "\n",
        "Корпус описан в статье:\n",
        "\n",
        "Christopher Clark, Kenton Lee, Ming-Wei Chang, Tom Kwiatkowski, Michael Collins, Kristina Toutanova\n",
        "BoolQ: Exploring the Surprising Difficulty of Natural Yes/No Questions\n",
        "\n",
        "https://arxiv.org/abs/1905.10044\n",
        "\n",
        "\n",
        "Корпус (train-dev split) доступен в репозитории проекта:  https://github.com/google-research-datasets/boolean-questions\n",
        "\n",
        "Используйте для обучения train часть корпуса, для валидации и тестирования – dev часть. \n",
        "\n",
        "Каждый бонус пункт оцениватся в 1 балл. Вывод являяется обязательным!"
      ]
    },
    {
      "cell_type": "code",
      "metadata": {
        "id": "FOup-Ca-q5Ay",
        "colab": {
          "base_uri": "https://localhost:8080/"
        },
        "outputId": "54f41575-d4a0-4cfb-b0af-7f8443e5bc12"
      },
      "source": [
        "!gsutil cp gs://boolq/train.jsonl .\n",
        "!gsutil cp gs://boolq/dev.jsonl ."
      ],
      "execution_count": 3,
      "outputs": [
        {
          "output_type": "stream",
          "text": [
            "Copying gs://boolq/train.jsonl...\n",
            "/ [1 files][  6.2 MiB/  6.2 MiB]                                                \n",
            "Operation completed over 1 objects/6.2 MiB.                                      \n",
            "Copying gs://boolq/dev.jsonl...\n",
            "/ [1 files][  2.1 MiB/  2.1 MiB]                                                \n",
            "Operation completed over 1 objects/2.1 MiB.                                      \n"
          ],
          "name": "stdout"
        }
      ]
    },
    {
      "cell_type": "markdown",
      "metadata": {
        "id": "yDEsCCkoqj34"
      },
      "source": [
        "### Пример вопроса: \n",
        "question: is batman and robin a sequel to batman forever\n",
        "\n",
        "title: Batman & Robin (film)\n",
        "\n",
        "answer: true\n",
        "\n",
        "passage: With the box office success of Batman Forever in June 1995, Warner Bros. immediately commissioned a sequel. They hired director Joel Schumacher and writer Akiva Goldsman to reprise their duties the following August, and decided it was best to fast track production for a June 1997 target release date, which is a break from the usual 3-year gap between films. Schumacher wanted to homage both the broad camp style of the 1960s television series and the work of Dick Sprang. The storyline of Batman & Robin was conceived by Schumacher and Goldsman during pre-production on A Time to Kill. Portions of Mr. Freeze's back-story were based on the Batman: The Animated Series episode ''Heart of Ice'', written by Paul Dini."
      ]
    },
    {
      "cell_type": "markdown",
      "metadata": {
        "id": "5G6nqak9RiWA"
      },
      "source": [
        "# Соображения по методологии\n",
        "\n",
        "# Проведение одного эксперимента\n",
        "1. Подбирайте гиперпараметры! Это довольно важно. Гиперпараметры --- это размеры слоёв, например. Хотя бы в одном эксперименте это стоит сделать честно, в остальных экспериментах в принципе можно предполагать, что в предыдущем эксперименте оптимальные размеры модели уже найдены.\n",
        "2. Часто вам придётся скачивать предобученные веса (вроде BERT или RoBERTa) и дообучать дополнительные веса. В таком случае стоит попробовать несколько разных подходов:\n",
        "* обучать только новые (головные) слои \n",
        "* обучать совместно всю модель\n",
        "* сначала обучить головные слои, потом дофайнтьюнить веса всей модели\n",
        "3. Фиксируйте лучшие результаты на валидационной выборке, по валидационной же выборке останавливайте обучение\n",
        "4. Графики, графики, графики\n",
        "5. Делайте промежуточные выводы\n",
        "\n",
        "# Общие соображения\n",
        "1. Один эксперимент --- одно изменение! Вы не представляете, насколько это важно. Пример: для эксперимента с моделью 1 Петя для получения эмбеддингов скачал предобученные веса BERT, а для эксперимента с моделью 2 -- предобученные веса RoBERTa. Вторая модель оказалась лучше, и Петя подумал, что архитектура второй модели лучше. Но, оказывается, с весами RoBERTa модель 1 работала бы не менее хорошо. \n",
        "2. Всегда сравнивайте результаты эксперимента с результатами всех остальных экспериментов и делайте промежуточные выводы. ***Это самый важный пункт!***\n",
        "3. Не забывайте протестировать модель на адекватность. Для этого нужно задавать ей реальные вопросы и смотреть на ответы. Вопросы не должны быть элементами обучающей выборки!\n"
      ]
    },
    {
      "cell_type": "code",
      "metadata": {
        "id": "ZOWM_cx1r278"
      },
      "source": [
        "!wget -q https://github.com/facebookresearch/fastText/archive/v0.9.2.zip\n",
        "!unzip -q v0.9.2.zip"
      ],
      "execution_count": 4,
      "outputs": []
    },
    {
      "cell_type": "code",
      "metadata": {
        "colab": {
          "base_uri": "https://localhost:8080/"
        },
        "id": "uRJXhoI12esQ",
        "outputId": "002a6af0-37c4-4ad9-c93f-b798603febd4"
      },
      "source": [
        "!ls fastText-0.9.2"
      ],
      "execution_count": 5,
      "outputs": [
        {
          "output_type": "stream",
          "text": [
            "alignment\t\t   fasttext.pc.in\t    scripts\n",
            "classification-example.sh  get-wikimedia.sh\t    setup.cfg\n",
            "classification-results.sh  LICENSE\t\t    setup.py\n",
            "CMakeLists.txt\t\t   Makefile\t\t    src\n",
            "CODE_OF_CONDUCT.md\t   MANIFEST.in\t\t    tests\n",
            "CONTRIBUTING.md\t\t   python\t\t    webassembly\n",
            "crawl\t\t\t   quantization-example.sh  website\n",
            "docs\t\t\t   README.md\t\t    wikifil.pl\n",
            "download_model.py\t   reduce_model.py\t    word-vector-example.sh\n",
            "eval.py\t\t\t   runtests.py\n"
          ],
          "name": "stdout"
        }
      ]
    },
    {
      "cell_type": "code",
      "metadata": {
        "id": "u1tjkFKQCGsk"
      },
      "source": [
        "%%bash\n",
        "cd fastText-0.9.2\n",
        "pip install -q ."
      ],
      "execution_count": 6,
      "outputs": []
    },
    {
      "cell_type": "code",
      "metadata": {
        "id": "OLlOtWU-CaYK",
        "colab": {
          "base_uri": "https://localhost:8080/"
        },
        "outputId": "c48908a9-2b15-4458-cfcc-6d7eb62170db"
      },
      "source": [
        "!pip install -q transformers"
      ],
      "execution_count": 7,
      "outputs": [
        {
          "output_type": "stream",
          "text": [
            "\u001b[K     |████████████████████████████████| 2.5MB 4.1MB/s \n",
            "\u001b[K     |████████████████████████████████| 3.3MB 48.5MB/s \n",
            "\u001b[K     |████████████████████████████████| 901kB 50.6MB/s \n",
            "\u001b[?25h"
          ],
          "name": "stdout"
        }
      ]
    },
    {
      "cell_type": "code",
      "metadata": {
        "colab": {
          "base_uri": "https://localhost:8080/"
        },
        "id": "Us7-kKeJBeXn",
        "outputId": "8cc8d091-c520-458e-a7b5-bb63eea87dbb"
      },
      "source": [
        "!pip install -U sentence-transformers"
      ],
      "execution_count": 8,
      "outputs": [
        {
          "output_type": "stream",
          "text": [
            "Collecting sentence-transformers\n",
            "\u001b[?25l  Downloading https://files.pythonhosted.org/packages/3b/fd/8a81047bbd9fa134a3f27e12937d2a487bd49d353a038916a5d7ed4e5543/sentence-transformers-2.0.0.tar.gz (85kB)\n",
            "\r\u001b[K     |███▉                            | 10kB 14.3MB/s eta 0:00:01\r\u001b[K     |███████▋                        | 20kB 7.2MB/s eta 0:00:01\r\u001b[K     |███████████▌                    | 30kB 6.2MB/s eta 0:00:01\r\u001b[K     |███████████████▎                | 40kB 5.7MB/s eta 0:00:01\r\u001b[K     |███████████████████▏            | 51kB 3.0MB/s eta 0:00:01\r\u001b[K     |███████████████████████         | 61kB 3.3MB/s eta 0:00:01\r\u001b[K     |██████████████████████████▉     | 71kB 3.6MB/s eta 0:00:01\r\u001b[K     |██████████████████████████████▋ | 81kB 3.8MB/s eta 0:00:01\r\u001b[K     |████████████████████████████████| 92kB 3.3MB/s \n",
            "\u001b[?25hRequirement already satisfied, skipping upgrade: transformers<5.0.0,>=4.6.0 in /usr/local/lib/python3.7/dist-packages (from sentence-transformers) (4.8.2)\n",
            "Requirement already satisfied, skipping upgrade: tqdm in /usr/local/lib/python3.7/dist-packages (from sentence-transformers) (4.41.1)\n",
            "Requirement already satisfied, skipping upgrade: torch>=1.6.0 in /usr/local/lib/python3.7/dist-packages (from sentence-transformers) (1.9.0+cu102)\n",
            "Requirement already satisfied, skipping upgrade: torchvision in /usr/local/lib/python3.7/dist-packages (from sentence-transformers) (0.10.0+cu102)\n",
            "Requirement already satisfied, skipping upgrade: numpy in /usr/local/lib/python3.7/dist-packages (from sentence-transformers) (1.19.5)\n",
            "Requirement already satisfied, skipping upgrade: scikit-learn in /usr/local/lib/python3.7/dist-packages (from sentence-transformers) (0.22.2.post1)\n",
            "Requirement already satisfied, skipping upgrade: scipy in /usr/local/lib/python3.7/dist-packages (from sentence-transformers) (1.4.1)\n",
            "Requirement already satisfied, skipping upgrade: nltk in /usr/local/lib/python3.7/dist-packages (from sentence-transformers) (3.2.5)\n",
            "Collecting sentencepiece\n",
            "\u001b[?25l  Downloading https://files.pythonhosted.org/packages/ac/aa/1437691b0c7c83086ebb79ce2da16e00bef024f24fec2a5161c35476f499/sentencepiece-0.1.96-cp37-cp37m-manylinux_2_17_x86_64.manylinux2014_x86_64.whl (1.2MB)\n",
            "\u001b[K     |████████████████████████████████| 1.2MB 5.9MB/s \n",
            "\u001b[?25hRequirement already satisfied, skipping upgrade: huggingface-hub in /usr/local/lib/python3.7/dist-packages (from sentence-transformers) (0.0.12)\n",
            "Requirement already satisfied, skipping upgrade: sacremoses in /usr/local/lib/python3.7/dist-packages (from transformers<5.0.0,>=4.6.0->sentence-transformers) (0.0.45)\n",
            "Requirement already satisfied, skipping upgrade: importlib-metadata; python_version < \"3.8\" in /usr/local/lib/python3.7/dist-packages (from transformers<5.0.0,>=4.6.0->sentence-transformers) (4.5.0)\n",
            "Requirement already satisfied, skipping upgrade: packaging in /usr/local/lib/python3.7/dist-packages (from transformers<5.0.0,>=4.6.0->sentence-transformers) (20.9)\n",
            "Requirement already satisfied, skipping upgrade: filelock in /usr/local/lib/python3.7/dist-packages (from transformers<5.0.0,>=4.6.0->sentence-transformers) (3.0.12)\n",
            "Requirement already satisfied, skipping upgrade: tokenizers<0.11,>=0.10.1 in /usr/local/lib/python3.7/dist-packages (from transformers<5.0.0,>=4.6.0->sentence-transformers) (0.10.3)\n",
            "Requirement already satisfied, skipping upgrade: requests in /usr/local/lib/python3.7/dist-packages (from transformers<5.0.0,>=4.6.0->sentence-transformers) (2.23.0)\n",
            "Requirement already satisfied, skipping upgrade: pyyaml in /usr/local/lib/python3.7/dist-packages (from transformers<5.0.0,>=4.6.0->sentence-transformers) (3.13)\n",
            "Requirement already satisfied, skipping upgrade: regex!=2019.12.17 in /usr/local/lib/python3.7/dist-packages (from transformers<5.0.0,>=4.6.0->sentence-transformers) (2019.12.20)\n",
            "Requirement already satisfied, skipping upgrade: typing-extensions in /usr/local/lib/python3.7/dist-packages (from torch>=1.6.0->sentence-transformers) (3.7.4.3)\n",
            "Requirement already satisfied, skipping upgrade: pillow>=5.3.0 in /usr/local/lib/python3.7/dist-packages (from torchvision->sentence-transformers) (7.1.2)\n",
            "Requirement already satisfied, skipping upgrade: joblib>=0.11 in /usr/local/lib/python3.7/dist-packages (from scikit-learn->sentence-transformers) (1.0.1)\n",
            "Requirement already satisfied, skipping upgrade: six in /usr/local/lib/python3.7/dist-packages (from nltk->sentence-transformers) (1.15.0)\n",
            "Requirement already satisfied, skipping upgrade: click in /usr/local/lib/python3.7/dist-packages (from sacremoses->transformers<5.0.0,>=4.6.0->sentence-transformers) (7.1.2)\n",
            "Requirement already satisfied, skipping upgrade: zipp>=0.5 in /usr/local/lib/python3.7/dist-packages (from importlib-metadata; python_version < \"3.8\"->transformers<5.0.0,>=4.6.0->sentence-transformers) (3.4.1)\n",
            "Requirement already satisfied, skipping upgrade: pyparsing>=2.0.2 in /usr/local/lib/python3.7/dist-packages (from packaging->transformers<5.0.0,>=4.6.0->sentence-transformers) (2.4.7)\n",
            "Requirement already satisfied, skipping upgrade: urllib3!=1.25.0,!=1.25.1,<1.26,>=1.21.1 in /usr/local/lib/python3.7/dist-packages (from requests->transformers<5.0.0,>=4.6.0->sentence-transformers) (1.24.3)\n",
            "Requirement already satisfied, skipping upgrade: idna<3,>=2.5 in /usr/local/lib/python3.7/dist-packages (from requests->transformers<5.0.0,>=4.6.0->sentence-transformers) (2.10)\n",
            "Requirement already satisfied, skipping upgrade: certifi>=2017.4.17 in /usr/local/lib/python3.7/dist-packages (from requests->transformers<5.0.0,>=4.6.0->sentence-transformers) (2021.5.30)\n",
            "Requirement already satisfied, skipping upgrade: chardet<4,>=3.0.2 in /usr/local/lib/python3.7/dist-packages (from requests->transformers<5.0.0,>=4.6.0->sentence-transformers) (3.0.4)\n",
            "Building wheels for collected packages: sentence-transformers\n",
            "  Building wheel for sentence-transformers (setup.py) ... \u001b[?25l\u001b[?25hdone\n",
            "  Created wheel for sentence-transformers: filename=sentence_transformers-2.0.0-cp37-none-any.whl size=126711 sha256=9108253faa8c5ab1e874f79f1a5a703e0e626b7898452d9e82c1176becdf003d\n",
            "  Stored in directory: /root/.cache/pip/wheels/38/d2/98/d191289a877a34c68aa67e05179521e060f96394a3e9336be6\n",
            "Successfully built sentence-transformers\n",
            "Installing collected packages: sentencepiece, sentence-transformers\n",
            "Successfully installed sentence-transformers-2.0.0 sentencepiece-0.1.96\n"
          ],
          "name": "stdout"
        }
      ]
    },
    {
      "cell_type": "code",
      "metadata": {
        "id": "mHWQU0TzhObl"
      },
      "source": [
        "import json\n",
        "from typing import List\n",
        "from collections import Counter\n",
        "import matplotlib\n",
        "import matplotlib.pyplot as plt\n",
        "%matplotlib inline\n",
        "from nltk.tokenize import WordPunctTokenizer\n",
        "import fasttext\n",
        "from transformers import BertModel, BertTokenizer, AutoModel, AutoTokenizer, BertForQuestionAnswering, RobertaForQuestionAnswering, BertForSequenceClassification\n",
        "from sentence_transformers import SentenceTransformer\n",
        "import torch\n",
        "from torch import nn\n",
        "from torch.nn import functional as F\n",
        "import torch.optim as optim\n",
        "from torch.utils.data import Dataset, DataLoader\n",
        "import numpy as np\n",
        "from sklearn.linear_model import LogisticRegression\n",
        "from sklearn.preprocessing import LabelEncoder\n",
        "from sklearn.metrics import accuracy_score"
      ],
      "execution_count": 9,
      "outputs": []
    },
    {
      "cell_type": "code",
      "metadata": {
        "colab": {
          "base_uri": "https://localhost:8080/"
        },
        "id": "-TTd3SqIZMeC",
        "outputId": "6d93c053-94c6-4e89-abf4-530034772f7b"
      },
      "source": [
        "from google.colab import drive\n",
        "drive.mount('/content/drive')\n",
        "%cd drive/MyDrive/"
      ],
      "execution_count": 10,
      "outputs": [
        {
          "output_type": "stream",
          "text": [
            "Mounted at /content/drive\n",
            "/content/drive/MyDrive\n"
          ],
          "name": "stdout"
        }
      ]
    },
    {
      "cell_type": "code",
      "metadata": {
        "colab": {
          "base_uri": "https://localhost:8080/"
        },
        "id": "H_mexKnqm2rv",
        "outputId": "d54c723f-7d8f-4f3b-d5c8-908d3f696600"
      },
      "source": [
        "import functions_module\n",
        "from functions_module import transform_logits, transform_target, plot, train, evaluate, epoch_time, train_eval_loop\n",
        "import imp\n",
        "imp.reload(functions_module)"
      ],
      "execution_count": 11,
      "outputs": [
        {
          "output_type": "execute_result",
          "data": {
            "text/plain": [
              "<module 'functions_module' from '/content/drive/MyDrive/functions_module.py'>"
            ]
          },
          "metadata": {
            "tags": []
          },
          "execution_count": 11
        }
      ]
    },
    {
      "cell_type": "markdown",
      "metadata": {
        "id": "Iu5CnuYdqj3_"
      },
      "source": [
        "## Часть 1. Эксплоративный анализ (1 балл)\n",
        "1. Посчитайте долю yes и no классов в корпусе\n",
        "2. Оцените среднюю длину вопроса\n",
        "3. Оцените среднюю длину параграфа\n",
        "4. Предположите, по каким эвристикам были собраны вопросы (или найдите ответ в статье). Продемонстрируйте, как эти эвристики повлияли на структуру корпуса. "
      ]
    },
    {
      "cell_type": "code",
      "metadata": {
        "colab": {
          "base_uri": "https://localhost:8080/"
        },
        "id": "f0M0g2GIYbCC",
        "outputId": "9f96f077-1c57-497c-daba-f3b70902d20d"
      },
      "source": [
        "!head train.jsonl"
      ],
      "execution_count": 12,
      "outputs": [
        {
          "output_type": "stream",
          "text": [
            "{\"question\": \"do iran and afghanistan speak the same language\", \"title\": \"Persian language\", \"answer\": true, \"passage\": \"Persian (/ˈpɜːrʒən, -ʃən/), also known by its endonym Farsi (فارسی fārsi (fɒːɾˈsiː) ( listen)), is one of the Western Iranian languages within the Indo-Iranian branch of the Indo-European language family. It is primarily spoken in Iran, Afghanistan (officially known as Dari since 1958), and Tajikistan (officially known as Tajiki since the Soviet era), and some other regions which historically were Persianate societies and considered part of Greater Iran. It is written in the Persian alphabet, a modified variant of the Arabic script, which itself evolved from the Aramaic alphabet.\"}\n",
            "{\"question\": \"do good samaritan laws protect those who help at an accident\", \"title\": \"Good Samaritan law\", \"answer\": true, \"passage\": \"Good Samaritan laws offer legal protection to people who give reasonable assistance to those who are, or who they believe to be, injured, ill, in peril, or otherwise incapacitated. The protection is intended to reduce bystanders' hesitation to assist, for fear of being sued or prosecuted for unintentional injury or wrongful death. An example of such a law in common-law areas of Canada: a good Samaritan doctrine is a legal principle that prevents a rescuer who has voluntarily helped a victim in distress from being successfully sued for wrongdoing. Its purpose is to keep people from being reluctant to help a stranger in need for fear of legal repercussions should they make some mistake in treatment. By contrast, a duty to rescue law requires people to offer assistance and holds those who fail to do so liable.\"}\n",
            "{\"question\": \"is windows movie maker part of windows essentials\", \"title\": \"Windows Movie Maker\", \"answer\": true, \"passage\": \"Windows Movie Maker (formerly known as Windows Live Movie Maker in Windows 7) is a discontinued video editing software by Microsoft. It is a part of Windows Essentials software suite and offers the ability to create and edit videos as well as to publish them on OneDrive, Facebook, Vimeo, YouTube, and Flickr.\"}\n",
            "{\"question\": \"is confectionary sugar the same as powdered sugar\", \"title\": \"Powdered sugar\", \"answer\": true, \"passage\": \"Powdered sugar, also called confectioners' sugar, icing sugar, and icing cake, is a finely ground sugar produced by milling granulated sugar into a powdered state. It usually contains a small amount of anti-caking agent to prevent clumping and improve flow. Although most often produced in a factory, powdered sugar can also be made by processing ordinary granulated sugar in a coffee grinder, or by crushing it by hand in a mortar and pestle.\"}\n",
            "{\"question\": \"is elder scrolls online the same as skyrim\", \"title\": \"The Elder Scrolls Online\", \"answer\": false, \"passage\": \"As with other games in The Elder Scrolls series, the game is set on the continent of Tamriel. The events of the game occur a millennium before those of The Elder Scrolls V: Skyrim and around 800 years before The Elder Scrolls III: Morrowind and The Elder Scrolls IV: Oblivion. It has a broadly similar structure to Skyrim, with two separate conflicts progressing at the same time, one with the fate of the world in the balance, and one where the prize is supreme power on Tamriel. In The Elder Scrolls Online, the first struggle is against the Daedric Prince Molag Bal, who is attempting to meld the plane of Mundus with his realm of Coldharbour, and the second is to capture the vacant imperial throne, contested by three alliances of the mortal races. The player character has been sacrificed to Molag Bal, and Molag Bal has stolen their soul, the recovery of which is the primary game objective.\"}\n",
            "{\"question\": \"can you use oyster card at epsom station\", \"title\": \"Epsom railway station\", \"answer\": false, \"passage\": \"Epsom railway station serves the town of Epsom in Surrey. It is located off Waterloo Road and is less than two minutes' walk from the High Street. It is not in the London Oyster card zone unlike Epsom Downs or Tattenham Corner stations. The station building was replaced in 2012/2013 with a new building with apartments above the station (see end of article).\"}\n",
            "{\"question\": \"will there be a season 4 of da vinci's demons\", \"title\": \"Da Vinci's Demons\", \"answer\": false, \"passage\": \"The series premiered in the United States on Starz on 12 April 2013, and its second season premiered on 22 March 2014. The series was renewed for a third season, which premiered on 24 October 2015. On 23 July 2015, Starz announced that the third season would be the show's last. However Goyer has left it open for a miniseries return.\"}\n",
            "{\"question\": \"is the federal court the same as the supreme court\", \"title\": \"Federal judiciary of the United States\", \"answer\": false, \"passage\": \"The federal courts are composed of three levels of courts. The Supreme Court of the United States is the court of last resort. It is generally an appellate court that operates under discretionary review, which means that the Court can choose which cases to hear, by granting writs of certiorari. There is therefore generally no basic right of appeal that extends automatically all the way to the Supreme Court. In a few situations (like lawsuits between state governments or some cases between the federal government and a state) it sits as a court of original jurisdiction.\"}\n",
            "{\"question\": \"did abraham lincoln write the letter in saving private ryan\", \"title\": \"Bixby letter\", \"answer\": true, \"passage\": \"In the 1998 war film Saving Private Ryan, General George Marshall (played by Harve Presnell) reads the Bixby letter to his officers before giving the order to find and send home Private James Francis Ryan after Ryan's three brothers died in battle.\"}\n",
            "{\"question\": \"is batman and robin a sequel to batman forever\", \"title\": \"Batman & Robin (film)\", \"answer\": true, \"passage\": \"With the box office success of Batman Forever in June 1995, Warner Bros. immediately commissioned a sequel. They hired director Joel Schumacher and writer Akiva Goldsman to reprise their duties the following August, and decided it was best to fast track production for a June 1997 target release date, which is a break from the usual 3-year gap between films. Schumacher wanted to homage both the broad camp style of the 1960s television series and the work of Dick Sprang. The storyline of Batman & Robin was conceived by Schumacher and Goldsman during pre-production on A Time to Kill. Portions of Mr. Freeze's back-story were based on the Batman: The Animated Series episode ``Heart of Ice'', written by Paul Dini.\"}\n"
          ],
          "name": "stdout"
        }
      ]
    },
    {
      "cell_type": "code",
      "metadata": {
        "id": "PgnTgvHkbRof"
      },
      "source": [
        "def read_data(file):\n",
        "    new_data = {'question': [], 'title': [], 'answer': [], 'passage': []}\n",
        "    with open(file) as f:\n",
        "        data = [json.loads(line) for line in f]\n",
        "        for rec in data:\n",
        "            new_data['question'].append(rec['question'])\n",
        "            new_data['title'].append(rec['title'])\n",
        "            new_data['answer'].append(rec['answer'])\n",
        "            new_data['passage'].append(rec['passage'])\n",
        "    return new_data\n",
        "\n",
        "\n",
        "tr_data = read_data('train.jsonl')\n",
        "dev_data = read_data('dev.jsonl')"
      ],
      "execution_count": 13,
      "outputs": []
    },
    {
      "cell_type": "code",
      "metadata": {
        "colab": {
          "base_uri": "https://localhost:8080/"
        },
        "id": "L1mEm99CAlNZ",
        "outputId": "0c02dd4f-ff5d-449f-f773-1fed44957b32"
      },
      "source": [
        "print(f\"'question': {tr_data['question'][0]}\\n'title': {tr_data['title'][0]}\\n'answer': {tr_data['answer'][0]}\\n'passage': {tr_data['passage'][0]}\")"
      ],
      "execution_count": 14,
      "outputs": [
        {
          "output_type": "stream",
          "text": [
            "'question': do iran and afghanistan speak the same language\n",
            "'title': Persian language\n",
            "'answer': True\n",
            "'passage': Persian (/ˈpɜːrʒən, -ʃən/), also known by its endonym Farsi (فارسی fārsi (fɒːɾˈsiː) ( listen)), is one of the Western Iranian languages within the Indo-Iranian branch of the Indo-European language family. It is primarily spoken in Iran, Afghanistan (officially known as Dari since 1958), and Tajikistan (officially known as Tajiki since the Soviet era), and some other regions which historically were Persianate societies and considered part of Greater Iran. It is written in the Persian alphabet, a modified variant of the Arabic script, which itself evolved from the Aramaic alphabet.\n"
          ],
          "name": "stdout"
        }
      ]
    },
    {
      "cell_type": "code",
      "metadata": {
        "id": "gs3aHq7wdLiZ"
      },
      "source": [
        "def get_answer_count_percentage(answers: List[bool]):\n",
        "    count_percentage = {'count': [], 'perc': []}\n",
        "\n",
        "    count_percentage['count'].append(Counter(answers)[True])\n",
        "    count_percentage['count'].append(Counter(answers)[False])\n",
        "    count_percentage['perc'].append(Counter(answers)[True]/len(answers))\n",
        "    count_percentage['perc'].append(Counter(answers)[False]/len(answers))\n",
        "    \n",
        "    return count_percentage"
      ],
      "execution_count": 15,
      "outputs": []
    },
    {
      "cell_type": "code",
      "metadata": {
        "colab": {
          "base_uri": "https://localhost:8080/"
        },
        "id": "DRWp3t2ehzOh",
        "outputId": "ada5262a-b04a-44ee-dd8b-0ab8a38538fe"
      },
      "source": [
        "tr_perc_true = get_answer_count_percentage(tr_data[\"answer\"])['perc'][0]\n",
        "tr_perc_false = get_answer_count_percentage(tr_data[\"answer\"])['perc'][1]\n",
        "dev_perc_true = get_answer_count_percentage(dev_data[\"answer\"])['perc'][0]\n",
        "dev_perc_false = get_answer_count_percentage(dev_data[\"answer\"])['perc'][1]\n",
        "\n",
        "print(\"Train True: %.3f | Train False: %.3f\" % (tr_perc_true, tr_perc_false))\n",
        "print(\"Dev True:   %.3f | Dev False:   %.3f\" % (dev_perc_true, dev_perc_false))"
      ],
      "execution_count": 16,
      "outputs": [
        {
          "output_type": "stream",
          "text": [
            "Train True: 0.623 | Train False: 0.377\n",
            "Dev True:   0.622 | Dev False:   0.378\n"
          ],
          "name": "stdout"
        }
      ]
    },
    {
      "cell_type": "code",
      "metadata": {
        "colab": {
          "base_uri": "https://localhost:8080/",
          "height": 390
        },
        "id": "zVlIlADd70k8",
        "outputId": "ee8a8fdb-e5db-4717-dba8-b1ef651921fb"
      },
      "source": [
        "tr_count = get_answer_count_percentage(tr_data[\"answer\"])['count']\n",
        "dev_count = get_answer_count_percentage(dev_data[\"answer\"])['count']\n",
        "\n",
        "fig, axs = plt.subplots(1, 2, figsize=(14, 6))\n",
        "\n",
        "axs[0].bar(x=['True', 'False'], height=tr_count)\n",
        "axs[0].set_title('Train distribution')\n",
        "axs[1].bar(x=['True', 'False'], height=dev_count)\n",
        "axs[1].set_title('Dev distribution')\n",
        "\n",
        "plt.show()"
      ],
      "execution_count": 17,
      "outputs": [
        {
          "output_type": "display_data",
          "data": {
            "image/png": "[encoded data removed]",
            "text/plain": [
              "<Figure size 1008x432 with 2 Axes>"
            ]
          },
          "metadata": {
            "tags": [],
            "needs_background": "light"
          }
        }
      ]
    },
    {
      "cell_type": "code",
      "metadata": {
        "colab": {
          "base_uri": "https://localhost:8080/"
        },
        "id": "czVbcldCYO04",
        "outputId": "7fc42a1d-7571-4c64-e304-fb38491a4d21"
      },
      "source": [
        "tokenizer = WordPunctTokenizer()\n",
        "\n",
        "def average_length(sents: List[str]):\n",
        "    tokens_quests = [tokenizer.tokenize(sent) for sent in sents]\n",
        "    av_len = sum([len(sent) for sent in tokens_quests]) / len(tokens_quests)\n",
        "    return round(av_len)\n",
        "\n",
        "\n",
        "av_len_tr_quest = average_length(tr_data['question'])\n",
        "av_len_dev_quest = average_length(dev_data['question'])\n",
        "\n",
        "av_len_tr_pas = average_length(tr_data['passage'])\n",
        "av_len_dev_pas = average_length(dev_data['passage'])\n",
        "\n",
        "print(\"Train average question lengtn: %i   | Dev average question lengtn: %i\" % (av_len_tr_quest, av_len_dev_quest))\n",
        "print(\"Train average passage lengtn:  %i | Dev average passage lengtn:  %i\" % (av_len_tr_pas, av_len_dev_pas))"
      ],
      "execution_count": 18,
      "outputs": [
        {
          "output_type": "stream",
          "text": [
            "Train average question lengtn: 9   | Dev average question lengtn: 9\n",
            "Train average passage lengtn:  111 | Dev average passage lengtn:  110\n"
          ],
          "name": "stdout"
        }
      ]
    },
    {
      "cell_type": "markdown",
      "metadata": {
        "id": "91l0bYnSrhVb"
      },
      "source": [
        "Специфика датасета состоит в том, что предполагаются бинарные ответы на нефактологические вопросы, т.е. модели необходимо сделать сложные умозаключения. \n",
        "\n",
        "Пример экземпляра:\n",
        "\n",
        "'question': do iran and afghanistan speak the same language\n",
        "'title': Persian language\n",
        "'answer': True\n",
        "'passage': Persian (/ˈpɜːrʒən, -ʃən/), also known by its endonym Farsi (فارسی fārsi (fɒːɾˈsiː) ( listen)), is one of the Western Iranian languages within the Indo-Iranian branch of the Indo-European language family. It is primarily spoken in Iran, Afghanistan (officially known as Dari since 1958), and Tajikistan (officially known as Tajiki since the Soviet era), and some other regions which historically were Persianate societies and considered part of Greater Iran. It is written in the Persian alphabet, a modified variant of the Arabic script, which itself evolved from the Aramaic alphabet.\n",
        "\n",
        "Датасет хорош для проверки обобщающей способности моделей. Так, даже человек способен лишь на 90% правильных ответов."
      ]
    },
    {
      "cell_type": "markdown",
      "metadata": {
        "id": "nRTuUReAqj4D"
      },
      "source": [
        "## Часть 2. Baseline (1 балл)\n",
        "1. Оцените accuracy точность совсем простого базового решения: присвоить каждой паре вопрос-ответ в dev части самый частый класс из train части\n",
        "2. Оцените accuracy чуть более сложного базового решения: fasttext на текстах, состоящих из склееных вопросов и абзацев (' '.join([question, passage]))\n",
        "\n",
        "Почему fasttext плохо справляется с этой задачей?"
      ]
    },
    {
      "cell_type": "markdown",
      "metadata": {
        "id": "aMSqcvZ4s_ce"
      },
      "source": [
        "1. Исходя из полученного соотношения классов, accuracy будет равно 0.62."
      ]
    },
    {
      "cell_type": "markdown",
      "metadata": {
        "id": "CbsajHIKxtS4"
      },
      "source": [
        "2. Получим результат с помощью fasttext."
      ]
    },
    {
      "cell_type": "code",
      "metadata": {
        "id": "YQGywU05hH4L"
      },
      "source": [
        "def get_fasttext_data(data=None, file_name=None):\n",
        "    answer = data['answer']\n",
        "    question = data['question']\n",
        "    passage = data['passage']\n",
        "\n",
        "    fasttext_data = ['__label__' + str(a) + ' ' + q + ' ' + p for a, q, p in zip(answer, question, passage)]\n",
        "\n",
        "    f = open(file_name, \"w\")\n",
        "\n",
        "    for line in fasttext_data:\n",
        "        f.write(line + '\\n')\n",
        "\n",
        "\n",
        "get_fasttext_data(tr_data, 'train_ft_data')\n",
        "get_fasttext_data(dev_data, 'dev_ft_data')"
      ],
      "execution_count": 19,
      "outputs": []
    },
    {
      "cell_type": "code",
      "metadata": {
        "id": "d8FVo9jtDL9e"
      },
      "source": [
        "ft_model = fasttext.train_supervised(input='train_ft_data', lr=0.5, epoch=25, wordNgrams=2, bucket=200000, dim=300, loss='hs')"
      ],
      "execution_count": 65,
      "outputs": []
    },
    {
      "cell_type": "code",
      "metadata": {
        "colab": {
          "base_uri": "https://localhost:8080/"
        },
        "id": "jOGRI-ozipl4",
        "outputId": "e11418d6-619b-49be-a98a-e9b18096f115"
      },
      "source": [
        "ft_model.test('dev_ft_data')"
      ],
      "execution_count": null,
      "outputs": [
        {
          "output_type": "execute_result",
          "data": {
            "text/plain": [
              "(3270, 0.6877675840978593, 0.6877675840978593)"
            ]
          },
          "metadata": {
            "tags": []
          },
          "execution_count": 19
        }
      ]
    },
    {
      "cell_type": "code",
      "metadata": {
        "colab": {
          "base_uri": "https://localhost:8080/"
        },
        "id": "jjZ9pGV31hnj",
        "outputId": "e8ad0449-ba09-4223-fd5e-a56a623f9fe7"
      },
      "source": [
        "dev_data['question'][2], dev_data['answer'][2]"
      ],
      "execution_count": null,
      "outputs": [
        {
          "output_type": "execute_result",
          "data": {
            "text/plain": [
              "('is pain experienced in a missing body part or paralyzed area', True)"
            ]
          },
          "metadata": {
            "tags": []
          },
          "execution_count": 20
        }
      ]
    },
    {
      "cell_type": "code",
      "metadata": {
        "colab": {
          "base_uri": "https://localhost:8080/"
        },
        "id": "5TVR7AJd16vu",
        "outputId": "f3540125-58ec-4063-eaf0-50e2b00eac5b"
      },
      "source": [
        "ft_model.predict(dev_data['question'][2] + '?')"
      ],
      "execution_count": null,
      "outputs": [
        {
          "output_type": "execute_result",
          "data": {
            "text/plain": [
              "(('__label__True',), array([1.00000489]))"
            ]
          },
          "metadata": {
            "tags": []
          },
          "execution_count": 21
        }
      ]
    },
    {
      "cell_type": "markdown",
      "metadata": {
        "id": "llJrUeD_yN2h"
      },
      "source": [
        "Результат оказался только на 0.07 лучше.\n",
        "FASTTEXT довльно простая модель, основанная на BOW c одним скрытым слоем, поэтому вряд ли стоит ожидать хорошего качества для QA, даже для предобученной модели. Хотя с предобученными векторами на Wikipedia (где и формировался BoolQ) разница должна быть ощутимей."
      ]
    },
    {
      "cell_type": "markdown",
      "metadata": {
        "id": "VquOmGtkRn3F"
      },
      "source": [
        "Теперь попробуем предобученный fasttext"
      ]
    },
    {
      "cell_type": "code",
      "metadata": {
        "id": "BC_v1bOAID7N"
      },
      "source": [
        "# import requests, zipfile, io, os\n",
        "# from gensim.models.fasttext import FastText\n",
        "\n",
        "\n",
        "# #download model\n",
        "# ft_url = 'https://dl.fbaipublicfiles.com/fasttext/vectors-english/wiki-news-300d-1M-subword.bin.zip'\n",
        "# zpath = 'wiki-news-300d-1M-subword.bin.zip'\n",
        "# mpath = 'wiki-news-300d-1M-subword.bin'\n",
        "\n",
        "# if os.path.isfile(mpath):\n",
        "#     #attempt load\n",
        "#     mod = FastText.load_fasttext_format(mpath,encoding='utf-8')\n",
        "# elif not os.path.isfile(zpath):\n",
        "#     r = requests.get(ft_url)\n",
        "#     z = zipfile.ZipFile(io.BytesIO(r.content))\n",
        "#     z.extractall()\n",
        "# else:\n",
        "#     z = zipfile.ZipFile(zpath)\n",
        "#     z.extractall()\n",
        "#     mod = FastText.load_fasttext_format(mpath,encoding='utf-8')"
      ],
      "execution_count": 52,
      "outputs": []
    },
    {
      "cell_type": "code",
      "metadata": {
        "id": "YTB_6JRgQ5qT"
      },
      "source": [
        "# mod = FastText.load_fasttext_format('wiki-news-300d-1M-subword.bin')\n",
        "# mod.score('dev_ft_data')"
      ],
      "execution_count": 57,
      "outputs": []
    },
    {
      "cell_type": "code",
      "metadata": {
        "colab": {
          "base_uri": "https://localhost:8080/"
        },
        "id": "ug96lr_LfRmq",
        "outputId": "193f598e-6906-4d5e-b06a-8f433f968dc1"
      },
      "source": [
        "# !unzip wiki-news-300d-1M.vec.zip"
      ],
      "execution_count": 34,
      "outputs": [
        {
          "output_type": "stream",
          "text": [
            "Archive:  wiki-news-300d-1M.vec.zip\n",
            "replace wiki-news-300d-1M.vec? [y]es, [n]o, [A]ll, [N]one, [r]ename: y\n",
            "  inflating: wiki-news-300d-1M.vec   \n"
          ],
          "name": "stdout"
        }
      ]
    },
    {
      "cell_type": "code",
      "metadata": {
        "colab": {
          "base_uri": "https://localhost:8080/"
        },
        "id": "SL3d47CPgRax",
        "outputId": "10612acc-d7bc-4247-b3db-107cd793ce28"
      },
      "source": [
        "# %cd /content/drive/MyDrive/wiki-news-300d-1M.vec"
      ],
      "execution_count": 38,
      "outputs": [
        {
          "output_type": "stream",
          "text": [
            "[Errno 20] Not a directory: '/content/drive/MyDrive/wiki-news-300d-1M.vec'\n",
            "/content/drive/MyDrive\n"
          ],
          "name": "stdout"
        }
      ]
    },
    {
      "cell_type": "code",
      "metadata": {
        "id": "iIKCLerkRuGH"
      },
      "source": [
        "# import io\n",
        "\n",
        "# def load_vectors(fname):\n",
        "#     fin = io.open(fname, 'r', encoding='utf-8', newline='\\n', errors='ignore')\n",
        "#     n, d = map(int, fin.readline().split())\n",
        "#     data = {}\n",
        "#     for line in fin:\n",
        "#         tokens = line.rstrip().split(' ')\n",
        "#         data[tokens[0]] = map(float, tokens[1:])\n",
        "#     return data\n",
        "\n",
        "# pretrained = load_vectors('/content/drive/MyDrive/wiki-news-300d-1M.vec/')"
      ],
      "execution_count": 58,
      "outputs": []
    },
    {
      "cell_type": "markdown",
      "metadata": {
        "id": "Fg84O0bfqj4G"
      },
      "source": [
        "## Часть 3. Используем эмбеддинги предложений (2 балла)\n",
        "1. Постройте BERT эмбеддинги вопроса и абзаца. Обучите логистическую регрессию на конкатенированных эмбеддингах вопроса и абзаца и оцените accuracy этого решения. \n",
        "\n",
        "[bonus] Используйте другие модели эмбеддингов, доступные, например, в библиотеке 🤗 Transformers. Какая модель эмбеддингов даст лучшие результаты?\n",
        "\n",
        "[bonus] Предложите метод аугментации данных и продемонстрируйте его эффективность. "
      ]
    },
    {
      "cell_type": "code",
      "metadata": {
        "colab": {
          "base_uri": "https://localhost:8080/",
          "height": 654,
          "referenced_widgets": [
            "ae6ee6a2cfd7496189a829186256a436",
            "1c02519bda3d494c8bbd64e1512aff15",
            "94bbc2526e844de6a4dc02d4f6463c8f",
            "56e79c5919bf40df8c28df66caae9dd5",
            "52a5a8d5b2ab48a49a7e85c7f727c920",
            "d7221b1937884db081918fa12139567e",
            "f499a5349247449887957f40062181a1",
            "c207f94d26cd4cf58b9d8ff4a613ec46",
            "42105381de2143849f4ca0808f39368b",
            "4a2ea70f43ce4226bd957f822bb3666e",
            "9a668a92302b4299ad5fbaf55977658e",
            "a57fb25a4b2644edbcff5d5ec5097052",
            "53dd7d0c56274203a4f5543ed61aec02",
            "cfef7aed15374cdb984039fc2a082ef2",
            "63add71128ea4a129eee568cf4f504cc",
            "e562b16aed0a44f5abb13e5af199245f",
            "3873bc05861c466f896832a2c861f4fa",
            "db48f628c7fa4067b7614017344a1d7f",
            "d9335d9f7dec4036a04f5f7d8b8c9750",
            "6109c7e51c5141f5838659e39ab3a5fa",
            "e465270f8c524d43944c7a74191fd66f",
            "8871319462894904bbd447b852f4e708",
            "ce809e17ac7a4276b7ec3f0183683910",
            "1bc5277e64934b0e80e2975662c2fd86",
            "2b3ea0a97efe49b3beafdcbaa130fdb9",
            "c782240d97e648c9a258132b223c9528",
            "46aac3f185fc431f86213223b66aecac",
            "6361221415934013b3ca547c6ab76baa",
            "ad5918042da245ada68b75ac02feede5",
            "f8fad55332784cdeb57c25642bf7519b",
            "c37794873cf44db3ba6f4a6eb50a0a1c",
            "ba4a3cb592ec4e3ba4dc34fbe0361996",
            "338534cbe02442d997abb7e67c2b4b8b",
            "dcb26c9ff5224c6bb0eb469e31a30416",
            "a612639c56694d859ce7ba42c817bcf0",
            "b5a81d89c76741158adee5b2cbf2bbbd",
            "08d065897aa946a99dd9fc5e3dadc756",
            "51b0b758c01c42d183214d615f43520a",
            "6975ac00bfbc48df81efe6010dbe6ddc",
            "85b34162a07044fbb688bad56fe7ed98",
            "1d03094ea61a48fe8e9f5d0e89a997cc",
            "7e6b40edaf8b4b45bc67d969856f5a26",
            "f7fd781d17ce4880904b184ea474acd6",
            "37d60c4f22574626a74de84630e76353",
            "35fd0ebc9d774807b33c63d7ae699840",
            "fc9fdeddd0824b6885b7bbfebfc4bad2",
            "12fbf9e36c5349299af28cac24c501b1",
            "e3d03e14f471464ba81d1a503ea654ab",
            "50be3189a0f241d58655589254be42e5",
            "58c5be64ce8046759b98f63d305a3607",
            "3b813d4f1c0b46279afaa6a715861892",
            "88ac828c4114430b9861fb011864fabf",
            "264998302e284cd4b54f2ae90270dc51",
            "c42d85a7a6ea42f2bb5cfb824169493a",
            "7932a7330d2843608674bfe12c194b65",
            "bca401a1356842f0ae8ad2f4d676c141",
            "b5e88d7080054027a028fb02819168e0",
            "1ffdf23f50e947cea4fc5f8ed77e0355",
            "669e32183ac54dd8a51d1e97f642b855",
            "66608df3c7694888a9ec932e4040ef09",
            "50f2343f3b5e488f8b8bfe11a5971ec4",
            "1655649ce31542d1b07892e7e773a4c4",
            "db94bf76a0224530b6a6a3966db1e9c5",
            "477cdc7ff3af4ed88ac205fdcc9774aa",
            "cbbbf62403334e328f310cf6c003068f",
            "51408c0b1f274bf1a8020805a52166e7",
            "af38c19caab84c9097d02f20f26d251d",
            "788df72141f84765b032a6c069c51dac",
            "6842ab479ef64d6f925e4528e6cd3ac0",
            "d469801be2cc46af951ab3992d707dce",
            "21fee229abdd44ed85200cebffc4786b",
            "9afcb153e2654c33a7fc9c336a117ab6",
            "6dd21ca24ba44f42838c22a603cbe238",
            "aa3dbca319f2470f831d20942d9a439d",
            "fc8aca960a7048319da0ab887f445acb",
            "acb7091a39d24539828dacc29146e4cf",
            "a904939527ca47848d1d73eca210dc15",
            "f6d8c03b036d48c1ad90bde29149872c",
            "59d4b5b561204becafd7c502ab44862c",
            "0055dc8d21ae41be857faaebe09a996f",
            "99a408ea8dee4ed88b0d4f71bef40b7e",
            "6cd0b23aaca643da9d5ca28751074964",
            "3c02adbb85a449ca922fabc1dd81bda1",
            "642f0d664d7a408da780a73ba526bb7b",
            "bff5de1823744bad9923e4e65ae7256b",
            "a9487a7bc5b5477b8fb4ba45d6e47c85",
            "95a8b94bce4c455083a1bae0db7ff2c8",
            "4fa16b698e3940f681880f2492bb74fe",
            "094bdcebd0474801bca749a16c7f2798",
            "63c1c35bb71945aa88dfdaf70c65a3a1",
            "ce74a692b7a64f0d88319441f5e041b1",
            "8c303f31bb3d43298e476666cc7fd515",
            "28022b9fdde54b229993ead772db7b82",
            "ff6ed13a1f144be2a4edf1af7be22098",
            "5d54d0ae5dec4d978c1978a1e839055c",
            "a1f9e00b901d489e9d1506c74381b95f",
            "c50ccd6b5ae74e1f8ac9edbd0114cc6b",
            "22248c86dcca4116bc7c0b31f5f9ed97",
            "93131338fc4e46a98a1a8ead6d743e09",
            "e0fea3f7c6fc4bc586370971286b2776",
            "d0227350857646c59a59d50e15969549",
            "77db613a0c074d32bdf2316df14b42eb",
            "7c1f165190b148759572bd4553237e08",
            "0809555dd6244a5e9eab59cf32339bd5"
          ]
        },
        "id": "pov0XunBH47A",
        "outputId": "c42d47e9-bc97-42f7-9f0a-7bdf7dc63272"
      },
      "source": [
        "st_model = SentenceTransformer('bert-base-nli-cls-token')"
      ],
      "execution_count": 62,
      "outputs": [
        {
          "output_type": "display_data",
          "data": {
            "application/vnd.jupyter.widget-view+json": {
              "model_id": "ae6ee6a2cfd7496189a829186256a436",
              "version_minor": 0,
              "version_major": 2
            },
            "text/plain": [
              "HBox(children=(FloatProgress(value=0.0, description='Downloading', max=391.0, style=ProgressStyle(description_…"
            ]
          },
          "metadata": {
            "tags": []
          }
        },
        {
          "output_type": "stream",
          "text": [
            "\n"
          ],
          "name": "stdout"
        },
        {
          "output_type": "display_data",
          "data": {
            "application/vnd.jupyter.widget-view+json": {
              "model_id": "42105381de2143849f4ca0808f39368b",
              "version_minor": 0,
              "version_major": 2
            },
            "text/plain": [
              "HBox(children=(FloatProgress(value=0.0, description='Downloading', max=3585.0, style=ProgressStyle(description…"
            ]
          },
          "metadata": {
            "tags": []
          }
        },
        {
          "output_type": "stream",
          "text": [
            "\n"
          ],
          "name": "stdout"
        },
        {
          "output_type": "display_data",
          "data": {
            "application/vnd.jupyter.widget-view+json": {
              "model_id": "3873bc05861c466f896832a2c861f4fa",
              "version_minor": 0,
              "version_major": 2
            },
            "text/plain": [
              "HBox(children=(FloatProgress(value=0.0, description='Downloading', max=2.0, style=ProgressStyle(description_wi…"
            ]
          },
          "metadata": {
            "tags": []
          }
        },
        {
          "output_type": "stream",
          "text": [
            "\n"
          ],
          "name": "stdout"
        },
        {
          "output_type": "display_data",
          "data": {
            "application/vnd.jupyter.widget-view+json": {
              "model_id": "2b3ea0a97efe49b3beafdcbaa130fdb9",
              "version_minor": 0,
              "version_major": 2
            },
            "text/plain": [
              "HBox(children=(FloatProgress(value=0.0, description='Downloading', max=623.0, style=ProgressStyle(description_…"
            ]
          },
          "metadata": {
            "tags": []
          }
        },
        {
          "output_type": "stream",
          "text": [
            "\n"
          ],
          "name": "stdout"
        },
        {
          "output_type": "display_data",
          "data": {
            "application/vnd.jupyter.widget-view+json": {
              "model_id": "338534cbe02442d997abb7e67c2b4b8b",
              "version_minor": 0,
              "version_major": 2
            },
            "text/plain": [
              "HBox(children=(FloatProgress(value=0.0, description='Downloading', max=122.0, style=ProgressStyle(description_…"
            ]
          },
          "metadata": {
            "tags": []
          }
        },
        {
          "output_type": "stream",
          "text": [
            "\n"
          ],
          "name": "stdout"
        },
        {
          "output_type": "display_data",
          "data": {
            "application/vnd.jupyter.widget-view+json": {
              "model_id": "1d03094ea61a48fe8e9f5d0e89a997cc",
              "version_minor": 0,
              "version_major": 2
            },
            "text/plain": [
              "HBox(children=(FloatProgress(value=0.0, description='Downloading', max=229.0, style=ProgressStyle(description_…"
            ]
          },
          "metadata": {
            "tags": []
          }
        },
        {
          "output_type": "stream",
          "text": [
            "\n"
          ],
          "name": "stdout"
        },
        {
          "output_type": "display_data",
          "data": {
            "application/vnd.jupyter.widget-view+json": {
              "model_id": "50be3189a0f241d58655589254be42e5",
              "version_minor": 0,
              "version_major": 2
            },
            "text/plain": [
              "HBox(children=(FloatProgress(value=0.0, description='Downloading', max=438007537.0, style=ProgressStyle(descri…"
            ]
          },
          "metadata": {
            "tags": []
          }
        },
        {
          "output_type": "stream",
          "text": [
            "\n"
          ],
          "name": "stdout"
        },
        {
          "output_type": "display_data",
          "data": {
            "application/vnd.jupyter.widget-view+json": {
              "model_id": "b5e88d7080054027a028fb02819168e0",
              "version_minor": 0,
              "version_major": 2
            },
            "text/plain": [
              "HBox(children=(FloatProgress(value=0.0, description='Downloading', max=53.0, style=ProgressStyle(description_w…"
            ]
          },
          "metadata": {
            "tags": []
          }
        },
        {
          "output_type": "stream",
          "text": [
            "\n"
          ],
          "name": "stdout"
        },
        {
          "output_type": "display_data",
          "data": {
            "application/vnd.jupyter.widget-view+json": {
              "model_id": "cbbbf62403334e328f310cf6c003068f",
              "version_minor": 0,
              "version_major": 2
            },
            "text/plain": [
              "HBox(children=(FloatProgress(value=0.0, description='Downloading', max=112.0, style=ProgressStyle(description_…"
            ]
          },
          "metadata": {
            "tags": []
          }
        },
        {
          "output_type": "stream",
          "text": [
            "\n"
          ],
          "name": "stdout"
        },
        {
          "output_type": "display_data",
          "data": {
            "application/vnd.jupyter.widget-view+json": {
              "model_id": "6dd21ca24ba44f42838c22a603cbe238",
              "version_minor": 0,
              "version_major": 2
            },
            "text/plain": [
              "HBox(children=(FloatProgress(value=0.0, description='Downloading', max=466081.0, style=ProgressStyle(descripti…"
            ]
          },
          "metadata": {
            "tags": []
          }
        },
        {
          "output_type": "stream",
          "text": [
            "\n"
          ],
          "name": "stdout"
        },
        {
          "output_type": "display_data",
          "data": {
            "application/vnd.jupyter.widget-view+json": {
              "model_id": "99a408ea8dee4ed88b0d4f71bef40b7e",
              "version_minor": 0,
              "version_major": 2
            },
            "text/plain": [
              "HBox(children=(FloatProgress(value=0.0, description='Downloading', max=395.0, style=ProgressStyle(description_…"
            ]
          },
          "metadata": {
            "tags": []
          }
        },
        {
          "output_type": "stream",
          "text": [
            "\n"
          ],
          "name": "stdout"
        },
        {
          "output_type": "display_data",
          "data": {
            "application/vnd.jupyter.widget-view+json": {
              "model_id": "094bdcebd0474801bca749a16c7f2798",
              "version_minor": 0,
              "version_major": 2
            },
            "text/plain": [
              "HBox(children=(FloatProgress(value=0.0, description='Downloading', max=231508.0, style=ProgressStyle(descripti…"
            ]
          },
          "metadata": {
            "tags": []
          }
        },
        {
          "output_type": "stream",
          "text": [
            "\n"
          ],
          "name": "stdout"
        },
        {
          "output_type": "display_data",
          "data": {
            "application/vnd.jupyter.widget-view+json": {
              "model_id": "c50ccd6b5ae74e1f8ac9edbd0114cc6b",
              "version_minor": 0,
              "version_major": 2
            },
            "text/plain": [
              "HBox(children=(FloatProgress(value=0.0, description='Downloading', max=190.0, style=ProgressStyle(description_…"
            ]
          },
          "metadata": {
            "tags": []
          }
        },
        {
          "output_type": "stream",
          "text": [
            "\n"
          ],
          "name": "stdout"
        }
      ]
    },
    {
      "cell_type": "code",
      "metadata": {
        "id": "eFP-zNmar4V5"
      },
      "source": [
        "# bert_base_cased = BertModel.from_pretrained('bert-base-cased')\n",
        "# bbc_tokenizer = BertTokenizer.from_pretrained('bert-base-cased')\n",
        "\n",
        "def get_embeddings(data, model):\n",
        "    question = data['question']\n",
        "    passage = data['passage']\n",
        "\n",
        "    encoded_question = model.encode(question)\n",
        "    encoded_passage = model.encode(passage)\n",
        "    sentence_embeddings = np.concatenate((encoded_question, encoded_passage), axis=1)\n",
        "\n",
        "    return sentence_embeddings\n",
        "\n",
        "tr_emb = get_embeddings(tr_data, st_model)\n",
        "dev_emb = get_embeddings(dev_data, st_model)"
      ],
      "execution_count": 63,
      "outputs": []
    },
    {
      "cell_type": "code",
      "metadata": {
        "colab": {
          "base_uri": "https://localhost:8080/"
        },
        "id": "VBFFbMaA_GPl",
        "outputId": "cad94dc2-a77b-4801-d020-7fa1535b3568"
      },
      "source": [
        "le = LabelEncoder()\n",
        "tr_labels = le.fit_transform(tr_data['answer'])\n",
        "dev_labels = le.fit_transform(dev_data['answer'])\n",
        "\n",
        "clf = LogisticRegression(max_iter=10000).fit(tr_emb, tr_labels)\n",
        "clf.predict(dev_emb)\n",
        "print(f'Accuracy: {clf.score(dev_emb, dev_labels)}')"
      ],
      "execution_count": 64,
      "outputs": [
        {
          "output_type": "stream",
          "text": [
            "Accuracy: 0.6639143730886851\n"
          ],
          "name": "stdout"
        }
      ]
    },
    {
      "cell_type": "markdown",
      "metadata": {
        "id": "LqwOK5ukKOpa"
      },
      "source": [
        "## Часть 4. Обучаем BERT на конкатенации вопроса и предложения (2 балла)\n",
        "\n",
        "В этой части предлагается реализовать фреймворк, описанный в [видео по ссылке](https://www.youtube.com/watch?v=l8ZYCvgGu0o), адаптировав его под бинарный Question Answering. \n",
        "\n",
        "1. Опишите модель, которую вы будете реализовывать. Загрузите предобученный BERT, добавьте полносвязные \"головные\" слои. Дообучите модель: попробуйте разные способы обучения.\n",
        "\n",
        "[bonus] Используйте модель [RoBERTa](https://arxiv.org/abs/1907.11692) вместо модели BERT. Посмотрите, что получилось."
      ]
    },
    {
      "cell_type": "code",
      "metadata": {
        "colab": {
          "base_uri": "https://localhost:8080/",
          "height": 367,
          "referenced_widgets": [
            "79e0d541cb2f48fa86ad0af821fdc994",
            "07ee2fb70f774181912efd707544685b",
            "24647904288644d39f50b00383be32a6",
            "8975bc58e0634ce2ba5a4715bb024bdf",
            "48f8ccd48d4f44fba27fcaf1f9d97e55",
            "9aaa6d38d08e4fa6a08bc06a104a7b28",
            "0a091c4635ca4c70b97ff44f1fd003fc",
            "2351cefb1b9745bb9b60d22c2a94318b",
            "71d40e7d3ea24966af907e87d9a388bd",
            "0bdec07d2dda468a8cd8b22cc3fe6d8d",
            "474035cc063b4aa5a7607fc1e4ce4805",
            "4e6c0dc1eb5f4fe7b24ea86de775003a",
            "25b6866dae8c4a399b6bf10f29df34f6",
            "25c7e84d20f1407abba46b0e51437d9a",
            "f69185d8993047f38dbe7a8aa61e3e33",
            "fb25a8a1457d44fea08a1a5bdd400062",
            "06d915b72b104b4f87350c533d5e2037",
            "26de3850157e4d7781d0f04bbbef3fb4",
            "18398372e3724686b22d6a161406be2a",
            "a4bbff5a6b59447690acee3dd5c456da",
            "2875d3cecb634d4ba7e47ddb68cfc898",
            "23253c4c9c574285a65750c0688b4a55",
            "a4ca787223b24e4c98f857e6d50eeaf6",
            "46486172a782461d90fb91997f0510f9",
            "93400559d54048aea46a0048723d0356",
            "acd466c47f474a4dad20ac045aeafd9c",
            "b880a1af974c42ccb1527ad3a24dc482",
            "148444edc08b41fb863ff478c6fb3e5d",
            "5806ece2ea194a908327609a73172f88",
            "87c17aecaf73467a8b47c37f371aad08",
            "2b2fbf30b95940e58debb0a05cf66451",
            "dc8aab7611b54fc397cfe92459612138",
            "aa8241f1824049aea663396e20e5a8b6",
            "8bcbcb5ef61b4df597f1fe1990751954",
            "e26ce275b93d40068b18592aa3570947",
            "08cd1959cdde4c1d854e11ffc8480dc7",
            "c18aa1ca850949c0b2d92ae99b38ba5a",
            "3c202c7ce4c449158741f61c24d3a706",
            "635ce8356e554ff3bdbc21883b2f3c24",
            "8105b98bdfdb4ba6a7b528eb0dbe8c90"
          ]
        },
        "id": "KArJWGfckJqL",
        "outputId": "1c7d0521-b7bc-43f3-84d1-8cca7a8e4af8"
      },
      "source": [
        "bfqa_pretrained_model = BertForSequenceClassification.from_pretrained('bert-base-uncased')\n",
        "bfqa_tokenizer = BertTokenizer.from_pretrained('bert-base-uncased')"
      ],
      "execution_count": null,
      "outputs": [
        {
          "output_type": "display_data",
          "data": {
            "application/vnd.jupyter.widget-view+json": {
              "model_id": "79e0d541cb2f48fa86ad0af821fdc994",
              "version_minor": 0,
              "version_major": 2
            },
            "text/plain": [
              "HBox(children=(FloatProgress(value=0.0, description='Downloading', max=570.0, style=ProgressStyle(description_…"
            ]
          },
          "metadata": {
            "tags": []
          }
        },
        {
          "output_type": "stream",
          "text": [
            "\n"
          ],
          "name": "stdout"
        },
        {
          "output_type": "display_data",
          "data": {
            "application/vnd.jupyter.widget-view+json": {
              "model_id": "71d40e7d3ea24966af907e87d9a388bd",
              "version_minor": 0,
              "version_major": 2
            },
            "text/plain": [
              "HBox(children=(FloatProgress(value=0.0, description='Downloading', max=440473133.0, style=ProgressStyle(descri…"
            ]
          },
          "metadata": {
            "tags": []
          }
        },
        {
          "output_type": "stream",
          "text": [
            "\n"
          ],
          "name": "stdout"
        },
        {
          "output_type": "stream",
          "text": [
            "Some weights of the model checkpoint at bert-base-uncased were not used when initializing BertForSequenceClassification: ['cls.predictions.transform.LayerNorm.weight', 'cls.predictions.transform.dense.bias', 'cls.predictions.transform.dense.weight', 'cls.predictions.decoder.weight', 'cls.seq_relationship.weight', 'cls.seq_relationship.bias', 'cls.predictions.transform.LayerNorm.bias', 'cls.predictions.bias']\n",
            "- This IS expected if you are initializing BertForSequenceClassification from the checkpoint of a model trained on another task or with another architecture (e.g. initializing a BertForSequenceClassification model from a BertForPreTraining model).\n",
            "- This IS NOT expected if you are initializing BertForSequenceClassification from the checkpoint of a model that you expect to be exactly identical (initializing a BertForSequenceClassification model from a BertForSequenceClassification model).\n",
            "Some weights of BertForSequenceClassification were not initialized from the model checkpoint at bert-base-uncased and are newly initialized: ['classifier.weight', 'classifier.bias']\n",
            "You should probably TRAIN this model on a down-stream task to be able to use it for predictions and inference.\n"
          ],
          "name": "stderr"
        },
        {
          "output_type": "display_data",
          "data": {
            "application/vnd.jupyter.widget-view+json": {
              "model_id": "06d915b72b104b4f87350c533d5e2037",
              "version_minor": 0,
              "version_major": 2
            },
            "text/plain": [
              "HBox(children=(FloatProgress(value=0.0, description='Downloading', max=231508.0, style=ProgressStyle(descripti…"
            ]
          },
          "metadata": {
            "tags": []
          }
        },
        {
          "output_type": "stream",
          "text": [
            "\n"
          ],
          "name": "stdout"
        },
        {
          "output_type": "display_data",
          "data": {
            "application/vnd.jupyter.widget-view+json": {
              "model_id": "93400559d54048aea46a0048723d0356",
              "version_minor": 0,
              "version_major": 2
            },
            "text/plain": [
              "HBox(children=(FloatProgress(value=0.0, description='Downloading', max=28.0, style=ProgressStyle(description_w…"
            ]
          },
          "metadata": {
            "tags": []
          }
        },
        {
          "output_type": "stream",
          "text": [
            "\n"
          ],
          "name": "stdout"
        },
        {
          "output_type": "display_data",
          "data": {
            "application/vnd.jupyter.widget-view+json": {
              "model_id": "aa8241f1824049aea663396e20e5a8b6",
              "version_minor": 0,
              "version_major": 2
            },
            "text/plain": [
              "HBox(children=(FloatProgress(value=0.0, description='Downloading', max=466062.0, style=ProgressStyle(descripti…"
            ]
          },
          "metadata": {
            "tags": []
          }
        },
        {
          "output_type": "stream",
          "text": [
            "\n"
          ],
          "name": "stdout"
        }
      ]
    },
    {
      "cell_type": "code",
      "metadata": {
        "id": "YBsu0zV2r5uH"
      },
      "source": [
        "class QADataset(Dataset):\n",
        "    def __init__(self, data, tokenizer, max_length=400): \n",
        "        self.data = data\n",
        "        self.tokenizer = tokenizer\n",
        "        self.max_length = max_length\n",
        "        self.labels = list(set(self.data['answer']))\n",
        "        self.label2num = {l: num for num, l in enumerate(self.labels)}\n",
        "\n",
        "    def __getitem__(self, index):\n",
        "        question = self.data['question'][index]\n",
        "        answer = self.data['answer'][index]\n",
        "        passage = self.data['passage'][index]\n",
        "\n",
        "        tokenizer_output = self.tokenizer.encode_plus(\n",
        "                            question,\n",
        "                            passage,\n",
        "                            add_special_tokens=True,\n",
        "                            max_length=self.max_length,\n",
        "                            pad_to_max_length=True,\n",
        "                            truncation_strategy='longest_first',\n",
        "                            return_token_type_ids=True\n",
        "        )\n",
        "  \n",
        "        target = self.label2num[answer]\n",
        "\n",
        "        return {\n",
        "            'input_ids': torch.tensor(tokenizer_output['input_ids'], dtype=torch.long).squeeze(0),\n",
        "            'token_type_ids': torch.tensor(tokenizer_output['token_type_ids'], dtype=torch.long).squeeze(0),\n",
        "            'attention_mask': torch.tensor(tokenizer_output['attention_mask'], dtype=torch.long).squeeze(0),\n",
        "            'labels': torch.tensor(target, dtype=torch.long).squeeze(0)\n",
        "        }\n",
        "\n",
        "    def __len__(self):\n",
        "        return len(self.data['question'])\n",
        "\n",
        "\n",
        "tr_dataset = QADataset(tr_data, bfqa_tokenizer)\n",
        "dev_dataset = QADataset(dev_data, bfqa_tokenizer)"
      ],
      "execution_count": null,
      "outputs": []
    },
    {
      "cell_type": "code",
      "metadata": {
        "colab": {
          "base_uri": "https://localhost:8080/"
        },
        "id": "oHO0KvUXxgID",
        "outputId": "7ddba3fc-b830-4c9f-a151-51e60e76915a"
      },
      "source": [
        "print(tr_dataset.__len__())"
      ],
      "execution_count": null,
      "outputs": [
        {
          "output_type": "stream",
          "text": [
            "9427\n"
          ],
          "name": "stdout"
        }
      ]
    },
    {
      "cell_type": "code",
      "metadata": {
        "colab": {
          "base_uri": "https://localhost:8080/"
        },
        "id": "wy08EafxecNY",
        "outputId": "c5a710a4-cdbd-48f7-d5b5-a774b4eee49a"
      },
      "source": [
        "b = tr_dataset.label2num\n",
        "print(f'Кодировка лейблов:\\n{b}')"
      ],
      "execution_count": null,
      "outputs": [
        {
          "output_type": "stream",
          "text": [
            "Кодировка лейблов:\n",
            "{False: 0, True: 1}\n"
          ],
          "name": "stdout"
        }
      ]
    },
    {
      "cell_type": "code",
      "metadata": {
        "id": "odeDnwbVj0Ex"
      },
      "source": [
        "tr_dataloader = DataLoader(tr_dataset, batch_size=16, shuffle=True)\n",
        "dev_dataloader = DataLoader(dev_dataset, batch_size=16, shuffle=True)"
      ],
      "execution_count": null,
      "outputs": []
    },
    {
      "cell_type": "code",
      "metadata": {
        "id": "Fp-atXTV8Bvg"
      },
      "source": [
        "class QAModel(nn.Module):\n",
        "\n",
        "    def __init__(self, pretrained_model, dropout=0.1):\n",
        "        super().__init__()\n",
        "\n",
        "        self.bert = pretrained_model\n",
        "        # self.dropout = nn.Dropout(p=dropout)\n",
        "        # self.relu = nn.ReLU()\n",
        "\n",
        "        # self.fc_1 = nn.Linear(2, 128)\n",
        "        # self.fc_2 = nn.Linear(128, 2)\n",
        "        self.sigmoid = nn.Sigmoid()\n",
        "    \n",
        "    def forward(self, inputs, attention_mask, token_type_ids, labels):\n",
        "        \n",
        "        outputs = self.bert(input_ids=inputs, attention_mask=attention_mask, token_type_ids=token_type_ids, labels=labels)\n",
        "        # x = self.relu(self.fc_1(outputs.logits))\n",
        "        # x = self.fc_2(self.dropout(x))\n",
        "        probs = self.sigmoid(outputs.logits)\n",
        "        #print(probs)\n",
        "        loss = outputs.loss\n",
        "       \n",
        "        return probs, loss"
      ],
      "execution_count": null,
      "outputs": []
    },
    {
      "cell_type": "code",
      "metadata": {
        "id": "QYv0TKWWJsCW"
      },
      "source": [
        "device = torch.device('cuda' if torch.cuda.is_available() else 'cpu')\n",
        "qa_bert_model = QAModel(bfqa_pretrained_model)\n",
        "qa_bert_model = qa_bert_model.to(device)\n",
        "optimizer = optim.Adam(qa_bert_model.parameters(), lr=2e-5)"
      ],
      "execution_count": null,
      "outputs": []
    },
    {
      "cell_type": "code",
      "metadata": {
        "colab": {
          "base_uri": "https://localhost:8080/"
        },
        "id": "h7oyJWYJktIP",
        "outputId": "b39ca303-1c25-4cfa-9f1d-0ef8f7f6b7cc"
      },
      "source": [
        "print(device)"
      ],
      "execution_count": null,
      "outputs": [
        {
          "output_type": "stream",
          "text": [
            "cuda\n"
          ],
          "name": "stdout"
        }
      ]
    },
    {
      "cell_type": "code",
      "metadata": {
        "id": "JH1S6Gl5ecAJ",
        "colab": {
          "base_uri": "https://localhost:8080/",
          "height": 825
        },
        "outputId": "11f42c6a-0c60-472c-8ff9-0eb033898ff6"
      },
      "source": [
        "matplotlib.rcParams.update({'figure.figsize': (16, 12), 'font.size': 14})\n",
        "\n",
        "N_EPOCHS = 15\n",
        "CLIP = 5\n",
        "\n",
        "sc = train_eval_loop(qa_bert_model, train, tr_dataloader, evaluate, dev_dataloader, optimizer, N_EPOCHS, CLIP, plot)"
      ],
      "execution_count": null,
      "outputs": [
        {
          "output_type": "display_data",
          "data": {
            "image/png": "[encoded data removed]",
            "text/plain": [
              "<Figure size 1728x576 with 3 Axes>"
            ]
          },
          "metadata": {
            "tags": [],
            "needs_background": "light"
          }
        },
        {
          "output_type": "error",
          "ename": "NameError",
          "evalue": "ignored",
          "traceback": [
            "\u001b[0;31m---------------------------------------------------------------------------\u001b[0m",
            "\u001b[0;31mNameError\u001b[0m                                 Traceback (most recent call last)",
            "\u001b[0;32m<ipython-input-25-c90e6d311cf6>\u001b[0m in \u001b[0;36m<module>\u001b[0;34m()\u001b[0m\n\u001b[1;32m      5\u001b[0m \u001b[0;34m\u001b[0m\u001b[0m\n\u001b[1;32m      6\u001b[0m \u001b[0;34m\u001b[0m\u001b[0m\n\u001b[0;32m----> 7\u001b[0;31m \u001b[0msc\u001b[0m \u001b[0;34m=\u001b[0m \u001b[0mtrain_eval_loop\u001b[0m\u001b[0;34m(\u001b[0m\u001b[0mqa_bert_model\u001b[0m\u001b[0;34m,\u001b[0m \u001b[0mtrain\u001b[0m\u001b[0;34m,\u001b[0m \u001b[0mtr_dataloader\u001b[0m\u001b[0;34m,\u001b[0m \u001b[0mevaluate\u001b[0m\u001b[0;34m,\u001b[0m \u001b[0mdev_dataloader\u001b[0m\u001b[0;34m,\u001b[0m \u001b[0moptimizer\u001b[0m\u001b[0;34m,\u001b[0m \u001b[0mN_EPOCHS\u001b[0m\u001b[0;34m,\u001b[0m \u001b[0mCLIP\u001b[0m\u001b[0;34m,\u001b[0m \u001b[0mplot\u001b[0m\u001b[0;34m)\u001b[0m\u001b[0;34m\u001b[0m\u001b[0;34m\u001b[0m\u001b[0m\n\u001b[0m",
            "\u001b[0;32m/content/drive/My Drive/functions_module.py\u001b[0m in \u001b[0;36mtrain_eval_loop\u001b[0;34m(model, train, tr_dataloader, eval, dev_dataloader, optimizer, n_epochs, clip, plot)\u001b[0m\n\u001b[1;32m    140\u001b[0m         \u001b[0;32mif\u001b[0m \u001b[0mdev_loss\u001b[0m \u001b[0;34m<\u001b[0m \u001b[0mbest_dev_loss\u001b[0m\u001b[0;34m:\u001b[0m\u001b[0;34m\u001b[0m\u001b[0;34m\u001b[0m\u001b[0m\n\u001b[1;32m    141\u001b[0m             \u001b[0mbest_dev_loss\u001b[0m \u001b[0;34m=\u001b[0m \u001b[0mdev_loss\u001b[0m\u001b[0;34m\u001b[0m\u001b[0;34m\u001b[0m\u001b[0m\n\u001b[0;32m--> 142\u001b[0;31m             \u001b[0mtorch\u001b[0m\u001b[0;34m.\u001b[0m\u001b[0msave\u001b[0m\u001b[0;34m(\u001b[0m\u001b[0mqa_bert_model\u001b[0m\u001b[0;34m.\u001b[0m\u001b[0mstate_dict\u001b[0m\u001b[0;34m(\u001b[0m\u001b[0;34m)\u001b[0m\u001b[0;34m,\u001b[0m \u001b[0;34m'best-dev-model.pt'\u001b[0m\u001b[0;34m)\u001b[0m\u001b[0;34m\u001b[0m\u001b[0;34m\u001b[0m\u001b[0m\n\u001b[0m\u001b[1;32m    143\u001b[0m \u001b[0;34m\u001b[0m\u001b[0m\n\u001b[1;32m    144\u001b[0m         \u001b[0mtrain_history\u001b[0m\u001b[0;34m.\u001b[0m\u001b[0mappend\u001b[0m\u001b[0;34m(\u001b[0m\u001b[0mtrain_loss\u001b[0m\u001b[0;34m)\u001b[0m\u001b[0;34m\u001b[0m\u001b[0;34m\u001b[0m\u001b[0m\n",
            "\u001b[0;31mNameError\u001b[0m: name 'qa_bert_model' is not defined"
          ]
        }
      ]
    },
    {
      "cell_type": "markdown",
      "metadata": {
        "id": "2RHMJE1rnuIK"
      },
      "source": [
        "Результат обучения BertForSentenceClassification. Показал наилучшее качество среди представленных моделей ~ 0.75"
      ]
    },
    {
      "cell_type": "markdown",
      "metadata": {
        "id": "2HEtoyFZmycU"
      },
      "source": [
        "![result_chapt_4.jpg](data:image/jpeg;base64,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)"
      ]
    },
    {
      "cell_type": "code",
      "metadata": {
        "id": "xq1yNUrn0yGi"
      },
      "source": [
        ""
      ],
      "execution_count": null,
      "outputs": []
    },
    {
      "cell_type": "markdown",
      "metadata": {
        "id": "MXmluyTFqj4P"
      },
      "source": [
        "## Часть 5. BiDAF-подобная архитектура (2 балла)\n",
        "\n",
        "Архитектура BiDAF является специфической архитектурой для QA. Здесь вам предлагается её реализовать.\n",
        "\n",
        "Основана на статье: Bidirectional Attention Flow for Machine Comprehension\n",
        "\n",
        "Minjoon Seo, Aniruddha Kembhavi, Ali Farhadi, Hannaneh Hajishirzi\n",
        "\n",
        "https://arxiv.org/abs/1611.01603\n",
        "\n",
        "Архитектура BiDAF предложена для задачи SQuAD, но легко может быть адаптирована к текущему заданию. Модель состоит из следующих блоков:\n",
        "1. Кодировщик  получает на вход два представления слова: эмбеддинг слова и полученное из CNN посимвольное представление слова. Кодировщики для вопроса и для параграфа одинаковы. \n",
        "2. Слой внимания (детальное описание приведено в статье, см. пункт Attention Flow Layer)\n",
        "3. Промежуточный слой, который получает на вход контекстуализированные эмбеддинги слов из параграфа, состоящие из трех частей (выход кодировщика параграфа,   Query2Context (один вектор) и Context2Query (матрица) выравнивания\n",
        "\n",
        "4. Слой предсказания. \n",
        "\n",
        "Предложите, как можно было модифицировать последний слой предсказания в архитектуре BiDAF, с учетом того, что итоговое предсказание – это метка yes / no, предсказание которой проще, чем предсказание спана ответа для SQuAD.\n",
        "\n",
        "Оцените качество этой модели для решения задачи. \n",
        "\n",
        "[bonus] Замените входные эмбеддинги и все дополнительные признаки, используемые кодировщиками, на BERT или RoBERTa эмбеддинги. Улучшит ли это качество результатов?"
      ]
    },
    {
      "cell_type": "markdown",
      "metadata": {
        "id": "FrPAxeHIqj4S"
      },
      "source": [
        "Сравнение DrQA и BiDAF:\n",
        "    \n",
        "![](https://www.researchgate.net/profile/Felix_Wu6/publication/321069852/figure/fig1/AS:560800147881984@1510716582560/Schematic-layouts-of-the-BiDAF-left-and-DrQA-right-architectures-We-propose-to.png)"
      ]
    },
    {
      "cell_type": "markdown",
      "metadata": {
        "id": "z0-k-co0EFO7"
      },
      "source": [
        "### 5.1 Char and word embeddings "
      ]
    },
    {
      "cell_type": "code",
      "metadata": {
        "colab": {
          "base_uri": "https://localhost:8080/"
        },
        "id": "DtYznpvN-zpG",
        "outputId": "e8a87577-e43b-414e-81cd-cd24c0640c1e"
      },
      "source": [
        "q = bfqa_tokenizer.tokenize(tr_dataset.data['question'][0])\n",
        "q[3:5]"
      ],
      "execution_count": null,
      "outputs": [
        {
          "output_type": "execute_result",
          "data": {
            "text/plain": [
              "['afghanistan', 'speak']"
            ]
          },
          "metadata": {
            "tags": []
          },
          "execution_count": 23
        }
      ]
    },
    {
      "cell_type": "code",
      "metadata": {
        "colab": {
          "base_uri": "https://localhost:8080/"
        },
        "id": "tOthIeg4ITi9",
        "outputId": "8d95d211-fc26-4d86-f5a3-41f3ee3b1b62"
      },
      "source": [
        "words_by_chars = [list(x) for x in q]\n",
        "chars_vocab = list(set([x for y in words_by_chars for x in y]))\n",
        "labs = {l: num+1 for num, l in enumerate(chars_vocab)}\n",
        "encoded = [[labs[x]  for x in y] for y in words_by_chars]\n",
        "print(chars_vocab, '\\n', labs, '\\n', words_by_chars, '\\n', encoded)"
      ],
      "execution_count": null,
      "outputs": [
        {
          "output_type": "stream",
          "text": [
            "['f', 'h', 'r', 's', 'l', 'o', 'k', 'g', 't', 'n', 'u', 'a', 'p', 'e', 'm', 'i', 'd'] \n",
            " {'f': 1, 'h': 2, 'r': 3, 's': 4, 'l': 5, 'o': 6, 'k': 7, 'g': 8, 't': 9, 'n': 10, 'u': 11, 'a': 12, 'p': 13, 'e': 14, 'm': 15, 'i': 16, 'd': 17} \n",
            " [['d', 'o'], ['i', 'r', 'a', 'n'], ['a', 'n', 'd'], ['a', 'f', 'g', 'h', 'a', 'n', 'i', 's', 't', 'a', 'n'], ['s', 'p', 'e', 'a', 'k'], ['t', 'h', 'e'], ['s', 'a', 'm', 'e'], ['l', 'a', 'n', 'g', 'u', 'a', 'g', 'e']] \n",
            " [[17, 6], [16, 3, 12, 10], [12, 10, 17], [12, 1, 8, 2, 12, 10, 16, 4, 9, 12, 10], [4, 13, 14, 12, 7], [9, 2, 14], [4, 12, 15, 14], [5, 12, 10, 8, 11, 12, 8, 14]]\n"
          ],
          "name": "stdout"
        }
      ]
    },
    {
      "cell_type": "code",
      "metadata": {
        "colab": {
          "base_uri": "https://localhost:8080/"
        },
        "id": "87Z9kGu_WpTY",
        "outputId": "57c86351-7269-4ac0-f7a1-0d17164bd8f3"
      },
      "source": [
        "enc = bfqa_tokenizer.encode_plus(words_by_chars[3],\n",
        "                            add_special_tokens=False,\n",
        "                            max_length=30,\n",
        "                            pad_to_max_length=True,\n",
        "                            truncation_strategy='longest_first',\n",
        "                            return_token_type_ids=None\n",
        ")"
      ],
      "execution_count": null,
      "outputs": [
        {
          "output_type": "stream",
          "text": [
            "/usr/local/lib/python3.7/dist-packages/transformers/tokenization_utils_base.py:2132: FutureWarning: The `pad_to_max_length` argument is deprecated and will be removed in a future version, use `padding=True` or `padding='longest'` to pad to the longest sequence in the batch, or use `padding='max_length'` to pad to a max length. In this case, you can give a specific length with `max_length` (e.g. `max_length=45`) or leave max_length to None to pad to the maximal input size of the model (e.g. 512 for Bert).\n",
            "  FutureWarning,\n"
          ],
          "name": "stderr"
        }
      ]
    },
    {
      "cell_type": "code",
      "metadata": {
        "colab": {
          "base_uri": "https://localhost:8080/"
        },
        "id": "JQBvf0Omc7li",
        "outputId": "8b58515a-d908-481b-df11-6d1b5513ed96"
      },
      "source": [
        "enc"
      ],
      "execution_count": null,
      "outputs": [
        {
          "output_type": "execute_result",
          "data": {
            "text/plain": [
              "{'input_ids': [1037, 1042, 1043, 1044, 1037, 1050, 1045, 1055, 1056, 1037, 1050, 0, 0, 0, 0, 0, 0, 0, 0, 0, 0, 0, 0, 0, 0, 0, 0, 0, 0, 0], 'token_type_ids': [0, 0, 0, 0, 0, 0, 0, 0, 0, 0, 0, 0, 0, 0, 0, 0, 0, 0, 0, 0, 0, 0, 0, 0, 0, 0, 0, 0, 0, 0], 'attention_mask': [1, 1, 1, 1, 1, 1, 1, 1, 1, 1, 1, 0, 0, 0, 0, 0, 0, 0, 0, 0, 0, 0, 0, 0, 0, 0, 0, 0, 0, 0]}"
            ]
          },
          "metadata": {
            "tags": []
          },
          "execution_count": 64
        }
      ]
    },
    {
      "cell_type": "code",
      "metadata": {
        "colab": {
          "base_uri": "https://localhost:8080/",
          "height": 316
        },
        "id": "bWYoQfZfShq0",
        "outputId": "56fa223b-adcf-4735-9c14-cbb9abff3211"
      },
      "source": [
        "from torchtext.legacy.data import BucketIterator\n",
        "device = \"cuda\" if torch.cuda.is_available() else \"cpu\"\n",
        "train_iter = BucketIterator.splits(\n",
        "    train, \n",
        "    batch_size = 2,\n",
        "    sort_within_batch = True,\n",
        "    device = device)"
      ],
      "execution_count": null,
      "outputs": [
        {
          "output_type": "error",
          "ename": "TypeError",
          "evalue": "ignored",
          "traceback": [
            "\u001b[0;31m---------------------------------------------------------------------------\u001b[0m",
            "\u001b[0;31mTypeError\u001b[0m                                 Traceback (most recent call last)",
            "\u001b[0;32m<ipython-input-113-1069f370cc19>\u001b[0m in \u001b[0;36m<module>\u001b[0;34m()\u001b[0m\n\u001b[1;32m      5\u001b[0m     \u001b[0mbatch_size\u001b[0m \u001b[0;34m=\u001b[0m \u001b[0;36m2\u001b[0m\u001b[0;34m,\u001b[0m\u001b[0;34m\u001b[0m\u001b[0;34m\u001b[0m\u001b[0m\n\u001b[1;32m      6\u001b[0m     \u001b[0msort_within_batch\u001b[0m \u001b[0;34m=\u001b[0m \u001b[0;32mTrue\u001b[0m\u001b[0;34m,\u001b[0m\u001b[0;34m\u001b[0m\u001b[0;34m\u001b[0m\u001b[0m\n\u001b[0;32m----> 7\u001b[0;31m     device = device)\n\u001b[0m",
            "\u001b[0;32m/usr/local/lib/python3.7/dist-packages/torchtext/legacy/data/iterator.py\u001b[0m in \u001b[0;36msplits\u001b[0;34m(cls, datasets, batch_sizes, **kwargs)\u001b[0m\n\u001b[1;32m     93\u001b[0m         \"\"\"\n\u001b[1;32m     94\u001b[0m         \u001b[0;32mif\u001b[0m \u001b[0mbatch_sizes\u001b[0m \u001b[0;32mis\u001b[0m \u001b[0;32mNone\u001b[0m\u001b[0;34m:\u001b[0m\u001b[0;34m\u001b[0m\u001b[0;34m\u001b[0m\u001b[0m\n\u001b[0;32m---> 95\u001b[0;31m             \u001b[0mbatch_sizes\u001b[0m \u001b[0;34m=\u001b[0m \u001b[0;34m[\u001b[0m\u001b[0mkwargs\u001b[0m\u001b[0;34m.\u001b[0m\u001b[0mpop\u001b[0m\u001b[0;34m(\u001b[0m\u001b[0;34m'batch_size'\u001b[0m\u001b[0;34m)\u001b[0m\u001b[0;34m]\u001b[0m \u001b[0;34m*\u001b[0m \u001b[0mlen\u001b[0m\u001b[0;34m(\u001b[0m\u001b[0mdatasets\u001b[0m\u001b[0;34m)\u001b[0m\u001b[0;34m\u001b[0m\u001b[0;34m\u001b[0m\u001b[0m\n\u001b[0m\u001b[1;32m     96\u001b[0m         \u001b[0mret\u001b[0m \u001b[0;34m=\u001b[0m \u001b[0;34m[\u001b[0m\u001b[0;34m]\u001b[0m\u001b[0;34m\u001b[0m\u001b[0;34m\u001b[0m\u001b[0m\n\u001b[1;32m     97\u001b[0m         \u001b[0;32mfor\u001b[0m \u001b[0mi\u001b[0m \u001b[0;32min\u001b[0m \u001b[0mrange\u001b[0m\u001b[0;34m(\u001b[0m\u001b[0mlen\u001b[0m\u001b[0;34m(\u001b[0m\u001b[0mdatasets\u001b[0m\u001b[0;34m)\u001b[0m\u001b[0;34m)\u001b[0m\u001b[0;34m:\u001b[0m\u001b[0;34m\u001b[0m\u001b[0;34m\u001b[0m\u001b[0m\n",
            "\u001b[0;31mTypeError\u001b[0m: object of type 'function' has no len()"
          ]
        }
      ]
    },
    {
      "cell_type": "code",
      "metadata": {
        "colab": {
          "base_uri": "https://localhost:8080/"
        },
        "id": "uK0sxaaOanQy",
        "outputId": "ca65c91a-6afa-4fff-ff64-fce3873c55f1"
      },
      "source": [
        "encoded[3:5]"
      ],
      "execution_count": null,
      "outputs": [
        {
          "output_type": "execute_result",
          "data": {
            "text/plain": [
              "[[12, 1, 8, 2, 12, 10, 16, 4, 9, 12, 10], [4, 13, 14, 12, 7]]"
            ]
          },
          "metadata": {
            "tags": []
          },
          "execution_count": 27
        }
      ]
    },
    {
      "cell_type": "code",
      "metadata": {
        "id": "AUa68zlaCUrr"
      },
      "source": [
        "char_emb = nn.Embedding(300, 3, padding_idx=0)\n",
        "char2vec = char_emb(torch.LongTensor(encoded[3]))"
      ],
      "execution_count": null,
      "outputs": []
    },
    {
      "cell_type": "code",
      "metadata": {
        "colab": {
          "base_uri": "https://localhost:8080/"
        },
        "id": "5o84Lc_0CjIs",
        "outputId": "f77a863a-b884-4b87-e311-7150f3112795"
      },
      "source": [
        "char2vec"
      ],
      "execution_count": null,
      "outputs": [
        {
          "output_type": "execute_result",
          "data": {
            "text/plain": [
              "tensor([[-0.5083, -0.4992,  1.7482],\n",
              "        [ 0.9159,  0.0111, -1.7113],\n",
              "        [-1.5412, -0.7197, -0.6968],\n",
              "        [ 0.4766,  1.5479,  0.6185],\n",
              "        [-0.5083, -0.4992,  1.7482],\n",
              "        [-1.2822, -1.3545,  1.1573],\n",
              "        [-0.0214, -0.0118,  0.3295],\n",
              "        [ 1.8537,  1.0896, -0.7075],\n",
              "        [-0.5672,  0.0033,  0.0253],\n",
              "        [-0.5083, -0.4992,  1.7482],\n",
              "        [-1.2822, -1.3545,  1.1573]], grad_fn=<EmbeddingBackward>)"
            ]
          },
          "metadata": {
            "tags": []
          },
          "execution_count": 33
        }
      ]
    },
    {
      "cell_type": "code",
      "metadata": {
        "id": "yRNopofBASXk"
      },
      "source": [
        "conv = nn.Conv1d(in_channels=3, out_channels=1, kernel_size=3)"
      ],
      "execution_count": null,
      "outputs": []
    },
    {
      "cell_type": "code",
      "metadata": {
        "colab": {
          "base_uri": "https://localhost:8080/",
          "height": 306
        },
        "id": "RdChNuFTDp4w",
        "outputId": "d49a9076-cdea-4790-8e58-719c0cde53ae"
      },
      "source": [
        "conv(char2vec.unsqueeze(2))"
      ],
      "execution_count": null,
      "outputs": [
        {
          "output_type": "error",
          "ename": "RuntimeError",
          "evalue": "ignored",
          "traceback": [
            "\u001b[0;31m---------------------------------------------------------------------------\u001b[0m",
            "\u001b[0;31mRuntimeError\u001b[0m                              Traceback (most recent call last)",
            "\u001b[0;32m<ipython-input-44-adb8b639aeb8>\u001b[0m in \u001b[0;36m<module>\u001b[0;34m()\u001b[0m\n\u001b[0;32m----> 1\u001b[0;31m \u001b[0mconv\u001b[0m\u001b[0;34m(\u001b[0m\u001b[0mchar2vec\u001b[0m\u001b[0;34m.\u001b[0m\u001b[0munsqueeze\u001b[0m\u001b[0;34m(\u001b[0m\u001b[0;36m2\u001b[0m\u001b[0;34m)\u001b[0m\u001b[0;34m)\u001b[0m\u001b[0;34m\u001b[0m\u001b[0;34m\u001b[0m\u001b[0m\n\u001b[0m",
            "\u001b[0;32m/usr/local/lib/python3.7/dist-packages/torch/nn/modules/module.py\u001b[0m in \u001b[0;36m_call_impl\u001b[0;34m(self, *input, **kwargs)\u001b[0m\n\u001b[1;32m   1049\u001b[0m         if not (self._backward_hooks or self._forward_hooks or self._forward_pre_hooks or _global_backward_hooks\n\u001b[1;32m   1050\u001b[0m                 or _global_forward_hooks or _global_forward_pre_hooks):\n\u001b[0;32m-> 1051\u001b[0;31m             \u001b[0;32mreturn\u001b[0m \u001b[0mforward_call\u001b[0m\u001b[0;34m(\u001b[0m\u001b[0;34m*\u001b[0m\u001b[0minput\u001b[0m\u001b[0;34m,\u001b[0m \u001b[0;34m**\u001b[0m\u001b[0mkwargs\u001b[0m\u001b[0;34m)\u001b[0m\u001b[0;34m\u001b[0m\u001b[0;34m\u001b[0m\u001b[0m\n\u001b[0m\u001b[1;32m   1052\u001b[0m         \u001b[0;31m# Do not call functions when jit is used\u001b[0m\u001b[0;34m\u001b[0m\u001b[0;34m\u001b[0m\u001b[0;34m\u001b[0m\u001b[0m\n\u001b[1;32m   1053\u001b[0m         \u001b[0mfull_backward_hooks\u001b[0m\u001b[0;34m,\u001b[0m \u001b[0mnon_full_backward_hooks\u001b[0m \u001b[0;34m=\u001b[0m \u001b[0;34m[\u001b[0m\u001b[0;34m]\u001b[0m\u001b[0;34m,\u001b[0m \u001b[0;34m[\u001b[0m\u001b[0;34m]\u001b[0m\u001b[0;34m\u001b[0m\u001b[0;34m\u001b[0m\u001b[0m\n",
            "\u001b[0;32m/usr/local/lib/python3.7/dist-packages/torch/nn/modules/conv.py\u001b[0m in \u001b[0;36mforward\u001b[0;34m(self, input)\u001b[0m\n\u001b[1;32m    296\u001b[0m \u001b[0;34m\u001b[0m\u001b[0m\n\u001b[1;32m    297\u001b[0m     \u001b[0;32mdef\u001b[0m \u001b[0mforward\u001b[0m\u001b[0;34m(\u001b[0m\u001b[0mself\u001b[0m\u001b[0;34m,\u001b[0m \u001b[0minput\u001b[0m\u001b[0;34m:\u001b[0m \u001b[0mTensor\u001b[0m\u001b[0;34m)\u001b[0m \u001b[0;34m->\u001b[0m \u001b[0mTensor\u001b[0m\u001b[0;34m:\u001b[0m\u001b[0;34m\u001b[0m\u001b[0;34m\u001b[0m\u001b[0m\n\u001b[0;32m--> 298\u001b[0;31m         \u001b[0;32mreturn\u001b[0m \u001b[0mself\u001b[0m\u001b[0;34m.\u001b[0m\u001b[0m_conv_forward\u001b[0m\u001b[0;34m(\u001b[0m\u001b[0minput\u001b[0m\u001b[0;34m,\u001b[0m \u001b[0mself\u001b[0m\u001b[0;34m.\u001b[0m\u001b[0mweight\u001b[0m\u001b[0;34m,\u001b[0m \u001b[0mself\u001b[0m\u001b[0;34m.\u001b[0m\u001b[0mbias\u001b[0m\u001b[0;34m)\u001b[0m\u001b[0;34m\u001b[0m\u001b[0;34m\u001b[0m\u001b[0m\n\u001b[0m\u001b[1;32m    299\u001b[0m \u001b[0;34m\u001b[0m\u001b[0m\n\u001b[1;32m    300\u001b[0m \u001b[0;34m\u001b[0m\u001b[0m\n",
            "\u001b[0;32m/usr/local/lib/python3.7/dist-packages/torch/nn/modules/conv.py\u001b[0m in \u001b[0;36m_conv_forward\u001b[0;34m(self, input, weight, bias)\u001b[0m\n\u001b[1;32m    293\u001b[0m                             _single(0), self.dilation, self.groups)\n\u001b[1;32m    294\u001b[0m         return F.conv1d(input, weight, bias, self.stride,\n\u001b[0;32m--> 295\u001b[0;31m                         self.padding, self.dilation, self.groups)\n\u001b[0m\u001b[1;32m    296\u001b[0m \u001b[0;34m\u001b[0m\u001b[0m\n\u001b[1;32m    297\u001b[0m     \u001b[0;32mdef\u001b[0m \u001b[0mforward\u001b[0m\u001b[0;34m(\u001b[0m\u001b[0mself\u001b[0m\u001b[0;34m,\u001b[0m \u001b[0minput\u001b[0m\u001b[0;34m:\u001b[0m \u001b[0mTensor\u001b[0m\u001b[0;34m)\u001b[0m \u001b[0;34m->\u001b[0m \u001b[0mTensor\u001b[0m\u001b[0;34m:\u001b[0m\u001b[0;34m\u001b[0m\u001b[0;34m\u001b[0m\u001b[0m\n",
            "\u001b[0;31mRuntimeError\u001b[0m: Calculated padded input size per channel: (1). Kernel size: (3). Kernel size can't be greater than actual input size"
          ]
        }
      ]
    },
    {
      "cell_type": "code",
      "metadata": {
        "id": "ul3o1ICrOTIw"
      },
      "source": [
        "class CharEmbByCNN(nn.Module):\n",
        "    def __init__(\n",
        "        self,\n",
        "        vocab_size,\n",
        "        emb_dim,\n",
        "        out_channels,\n",
        "        kernel_sizes,\n",
        "    ):\n",
        "        super().__init__()\n",
        "        \n",
        "        self.embedding = nn.Embedding(vocab_size, emb_dim)\n",
        "\n",
        "        self.conv_0 = nn.Conv1d(emb_dim, out_channels, kernel_sizes[0], padding=1, stride=2)\n",
        "        \n",
        "        self.conv_1 = nn.Conv1d(emb_dim, out_channels, kernel_sizes[1], padding=0, stride=1)\n",
        "                                    \n",
        "        self.conv_2 = nn.Conv1d(emb_dim, out_channels, kernel_sizes[2], padding=0, stride=1)\n",
        "        \n",
        "        \n",
        "    def forward(self, text):\n",
        "        \n",
        "        embedded = self.embedding(torch.tensor(text, dtype=torch.long)).unsqueeze(0)\n",
        "        print(embedded.shape)\n",
        "        embedded = embedded.permute(0, 2, 1)  \n",
        "        \n",
        "        conved_0 = F.relu(self.conv_0(embedded))  \n",
        "        print(conved_0.shape)\n",
        "        conved_1 = F.relu(self.conv_1(embedded))  \n",
        "        conved_2 = F.relu(self.conv_2(embedded)) \n",
        "        \n",
        "        pooled_0 = F.max_pool1d(conved_0, conved_0.shape[2]).squeeze(2)\n",
        "        pooled_1 = F.max_pool1d(conved_1, conved_1.shape[2]).squeeze(2)\n",
        "        pooled_2 = F.max_pool1d(conved_2, conved_2.shape[2]).squeeze(2)\n",
        "        \n",
        "        cat = torch.cat((pooled_0, pooled_1, pooled_2), dim=1)\n",
        "            \n",
        "        return cat"
      ],
      "execution_count": null,
      "outputs": []
    },
    {
      "cell_type": "code",
      "metadata": {
        "id": "kjCWTUsoOw4E"
      },
      "source": [
        "kernel_sizes = [3, 4, 5]\n",
        "\n",
        "out_channels=1\n",
        "dim = 300\n",
        "\n",
        "model = None\n",
        "torch.cuda.empty_cache()\n",
        "model = CharEmbByCNN(vocab_size=len(chars_vocab), emb_dim=dim, out_channels=out_channels,\n",
        "            kernel_sizes=kernel_sizes)"
      ],
      "execution_count": null,
      "outputs": []
    },
    {
      "cell_type": "code",
      "metadata": {
        "colab": {
          "base_uri": "https://localhost:8080/"
        },
        "id": "PMNl0sC1PfgB",
        "outputId": "605e1ec5-98eb-4cd4-d04f-84e40bbb28ce"
      },
      "source": [
        "model(encoded[3])"
      ],
      "execution_count": null,
      "outputs": [
        {
          "output_type": "stream",
          "text": [
            "torch.Size([1, 11, 300])\n",
            "torch.Size([1, 1, 6])\n"
          ],
          "name": "stdout"
        },
        {
          "output_type": "stream",
          "text": [
            "/usr/local/lib/python3.7/dist-packages/torch/nn/functional.py:652: UserWarning: Named tensors and all their associated APIs are an experimental feature and subject to change. Please do not use them for anything important until they are released as stable. (Triggered internally at  /pytorch/c10/core/TensorImpl.h:1156.)\n",
            "  return torch.max_pool1d(input, kernel_size, stride, padding, dilation, ceil_mode)\n"
          ],
          "name": "stderr"
        },
        {
          "output_type": "execute_result",
          "data": {
            "text/plain": [
              "tensor([[0.8046, 1.1995, 0.1108]], grad_fn=<CatBackward>)"
            ]
          },
          "metadata": {
            "tags": []
          },
          "execution_count": 112
        }
      ]
    },
    {
      "cell_type": "code",
      "metadata": {
        "id": "lCRUMfkwRLJw"
      },
      "source": [
        "# class BiDAF_Dataset(Dataset):\n",
        "#     def __init__(self, data, tokenizer, max_length=400): #\n",
        "#         self.data = data\n",
        "#         self.tokenizer = tokenizer\n",
        "#         self.max_length = max_length\n",
        "#         self.labels = [False, True]\n",
        "#         self.label2num = {l: num for num, l in enumerate(self.labels)}\n",
        "\n",
        "#     def __getitem__(self, index):\n",
        "#         question = self.data['question'][index]\n",
        "#         answer = self.data['answer'][index]\n",
        "#         passage = self.data['passage'][index]\n",
        "\n",
        "#         tokenizer_output = self.tokenizer.encode_plus(\n",
        "#                             question,\n",
        "#                             passage,\n",
        "#                             add_special_tokens=True,\n",
        "#                             max_length=self.max_length,\n",
        "#                             pad_to_max_length=True,\n",
        "#                             truncation_strategy='longest_first',\n",
        "#                             return_token_type_ids=True\n",
        "#         )\n",
        "  \n",
        "#         target = self.label2num[answer]\n",
        "\n",
        "\n",
        "#         return {\n",
        "#             'input_ids': torch.tensor(tokenizer_output['input_ids'], dtype=torch.long).squeeze(0),\n",
        "#             'token_type_ids': torch.tensor(tokenizer_output['token_type_ids'], dtype=torch.long).squeeze(0),\n",
        "#             'attention_mask': torch.tensor(tokenizer_output['attention_mask'], dtype=torch.long).squeeze(0),\n",
        "#             'labels': torch.tensor(target, dtype=torch.long).squeeze(0)\n",
        "#         }\n",
        "\n",
        "#     def __len__(self):\n",
        "#         return len(self.data['question'])"
      ],
      "execution_count": null,
      "outputs": []
    },
    {
      "cell_type": "code",
      "metadata": {
        "id": "iwheWEbQwuw-"
      },
      "source": [
        "class BiDAF(nn.Module):\n",
        "    def __init__(self, char_vocab_size, char_dim, pretrained, input_size, hidden_size, num_layers, batch_size, bidirectional):\n",
        "        super(BiDAF, self).__init__()\n",
        "        # self.char_vocab_size = char_vocab_size\n",
        "        # self.char_dim = char_dim\n",
        "        self.input_size = input_size\n",
        "        self.hidden_size = hidden_size\n",
        "        self.num_layers = num_layers\n",
        "        self.batch_size = batch_size\n",
        "        \n",
        "        # 1. Character Embedding Layer\n",
        "        # self.char_emb = nn.Embedding(char_vocab_size, char_dim, padding_idx=1)\n",
        "        # nn.init.uniform_(self.char_emb.weight, -0.001, 0.001)\n",
        "\n",
        "        # self.char_conv = nn.Sequential(\n",
        "        #     nn.Conv2d(1, char_channel_size, (char_dim, char_channel_width)),\n",
        "        #     nn.ReLU()\n",
        "        #     )\n",
        "\n",
        "        # 2. Word Embedding Layer\n",
        "        # initialize word embedding with GloVe\n",
        "        # self.word_emb = nn.Embedding.from_pretrained(pretrained, freeze=True)\n",
        "\n",
        "            \n",
        "        self.bilstm_query = nn.LSTM(input_size, hidden_size,num_layers,bias=True,dropout=0.2,  bidirectional=True)\n",
        "        self.bilstm_context =  nn.LSTM(input_size, hidden_size,num_layers,bias=True,dropout=0.2,  bidirectional=True)\n",
        "        \n",
        "        self.bilstm_query.zero_grad()\n",
        "        self.bilstm_context.zero_grad()\n",
        "        d = hidden_size\n",
        "        self.att_model = nn.Linear(6*d, 1, bias=True)\n",
        "        self.att_model1 = nn.Linear(8*d, 8*d, bias= True)\n",
        "\n",
        "        self.bi_lstm2 =  nn.LSTM(8*d, hidden_size,num_layers,bias=True,dropout=0.2,  bidirectional=True)\n",
        "        self.bi_lstm3 = nn.LSTM(2*d, hidden_size,num_layers,bias=True,dropout=0.2,  bidirectional=True)\n",
        "\n",
        "        self.out_layer_1 =nn.Linear(10*d, 1,bias = True)\n",
        "        self.out_layer_2 = nn.Linear(10*d, 1, bias = True)\n",
        "\n",
        "        self.dropout=nn.Dropout(0.2)\n",
        "\n",
        "    def forward(self, X, Q):\n",
        "        T = X.shape[0]\n",
        "        J = Q.shape[0]\n",
        "        d= self.hidden_size\n",
        "        self.bilstm_query.flatten_parameters()\n",
        "        self.bilstm_context.flatten_parameters()\n",
        "        self.bi_lstm2.flatten_parameters()\n",
        "        self.bi_lstm3.flatten_parameters()\n",
        "\n",
        "\n",
        "        H, _ = self.bilstm_context(X, None) # T,B,2* hidden_size\n",
        "        U, _ =self.bilstm_query(Q, None)   # J, B, 2*hidden_size\n",
        "      \n",
        "      \n",
        "        B = H.shape[1]\n",
        "        S = torch.zeros(T, B, J, requires_grad=True).cuda()\n",
        "        for i in range(T):\n",
        "            for j in range(J):\n",
        "                for b in range(B):\n",
        "                    input_data = torch.cat([H[i,b,:], U[j,b,:], H[i,b,:]*U[j,b,:]])\n",
        "                    S[i,b,j] = self.att_model(input_data)\n",
        "\n",
        "        ### Attention layers - context2query layer\n",
        "        \n",
        "        a = torch.zeros(S.shape,requires_grad=True).cuda()\n",
        "        for t in range(T):\n",
        "            for b in range(B):\n",
        "                a[t,b,:] = nn.functional.softmax(S[t,b,:], dim=0 )\n",
        "        U_tilda = torch.zeros((2*d,B, T)).cuda()\n",
        "        for t in range(T):\n",
        "            for j in range(J):\n",
        "                for ba in range(B):\n",
        "\n",
        "                    U_tilda[:,ba,t] += a[t,ba,j]*U[j,ba,:]\n",
        "\n",
        "\n",
        "\n",
        "        ### Attention layers - query2context layer\n",
        "\n",
        "        b= torch.zeros((T, B), requires_grad=True).cuda()\n",
        "        for ba in range(B):\n",
        "            b[:, ba], _ =S[:,ba,:].max(1)\n",
        "\n",
        "\n",
        "        h_tilda = torch.zeros((2*d, B), requires_grad=True).cuda()\n",
        "        for t in range(T):\n",
        "            for ba in range(B):\n",
        "                h_tilda[:, ba] += b[t,ba]*H[t,ba,:]\n",
        "\n",
        "\n",
        "        H_tilda = torch.zeros((2*d, B, T), requires_grad=True).cuda()\n",
        "        for ba in range(B):\n",
        "            H_tilda[:,ba, :] = h_tilda[:,ba].repeat(T,1).transpose_(0,1)\n",
        "\n",
        "        ### Query aware representation of the context words\n",
        "\n",
        "        G = torch.zeros((8*d,B, T),requires_grad=True).cuda()\n",
        "        for i in range(T):\n",
        "            for ba in range(B):\n",
        "                input_data = torch.cat([H[i,ba, :], U_tilda[:,ba,i], H[i,ba,:]*U_tilda[:,ba,i], H[i,ba,:]*H_tilda[:,ba,i]])\n",
        "                G[:,ba,i] = self.att_model1(input_data)\n",
        "        #print('\\n\\n\\n\\n\\\\n\\n')\n",
        "        #G = G.reshape([T,B,d])\n",
        "\n",
        "        G = G.view([T,B,8*d])\n",
        "\n",
        "        M, _ = self.bi_lstm2(G, None)\n",
        "        M1 = M\n",
        "        #M1=(M.reshape(M.shape[0], M.shape[2])).transpose_(0, 1)\n",
        "\n",
        "        ### Output layer : application specific layer\n",
        "\n",
        "        M2, _ = self.bi_lstm3(M, None)\n",
        "        #M2= (M2.reshape(M2.shape[0], M2.shape[2])).transpose_(0, 1)\n",
        "        p1 = torch.zeros([T,B],requires_grad=True).cuda()\n",
        "        p2 = torch.zeros([T,B],requires_grad=True).cuda()\n",
        "  \n",
        "        for ba in range(B):\n",
        "            for t in range(T):\n",
        "                p1[t, ba] = self.out_layer_1(torch.cat([G,M1],2)[t,ba,:]    )\n",
        "                p2[t, ba] = self.out_layer_2(torch.cat([G,M2],2)[t,ba,:]    )\n",
        "\n",
        "        p1_ = nn.functional.softmax(p1, dim=1)\n",
        "        p2_ = nn.functional.softmax(p2, dim=1)\n",
        "        return p1_, p2_\n"
      ],
      "execution_count": null,
      "outputs": []
    },
    {
      "cell_type": "markdown",
      "metadata": {
        "id": "IMXmEGfgqj4W"
      },
      "source": [
        "## Часть 6. Итоги (2 балла)\n",
        "Напишите краткое резюме проделанной работы. Сравните результаты всех разработанных моделей. Что помогло вам в выполнении работы, чего не хватало?"
      ]
    },
    {
      "cell_type": "markdown",
      "metadata": {
        "id": "CqWK0mrlv173"
      },
      "source": [
        "При базовой, первоначальной прогонке, получились следующие результаты:\n",
        "1. Константная модель: 0.62\n",
        "2. FASTTEXT: 0.69\n",
        "3. Bert pretrained embeddings + logreg: 0.66\n",
        "4. Fine-Tuning Bert: ~0.75\n",
        "5. Не удалось закончить\n",
        "\n",
        "К сожалению, не хватило времени и сил. Или же навыков работы с библиотеками. Много новых моментов приходилось разбирать с нуля. Задание интересное, продолжу его доделывать дальше."
      ]
    }
  ]
}
